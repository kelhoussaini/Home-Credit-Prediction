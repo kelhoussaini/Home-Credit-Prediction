{
 "cells": [
  {
   "cell_type": "markdown",
   "id": "8cdc55ec",
   "metadata": {},
   "source": [
    "# Import packages"
   ]
  },
  {
   "cell_type": "code",
   "execution_count": 1,
   "id": "a91970e9",
   "metadata": {},
   "outputs": [],
   "source": [
    "#from sklearn.preprocessing import OneHotEncoder\n",
    "import pandas as pd\n",
    "import numpy as np\n",
    "import seaborn as sns\n",
    "\n",
    "import matplotlib.pyplot as plt"
   ]
  },
  {
   "cell_type": "markdown",
   "id": "4a7931ff",
   "metadata": {},
   "source": [
    "# Get Data"
   ]
  },
  {
   "cell_type": "code",
   "execution_count": 2,
   "id": "732a3289",
   "metadata": {},
   "outputs": [],
   "source": [
    "data = pd.read_csv('../raw_data/application_train.csv')"
   ]
  },
  {
   "cell_type": "code",
   "execution_count": 3,
   "id": "a387b61e",
   "metadata": {},
   "outputs": [],
   "source": [
    "df = data.copy()"
   ]
  },
  {
   "cell_type": "code",
   "execution_count": 4,
   "id": "45c4dbe5",
   "metadata": {},
   "outputs": [
    {
     "data": {
      "text/html": [
       "<div>\n",
       "<style scoped>\n",
       "    .dataframe tbody tr th:only-of-type {\n",
       "        vertical-align: middle;\n",
       "    }\n",
       "\n",
       "    .dataframe tbody tr th {\n",
       "        vertical-align: top;\n",
       "    }\n",
       "\n",
       "    .dataframe thead th {\n",
       "        text-align: right;\n",
       "    }\n",
       "</style>\n",
       "<table border=\"1\" class=\"dataframe\">\n",
       "  <thead>\n",
       "    <tr style=\"text-align: right;\">\n",
       "      <th></th>\n",
       "      <th>SK_ID_CURR</th>\n",
       "      <th>TARGET</th>\n",
       "      <th>NAME_CONTRACT_TYPE</th>\n",
       "      <th>CODE_GENDER</th>\n",
       "      <th>FLAG_OWN_CAR</th>\n",
       "      <th>FLAG_OWN_REALTY</th>\n",
       "      <th>CNT_CHILDREN</th>\n",
       "      <th>AMT_INCOME_TOTAL</th>\n",
       "      <th>AMT_CREDIT</th>\n",
       "      <th>AMT_ANNUITY</th>\n",
       "      <th>...</th>\n",
       "      <th>FLAG_DOCUMENT_18</th>\n",
       "      <th>FLAG_DOCUMENT_19</th>\n",
       "      <th>FLAG_DOCUMENT_20</th>\n",
       "      <th>FLAG_DOCUMENT_21</th>\n",
       "      <th>AMT_REQ_CREDIT_BUREAU_HOUR</th>\n",
       "      <th>AMT_REQ_CREDIT_BUREAU_DAY</th>\n",
       "      <th>AMT_REQ_CREDIT_BUREAU_WEEK</th>\n",
       "      <th>AMT_REQ_CREDIT_BUREAU_MON</th>\n",
       "      <th>AMT_REQ_CREDIT_BUREAU_QRT</th>\n",
       "      <th>AMT_REQ_CREDIT_BUREAU_YEAR</th>\n",
       "    </tr>\n",
       "  </thead>\n",
       "  <tbody>\n",
       "    <tr>\n",
       "      <th>0</th>\n",
       "      <td>100002</td>\n",
       "      <td>1</td>\n",
       "      <td>Cash loans</td>\n",
       "      <td>M</td>\n",
       "      <td>N</td>\n",
       "      <td>Y</td>\n",
       "      <td>0</td>\n",
       "      <td>202500.0</td>\n",
       "      <td>406597.5</td>\n",
       "      <td>24700.5</td>\n",
       "      <td>...</td>\n",
       "      <td>0</td>\n",
       "      <td>0</td>\n",
       "      <td>0</td>\n",
       "      <td>0</td>\n",
       "      <td>0.0</td>\n",
       "      <td>0.0</td>\n",
       "      <td>0.0</td>\n",
       "      <td>0.0</td>\n",
       "      <td>0.0</td>\n",
       "      <td>1.0</td>\n",
       "    </tr>\n",
       "    <tr>\n",
       "      <th>1</th>\n",
       "      <td>100003</td>\n",
       "      <td>0</td>\n",
       "      <td>Cash loans</td>\n",
       "      <td>F</td>\n",
       "      <td>N</td>\n",
       "      <td>N</td>\n",
       "      <td>0</td>\n",
       "      <td>270000.0</td>\n",
       "      <td>1293502.5</td>\n",
       "      <td>35698.5</td>\n",
       "      <td>...</td>\n",
       "      <td>0</td>\n",
       "      <td>0</td>\n",
       "      <td>0</td>\n",
       "      <td>0</td>\n",
       "      <td>0.0</td>\n",
       "      <td>0.0</td>\n",
       "      <td>0.0</td>\n",
       "      <td>0.0</td>\n",
       "      <td>0.0</td>\n",
       "      <td>0.0</td>\n",
       "    </tr>\n",
       "  </tbody>\n",
       "</table>\n",
       "<p>2 rows × 122 columns</p>\n",
       "</div>"
      ],
      "text/plain": [
       "   SK_ID_CURR  TARGET NAME_CONTRACT_TYPE CODE_GENDER FLAG_OWN_CAR  \\\n",
       "0      100002       1         Cash loans           M            N   \n",
       "1      100003       0         Cash loans           F            N   \n",
       "\n",
       "  FLAG_OWN_REALTY  CNT_CHILDREN  AMT_INCOME_TOTAL  AMT_CREDIT  AMT_ANNUITY  \\\n",
       "0               Y             0          202500.0    406597.5      24700.5   \n",
       "1               N             0          270000.0   1293502.5      35698.5   \n",
       "\n",
       "   ...  FLAG_DOCUMENT_18 FLAG_DOCUMENT_19 FLAG_DOCUMENT_20 FLAG_DOCUMENT_21  \\\n",
       "0  ...                 0                0                0                0   \n",
       "1  ...                 0                0                0                0   \n",
       "\n",
       "  AMT_REQ_CREDIT_BUREAU_HOUR AMT_REQ_CREDIT_BUREAU_DAY  \\\n",
       "0                        0.0                       0.0   \n",
       "1                        0.0                       0.0   \n",
       "\n",
       "   AMT_REQ_CREDIT_BUREAU_WEEK  AMT_REQ_CREDIT_BUREAU_MON  \\\n",
       "0                         0.0                        0.0   \n",
       "1                         0.0                        0.0   \n",
       "\n",
       "   AMT_REQ_CREDIT_BUREAU_QRT  AMT_REQ_CREDIT_BUREAU_YEAR  \n",
       "0                        0.0                         1.0  \n",
       "1                        0.0                         0.0  \n",
       "\n",
       "[2 rows x 122 columns]"
      ]
     },
     "execution_count": 4,
     "metadata": {},
     "output_type": "execute_result"
    }
   ],
   "source": [
    "df.head(2)"
   ]
  },
  {
   "cell_type": "code",
   "execution_count": 5,
   "id": "acd8c7dd",
   "metadata": {},
   "outputs": [
    {
     "data": {
      "text/plain": [
       "(307511, 122)"
      ]
     },
     "execution_count": 5,
     "metadata": {},
     "output_type": "execute_result"
    }
   ],
   "source": [
    "df.shape"
   ]
  },
  {
   "cell_type": "markdown",
   "id": "085f00d8",
   "metadata": {},
   "source": [
    " # Remove some entries"
   ]
  },
  {
   "cell_type": "markdown",
   "id": "314dde69",
   "metadata": {},
   "source": [
    "Looking at /notebooks/Data_Preparation.ipynb\n",
    "Some categorical variables includes values which are not empty but are not defined\n",
    "- labelled as XNA for 'CODE_GENDER'\n",
    "- Unknown for 'NAME_FAMILY_STATUS'\n",
    "\n",
    "Let's Remove these entries"
   ]
  },
  {
   "cell_type": "code",
   "execution_count": 6,
   "id": "dd876359",
   "metadata": {},
   "outputs": [
    {
     "data": {
      "text/plain": [
       "Married                 196432\n",
       "Single / not married     45444\n",
       "Civil marriage           29775\n",
       "Separated                19770\n",
       "Widow                    16088\n",
       "Unknown                      2\n",
       "Name: NAME_FAMILY_STATUS, dtype: int64"
      ]
     },
     "execution_count": 6,
     "metadata": {},
     "output_type": "execute_result"
    }
   ],
   "source": [
    "df['NAME_FAMILY_STATUS'].value_counts()"
   ]
  },
  {
   "cell_type": "code",
   "execution_count": 7,
   "id": "a7dfb1c3",
   "metadata": {},
   "outputs": [
    {
     "data": {
      "text/plain": [
       "F      202448\n",
       "M      105059\n",
       "XNA         4\n",
       "Name: CODE_GENDER, dtype: int64"
      ]
     },
     "execution_count": 7,
     "metadata": {},
     "output_type": "execute_result"
    }
   ],
   "source": [
    "df['CODE_GENDER'].value_counts()"
   ]
  },
  {
   "cell_type": "code",
   "execution_count": 8,
   "id": "350148bd",
   "metadata": {},
   "outputs": [
    {
     "data": {
      "text/plain": [
       "(307511, 122)"
      ]
     },
     "execution_count": 8,
     "metadata": {},
     "output_type": "execute_result"
    }
   ],
   "source": [
    "df.shape"
   ]
  },
  {
   "cell_type": "code",
   "execution_count": 9,
   "id": "6ae017db",
   "metadata": {},
   "outputs": [
    {
     "data": {
      "text/plain": [
       "(307505, 122)"
      ]
     },
     "execution_count": 9,
     "metadata": {},
     "output_type": "execute_result"
    }
   ],
   "source": [
    "# Remove entries with gender = XNA\n",
    "df = df[df['CODE_GENDER'] != 'XNA']\n",
    "\n",
    "# Remove entries with gender = XNA\n",
    "df = df[df['NAME_FAMILY_STATUS'] != 'Unknown']\n",
    "\n",
    "df.shape"
   ]
  },
  {
   "cell_type": "markdown",
   "id": "4e714711",
   "metadata": {},
   "source": [
    "# Outliers"
   ]
  },
  {
   "cell_type": "code",
   "execution_count": 11,
   "id": "cd69f2ce",
   "metadata": {},
   "outputs": [
    {
     "data": {
      "text/plain": [
       " 365243    55374\n",
       "-200         156\n",
       "-224         152\n",
       "-199         151\n",
       "-230         151\n",
       "           ...  \n",
       "-12588         1\n",
       "-8229          1\n",
       "-12794         1\n",
       "-11823         1\n",
       "-8694          1\n",
       "Name: DAYS_EMPLOYED, Length: 12574, dtype: int64"
      ]
     },
     "execution_count": 11,
     "metadata": {},
     "output_type": "execute_result"
    }
   ],
   "source": [
    "# Show all unique values\n",
    "df['DAYS_EMPLOYED'].value_counts()"
   ]
  },
  {
   "cell_type": "code",
   "execution_count": 10,
   "id": "23e0c511",
   "metadata": {},
   "outputs": [
    {
     "data": {
      "image/png": "[encoded data removed]",
      "text/plain": [
       "<Figure size 720x288 with 1 Axes>"
      ]
     },
     "metadata": {
      "needs_background": "light"
     },
     "output_type": "display_data"
    }
   ],
   "source": [
    "plt.figure(figsize = (10, 4))\n",
    "sns.histplot(df['DAYS_EMPLOYED'], kde=True, bins= 50);"
   ]
  },
  {
   "cell_type": "markdown",
   "id": "5dcb5e42",
   "metadata": {},
   "source": [
    "The values mean Days since employed "
   ]
  },
  {
   "cell_type": "code",
   "execution_count": 15,
   "id": "ec56c6c9",
   "metadata": {},
   "outputs": [
    {
     "data": {
      "text/plain": [
       "(365243, 1000.6657534246575)"
      ]
     },
     "execution_count": 15,
     "metadata": {},
     "output_type": "execute_result"
    }
   ],
   "source": [
    "max(df['DAYS_EMPLOYED']), max(df['DAYS_EMPLOYED'])/365 \n",
    "# 350_000  days? That's like 1_000 years! \n",
    "# which is not a reasonable value"
   ]
  },
  {
   "cell_type": "code",
   "execution_count": 16,
   "id": "331a7035",
   "metadata": {},
   "outputs": [
    {
     "data": {
      "text/plain": [
       "(252131, 122)"
      ]
     },
     "execution_count": 16,
     "metadata": {},
     "output_type": "execute_result"
    }
   ],
   "source": [
    "# Remove entries with DAYS_EMPLOYED > 200_000\n",
    "df = df[df['DAYS_EMPLOYED'] < 200_000]\n",
    "\n",
    "df.shape # Previous df.shape : (307505, 122)"
   ]
  },
  {
   "cell_type": "markdown",
   "id": "31e883a3",
   "metadata": {},
   "source": [
    "# Distributions"
   ]
  },
  {
   "cell_type": "markdown",
   "id": "6e7b5c4b",
   "metadata": {},
   "source": [
    "## Days employed"
   ]
  },
  {
   "cell_type": "code",
   "execution_count": 17,
   "id": "d6882e67",
   "metadata": {
    "scrolled": true
   },
   "outputs": [
    {
     "data": {
      "image/png": "[encoded data removed]",
      "text/plain": [
       "<Figure size 720x288 with 1 Axes>"
      ]
     },
     "metadata": {
      "needs_background": "light"
     },
     "output_type": "display_data"
    }
   ],
   "source": [
    "# Plot the distribution number of days employed\n",
    "\n",
    "plt.figure(figsize = (10, 4))\n",
    "sns.histplot(df['DAYS_EMPLOYED'], kde=True, bins= 50);"
   ]
  },
  {
   "cell_type": "code",
   "execution_count": null,
   "id": "6e5c6d17",
   "metadata": {},
   "outputs": [],
   "source": [
    "Most probably, the negative values do not mean Unemployed, but only past records."
   ]
  },
  {
   "cell_type": "code",
   "execution_count": 23,
   "id": "fa406b59",
   "metadata": {},
   "outputs": [
    {
     "data": {
      "image/png": "[encoded data removed]",
      "text/plain": [
       "<Figure size 720x288 with 1 Axes>"
      ]
     },
     "metadata": {
      "needs_background": "light"
     },
     "output_type": "display_data"
    }
   ],
   "source": [
    "# Plot the distribution number of days employed\n",
    "\n",
    "plt.figure(figsize = (10, 4))\n",
    "sns.histplot(df['DAYS_EMPLOYED']/365, kde=True, bins= 50);"
   ]
  },
  {
   "cell_type": "markdown",
   "id": "f9afe68b",
   "metadata": {},
   "source": [
    "The employment period range is between approximative 0 and 49 years."
   ]
  },
  {
   "cell_type": "markdown",
   "id": "889f57e1",
   "metadata": {},
   "source": [
    "## Days from birth"
   ]
  },
  {
   "cell_type": "code",
   "execution_count": 21,
   "id": "3a300f02",
   "metadata": {},
   "outputs": [
    {
     "data": {
      "image/png": "[encoded data removed]",
      "text/plain": [
       "<Figure size 720x288 with 1 Axes>"
      ]
     },
     "metadata": {
      "needs_background": "light"
     },
     "output_type": "display_data"
    }
   ],
   "source": [
    "# Plot the distribution number of days from birth.\n",
    "\n",
    "plt.figure(figsize = (10, 4))\n",
    "sns.histplot(df['DAYS_BIRTH'], kde=True, bins= 50);"
   ]
  },
  {
   "cell_type": "markdown",
   "id": "9f53c742",
   "metadata": {},
   "source": [
    "The negative value means that the date of birth is in the past. "
   ]
  },
  {
   "cell_type": "code",
   "execution_count": 22,
   "id": "08455c15",
   "metadata": {
    "scrolled": true
   },
   "outputs": [
    {
     "data": {
      "image/png": "[encoded data removed]",
      "text/plain": [
       "<Figure size 720x288 with 1 Axes>"
      ]
     },
     "metadata": {
      "needs_background": "light"
     },
     "output_type": "display_data"
    }
   ],
   "source": [
    "# Plot the distribution number of days from birth.\n",
    "\n",
    "plt.figure(figsize = (10, 4))\n",
    "sns.histplot(df['DAYS_BIRTH']/365, kde=True, bins= 50);"
   ]
  },
  {
   "cell_type": "markdown",
   "id": "96852ffb",
   "metadata": {},
   "source": [
    "The age range is between approximative 20 and 68 years."
   ]
  },
  {
   "cell_type": "markdown",
   "id": "71f3ab45",
   "metadata": {},
   "source": [
    "## Days of registration"
   ]
  },
  {
   "cell_type": "code",
   "execution_count": 26,
   "id": "fcd652be",
   "metadata": {
    "scrolled": true
   },
   "outputs": [
    {
     "data": {
      "image/png": "[encoded data removed]",
      "text/plain": [
       "<Figure size 720x288 with 1 Axes>"
      ]
     },
     "metadata": {
      "needs_background": "light"
     },
     "output_type": "display_data"
    }
   ],
   "source": [
    "# Plot the distribution of days registration\n",
    "\n",
    "plt.figure(figsize = (10, 4))\n",
    "sns.histplot(df['DAYS_REGISTRATION']/365, kde=True, bins= 50);"
   ]
  },
  {
   "cell_type": "markdown",
   "id": "d0d42cb5",
   "metadata": {},
   "source": [
    "## Table : Days from birth and since employed"
   ]
  },
  {
   "cell_type": "code",
   "execution_count": 47,
   "id": "b86ed80b",
   "metadata": {},
   "outputs": [
    {
     "data": {
      "text/html": [
       "<div>\n",
       "<style scoped>\n",
       "    .dataframe tbody tr th:only-of-type {\n",
       "        vertical-align: middle;\n",
       "    }\n",
       "\n",
       "    .dataframe tbody tr th {\n",
       "        vertical-align: top;\n",
       "    }\n",
       "\n",
       "    .dataframe thead th {\n",
       "        text-align: right;\n",
       "    }\n",
       "</style>\n",
       "<table border=\"1\" class=\"dataframe\">\n",
       "  <thead>\n",
       "    <tr style=\"text-align: right;\">\n",
       "      <th></th>\n",
       "      <th>DAYS_BIRTH</th>\n",
       "      <th>DAYS_EMPLOYED</th>\n",
       "      <th>TARGET</th>\n",
       "    </tr>\n",
       "  </thead>\n",
       "  <tbody>\n",
       "    <tr>\n",
       "      <th>12949</th>\n",
       "      <td>-7690</td>\n",
       "      <td>-216</td>\n",
       "      <td>0</td>\n",
       "    </tr>\n",
       "    <tr>\n",
       "      <th>13589</th>\n",
       "      <td>-7689</td>\n",
       "      <td>-990</td>\n",
       "      <td>0</td>\n",
       "    </tr>\n",
       "    <tr>\n",
       "      <th>19115</th>\n",
       "      <td>-7680</td>\n",
       "      <td>-597</td>\n",
       "      <td>0</td>\n",
       "    </tr>\n",
       "    <tr>\n",
       "      <th>35956</th>\n",
       "      <td>-7683</td>\n",
       "      <td>-139</td>\n",
       "      <td>0</td>\n",
       "    </tr>\n",
       "    <tr>\n",
       "      <th>37558</th>\n",
       "      <td>-7687</td>\n",
       "      <td>-524</td>\n",
       "      <td>0</td>\n",
       "    </tr>\n",
       "    <tr>\n",
       "      <th>...</th>\n",
       "      <td>...</td>\n",
       "      <td>...</td>\n",
       "      <td>...</td>\n",
       "    </tr>\n",
       "    <tr>\n",
       "      <th>280935</th>\n",
       "      <td>-7690</td>\n",
       "      <td>-920</td>\n",
       "      <td>0</td>\n",
       "    </tr>\n",
       "    <tr>\n",
       "      <th>284744</th>\n",
       "      <td>-7692</td>\n",
       "      <td>-369</td>\n",
       "      <td>0</td>\n",
       "    </tr>\n",
       "    <tr>\n",
       "      <th>291874</th>\n",
       "      <td>-7698</td>\n",
       "      <td>-793</td>\n",
       "      <td>0</td>\n",
       "    </tr>\n",
       "    <tr>\n",
       "      <th>300617</th>\n",
       "      <td>-7700</td>\n",
       "      <td>-475</td>\n",
       "      <td>1</td>\n",
       "    </tr>\n",
       "    <tr>\n",
       "      <th>305245</th>\n",
       "      <td>-7690</td>\n",
       "      <td>-868</td>\n",
       "      <td>0</td>\n",
       "    </tr>\n",
       "  </tbody>\n",
       "</table>\n",
       "<p>84 rows × 3 columns</p>\n",
       "</div>"
      ],
      "text/plain": [
       "        DAYS_BIRTH  DAYS_EMPLOYED  TARGET\n",
       "12949        -7690           -216       0\n",
       "13589        -7689           -990       0\n",
       "19115        -7680           -597       0\n",
       "35956        -7683           -139       0\n",
       "37558        -7687           -524       0\n",
       "...            ...            ...     ...\n",
       "280935       -7690           -920       0\n",
       "284744       -7692           -369       0\n",
       "291874       -7698           -793       0\n",
       "300617       -7700           -475       1\n",
       "305245       -7690           -868       0\n",
       "\n",
       "[84 rows x 3 columns]"
      ]
     },
     "execution_count": 47,
     "metadata": {},
     "output_type": "execute_result"
    }
   ],
   "source": [
    "df[df['DAYS_BIRTH']/365 >= -21.1][['DAYS_BIRTH', 'DAYS_EMPLOYED', 'TARGET']]"
   ]
  },
  {
   "cell_type": "code",
   "execution_count": 51,
   "id": "a8c65e55",
   "metadata": {},
   "outputs": [
    {
     "data": {
      "image/png": "[encoded data removed]",
      "text/plain": [
       "<Figure size 432x288 with 1 Axes>"
      ]
     },
     "metadata": {},
     "output_type": "display_data"
    }
   ],
   "source": [
    "tab = df[df['DAYS_BIRTH']/365 >= -21.1][['DAYS_BIRTH', 'DAYS_EMPLOYED', 'TARGET']]\n",
    "tab['TARGET'].value_counts().plot.pie(explode=[0.1,0.1],autopct='%1.1f%%',shadow=True);"
   ]
  },
  {
   "cell_type": "code",
   "execution_count": 52,
   "id": "a184f397",
   "metadata": {},
   "outputs": [
    {
     "data": {
      "text/plain": [
       "(21.068493150684933, 7.2)"
      ]
     },
     "execution_count": 52,
     "metadata": {},
     "output_type": "execute_result"
    }
   ],
   "source": [
    "7690/365, 216/30\n",
    " # Here, a 21-year-old has been employed for 7 years, which looks good to repay loans"
   ]
  },
  {
   "cell_type": "code",
   "execution_count": 53,
   "id": "9d352027",
   "metadata": {},
   "outputs": [
    {
     "data": {
      "text/html": [
       "<div>\n",
       "<style scoped>\n",
       "    .dataframe tbody tr th:only-of-type {\n",
       "        vertical-align: middle;\n",
       "    }\n",
       "\n",
       "    .dataframe tbody tr th {\n",
       "        vertical-align: top;\n",
       "    }\n",
       "\n",
       "    .dataframe thead th {\n",
       "        text-align: right;\n",
       "    }\n",
       "</style>\n",
       "<table border=\"1\" class=\"dataframe\">\n",
       "  <thead>\n",
       "    <tr style=\"text-align: right;\">\n",
       "      <th></th>\n",
       "      <th>DAYS_BIRTH</th>\n",
       "      <th>DAYS_EMPLOYED</th>\n",
       "      <th>TARGET</th>\n",
       "    </tr>\n",
       "  </thead>\n",
       "  <tbody>\n",
       "    <tr>\n",
       "      <th>1976</th>\n",
       "      <td>-24695</td>\n",
       "      <td>-2392</td>\n",
       "      <td>0</td>\n",
       "    </tr>\n",
       "    <tr>\n",
       "      <th>2276</th>\n",
       "      <td>-25007</td>\n",
       "      <td>-1438</td>\n",
       "      <td>0</td>\n",
       "    </tr>\n",
       "    <tr>\n",
       "      <th>6286</th>\n",
       "      <td>-24755</td>\n",
       "      <td>-3083</td>\n",
       "      <td>0</td>\n",
       "    </tr>\n",
       "    <tr>\n",
       "      <th>6884</th>\n",
       "      <td>-24678</td>\n",
       "      <td>-2652</td>\n",
       "      <td>0</td>\n",
       "    </tr>\n",
       "    <tr>\n",
       "      <th>7181</th>\n",
       "      <td>-25075</td>\n",
       "      <td>-2309</td>\n",
       "      <td>0</td>\n",
       "    </tr>\n",
       "    <tr>\n",
       "      <th>...</th>\n",
       "      <td>...</td>\n",
       "      <td>...</td>\n",
       "      <td>...</td>\n",
       "    </tr>\n",
       "    <tr>\n",
       "      <th>298553</th>\n",
       "      <td>-24739</td>\n",
       "      <td>-6236</td>\n",
       "      <td>0</td>\n",
       "    </tr>\n",
       "    <tr>\n",
       "      <th>302386</th>\n",
       "      <td>-25068</td>\n",
       "      <td>-1617</td>\n",
       "      <td>0</td>\n",
       "    </tr>\n",
       "    <tr>\n",
       "      <th>302423</th>\n",
       "      <td>-24832</td>\n",
       "      <td>-3455</td>\n",
       "      <td>0</td>\n",
       "    </tr>\n",
       "    <tr>\n",
       "      <th>303130</th>\n",
       "      <td>-24776</td>\n",
       "      <td>-1513</td>\n",
       "      <td>0</td>\n",
       "    </tr>\n",
       "    <tr>\n",
       "      <th>305814</th>\n",
       "      <td>-24968</td>\n",
       "      <td>-1195</td>\n",
       "      <td>0</td>\n",
       "    </tr>\n",
       "  </tbody>\n",
       "</table>\n",
       "<p>173 rows × 3 columns</p>\n",
       "</div>"
      ],
      "text/plain": [
       "        DAYS_BIRTH  DAYS_EMPLOYED  TARGET\n",
       "1976        -24695          -2392       0\n",
       "2276        -25007          -1438       0\n",
       "6286        -24755          -3083       0\n",
       "6884        -24678          -2652       0\n",
       "7181        -25075          -2309       0\n",
       "...            ...            ...     ...\n",
       "298553      -24739          -6236       0\n",
       "302386      -25068          -1617       0\n",
       "302423      -24832          -3455       0\n",
       "303130      -24776          -1513       0\n",
       "305814      -24968          -1195       0\n",
       "\n",
       "[173 rows x 3 columns]"
      ]
     },
     "execution_count": 53,
     "metadata": {},
     "output_type": "execute_result"
    }
   ],
   "source": [
    "df[df['DAYS_BIRTH']/365 < -67.6][['DAYS_BIRTH', 'DAYS_EMPLOYED', 'TARGET']]"
   ]
  },
  {
   "cell_type": "code",
   "execution_count": 54,
   "id": "44065b95",
   "metadata": {},
   "outputs": [
    {
     "data": {
      "text/plain": [
       "(67.65753424657534, 6.553424657534246)"
      ]
     },
     "execution_count": 54,
     "metadata": {},
     "output_type": "execute_result"
    }
   ],
   "source": [
    "24695/365, 2392/365\n",
    "# Here, a 67-year-old has only been employed for 6 years, which is may be hard to repay loans !"
   ]
  },
  {
   "cell_type": "code",
   "execution_count": 55,
   "id": "d388d25b",
   "metadata": {},
   "outputs": [
    {
     "data": {
      "image/png": "[encoded data removed]",
      "text/plain": [
       "<Figure size 432x288 with 1 Axes>"
      ]
     },
     "metadata": {},
     "output_type": "display_data"
    }
   ],
   "source": [
    "tab = df[df['DAYS_BIRTH']/365 < -67.6][['DAYS_BIRTH', 'DAYS_EMPLOYED', 'TARGET']]\n",
    "tab['TARGET'].value_counts().plot.pie(explode=[0.1,0.1],autopct='%1.1f%%',shadow=True);"
   ]
  }
 ],
 "metadata": {
  "kernelspec": {
   "display_name": "Python 3 (ipykernel)",
   "language": "python",
   "name": "python3"
  },
  "language_info": {
   "codemirror_mode": {
    "name": "ipython",
    "version": 3
   },
   "file_extension": ".py",
   "mimetype": "text/x-python",
   "name": "python",
   "nbconvert_exporter": "python",
   "pygments_lexer": "ipython3",
   "version": "3.8.6"
  },
  "toc": {
   "base_numbering": 1,
   "nav_menu": {},
   "number_sections": true,
   "sideBar": true,
   "skip_h1_title": false,
   "title_cell": "Table of Contents",
   "title_sidebar": "Contents",
   "toc_cell": false,
   "toc_position": {},
   "toc_section_display": true,
   "toc_window_display": true
  }
 },
 "nbformat": 4,
 "nbformat_minor": 5
}
