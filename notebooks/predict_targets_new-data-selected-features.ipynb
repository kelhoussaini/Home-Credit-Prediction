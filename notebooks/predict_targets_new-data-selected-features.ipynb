{
 "cells": [
  {
   "cell_type": "code",
   "execution_count": 1,
   "id": "f0653cc6",
   "metadata": {},
   "outputs": [],
   "source": [
    "import os\n",
    "import sys\n",
    "import pandas as pd"
   ]
  },
  {
   "cell_type": "code",
   "execution_count": 2,
   "id": "e2777419",
   "metadata": {},
   "outputs": [],
   "source": [
    "path_dir = (os.path.dirname(os.getcwd()))\n",
    "sys.path.append(path_dir)\n",
    "    \n",
    "from homecredit.data import HomeCredit\n",
    "from homecredit.preparation import Preparation\n",
    "from homecredit.cleaner import Cleaning\n",
    "from homecredit.exploration import Exploration\n",
    "from homecredit.encoder import Encoder\n",
    "from homecredit.model import Modeling"
   ]
  },
  {
   "cell_type": "code",
   "execution_count": 3,
   "id": "948c7eff",
   "metadata": {},
   "outputs": [],
   "source": [
    "from sklearn.linear_model import LogisticRegression\n",
    "#from sklearn.tree import DecisionTreeClassifier\n",
    "#from sklearn.neighbors import KNeighborsClassifier\n",
    "\n",
    "import pickle"
   ]
  },
  {
   "cell_type": "markdown",
   "id": "8d13c59f",
   "metadata": {},
   "source": [
    "# Load models from pickle file"
   ]
  },
  {
   "cell_type": "code",
   "execution_count": 4,
   "id": "c8314a3f",
   "metadata": {},
   "outputs": [
    {
     "data": {
      "text/plain": [
       "[{'Name ': 'LR',\n",
       "  'Model ': LogisticRegression(max_iter=1000),\n",
       "  ' scoring': 'accuracy',\n",
       "  ' train score': 0.9134243287479762,\n",
       "  'time_run (mins)': 0.6298624356587728},\n",
       " {'Name ': 'DTC',\n",
       "  'Model ': DecisionTreeClassifier(),\n",
       "  ' scoring': 'accuracy',\n",
       "  ' train score': 0.8400163327284573,\n",
       "  'time_run (mins)': 0.2218425671259562}]"
      ]
     },
     "execution_count": 4,
     "metadata": {},
     "output_type": "execute_result"
    }
   ],
   "source": [
    "# Load model from pickle file\n",
    "my_model = pickle.load(open(\"models_selected_features.pckl\",\"rb\"))\n",
    "\n",
    "my_model"
   ]
  },
  {
   "cell_type": "raw",
   "id": "b8caac7a",
   "metadata": {},
   "source": [
    "Best model in this case : LogisticRegression(max_iter=1000)"
   ]
  },
  {
   "cell_type": "markdown",
   "id": "53ded6c3",
   "metadata": {},
   "source": [
    "# Model Prediction for new data : 'test' data_set"
   ]
  },
  {
   "cell_type": "code",
   "execution_count": 5,
   "id": "f196b52c",
   "metadata": {
    "scrolled": true
   },
   "outputs": [],
   "source": [
    "mask = ['CODE_GENDER', 'FLAG_OWN_CAR', 'OCCUPATION_TYPE',  # categ\n",
    "        'NAME_INCOME_TYPE', 'NAME_TYPE_SUITE', # categ \n",
    "       'EXT_SOURCE_3', 'DAYS_EMPLOYED', 'FLOORSMAX_AVG',  # num \n",
    "        'DAYS_BIRTH', 'REGION_RATING_CLIENT_W_CITY', 'TARGET'# num\n",
    "       ]\n",
    "\n",
    "\n",
    "ml = Modeling(data_set = 'train', cols = mask, newdf = None)"
   ]
  },
  {
   "cell_type": "code",
   "execution_count": 6,
   "id": "fa138fa1",
   "metadata": {},
   "outputs": [
    {
     "data": {
      "text/plain": [
       "dict_keys(['cols', 'en', 'data', 'new_data'])"
      ]
     },
     "execution_count": 6,
     "metadata": {},
     "output_type": "execute_result"
    }
   ],
   "source": [
    "ml.__dict__.keys()"
   ]
  },
  {
   "cell_type": "code",
   "execution_count": 7,
   "id": "1e4ee4a4",
   "metadata": {},
   "outputs": [
    {
     "data": {
      "text/html": [
       "<div>\n",
       "<style scoped>\n",
       "    .dataframe tbody tr th:only-of-type {\n",
       "        vertical-align: middle;\n",
       "    }\n",
       "\n",
       "    .dataframe tbody tr th {\n",
       "        vertical-align: top;\n",
       "    }\n",
       "\n",
       "    .dataframe thead th {\n",
       "        text-align: right;\n",
       "    }\n",
       "</style>\n",
       "<table border=\"1\" class=\"dataframe\">\n",
       "  <thead>\n",
       "    <tr style=\"text-align: right;\">\n",
       "      <th></th>\n",
       "      <th>EXT_SOURCE_3</th>\n",
       "      <th>DAYS_EMPLOYED</th>\n",
       "      <th>FLOORSMAX_AVG</th>\n",
       "      <th>DAYS_BIRTH</th>\n",
       "      <th>REGION_RATING_CLIENT_W_CITY</th>\n",
       "      <th>TARGET</th>\n",
       "      <th>F</th>\n",
       "      <th>M</th>\n",
       "      <th>N</th>\n",
       "      <th>Y</th>\n",
       "      <th>...</th>\n",
       "      <th>State servant</th>\n",
       "      <th>Student</th>\n",
       "      <th>Working</th>\n",
       "      <th>Children</th>\n",
       "      <th>Family</th>\n",
       "      <th>Group of people</th>\n",
       "      <th>Other_A</th>\n",
       "      <th>Other_B</th>\n",
       "      <th>Spouse, partner</th>\n",
       "      <th>Unaccompanied</th>\n",
       "    </tr>\n",
       "  </thead>\n",
       "  <tbody>\n",
       "    <tr>\n",
       "      <th>0</th>\n",
       "      <td>0.139376</td>\n",
       "      <td>-637</td>\n",
       "      <td>0.0833</td>\n",
       "      <td>-9461</td>\n",
       "      <td>2</td>\n",
       "      <td>1</td>\n",
       "      <td>0</td>\n",
       "      <td>1</td>\n",
       "      <td>1</td>\n",
       "      <td>0</td>\n",
       "      <td>...</td>\n",
       "      <td>0</td>\n",
       "      <td>0</td>\n",
       "      <td>1</td>\n",
       "      <td>0</td>\n",
       "      <td>0</td>\n",
       "      <td>0</td>\n",
       "      <td>0</td>\n",
       "      <td>0</td>\n",
       "      <td>0</td>\n",
       "      <td>1</td>\n",
       "    </tr>\n",
       "    <tr>\n",
       "      <th>1</th>\n",
       "      <td>0.500345</td>\n",
       "      <td>-1188</td>\n",
       "      <td>0.2917</td>\n",
       "      <td>-16765</td>\n",
       "      <td>1</td>\n",
       "      <td>0</td>\n",
       "      <td>1</td>\n",
       "      <td>0</td>\n",
       "      <td>1</td>\n",
       "      <td>0</td>\n",
       "      <td>...</td>\n",
       "      <td>1</td>\n",
       "      <td>0</td>\n",
       "      <td>0</td>\n",
       "      <td>0</td>\n",
       "      <td>1</td>\n",
       "      <td>0</td>\n",
       "      <td>0</td>\n",
       "      <td>0</td>\n",
       "      <td>0</td>\n",
       "      <td>0</td>\n",
       "    </tr>\n",
       "  </tbody>\n",
       "</table>\n",
       "<p>2 rows × 42 columns</p>\n",
       "</div>"
      ],
      "text/plain": [
       "   EXT_SOURCE_3  DAYS_EMPLOYED  FLOORSMAX_AVG  DAYS_BIRTH  \\\n",
       "0      0.139376           -637         0.0833       -9461   \n",
       "1      0.500345          -1188         0.2917      -16765   \n",
       "\n",
       "   REGION_RATING_CLIENT_W_CITY  TARGET  F  M  N  Y  ...  State servant  \\\n",
       "0                            2       1  0  1  1  0  ...              0   \n",
       "1                            1       0  1  0  1  0  ...              1   \n",
       "\n",
       "   Student  Working  Children  Family  Group of people  Other_A  Other_B  \\\n",
       "0        0        1         0       0                0        0        0   \n",
       "1        0        0         0       1                0        0        0   \n",
       "\n",
       "   Spouse, partner  Unaccompanied  \n",
       "0                0              1  \n",
       "1                0              0  \n",
       "\n",
       "[2 rows x 42 columns]"
      ]
     },
     "execution_count": 7,
     "metadata": {},
     "output_type": "execute_result"
    }
   ],
   "source": [
    "ml.data.head(2)"
   ]
  },
  {
   "cell_type": "code",
   "execution_count": 8,
   "id": "efda82a4",
   "metadata": {},
   "outputs": [
    {
     "data": {
      "text/html": [
       "<div>\n",
       "<style scoped>\n",
       "    .dataframe tbody tr th:only-of-type {\n",
       "        vertical-align: middle;\n",
       "    }\n",
       "\n",
       "    .dataframe tbody tr th {\n",
       "        vertical-align: top;\n",
       "    }\n",
       "\n",
       "    .dataframe thead th {\n",
       "        text-align: right;\n",
       "    }\n",
       "</style>\n",
       "<table border=\"1\" class=\"dataframe\">\n",
       "  <thead>\n",
       "    <tr style=\"text-align: right;\">\n",
       "      <th></th>\n",
       "      <th>EXT_SOURCE_3</th>\n",
       "      <th>DAYS_EMPLOYED</th>\n",
       "      <th>FLOORSMAX_AVG</th>\n",
       "      <th>DAYS_BIRTH</th>\n",
       "      <th>REGION_RATING_CLIENT_W_CITY</th>\n",
       "      <th>F</th>\n",
       "      <th>M</th>\n",
       "      <th>N</th>\n",
       "      <th>Y</th>\n",
       "      <th>Accountants</th>\n",
       "      <th>...</th>\n",
       "      <th>State servant</th>\n",
       "      <th>Student</th>\n",
       "      <th>Working</th>\n",
       "      <th>Children</th>\n",
       "      <th>Family</th>\n",
       "      <th>Group of people</th>\n",
       "      <th>Other_A</th>\n",
       "      <th>Other_B</th>\n",
       "      <th>Spouse, partner</th>\n",
       "      <th>Unaccompanied</th>\n",
       "    </tr>\n",
       "  </thead>\n",
       "  <tbody>\n",
       "    <tr>\n",
       "      <th>0</th>\n",
       "      <td>0.159520</td>\n",
       "      <td>-2329</td>\n",
       "      <td>0.125000</td>\n",
       "      <td>-19241</td>\n",
       "      <td>2</td>\n",
       "      <td>1</td>\n",
       "      <td>0</td>\n",
       "      <td>1</td>\n",
       "      <td>0</td>\n",
       "      <td>0</td>\n",
       "      <td>...</td>\n",
       "      <td>0</td>\n",
       "      <td>0</td>\n",
       "      <td>1</td>\n",
       "      <td>0</td>\n",
       "      <td>0</td>\n",
       "      <td>0</td>\n",
       "      <td>0</td>\n",
       "      <td>0</td>\n",
       "      <td>0</td>\n",
       "      <td>1</td>\n",
       "    </tr>\n",
       "    <tr>\n",
       "      <th>1</th>\n",
       "      <td>0.432962</td>\n",
       "      <td>-4469</td>\n",
       "      <td>0.234704</td>\n",
       "      <td>-18064</td>\n",
       "      <td>2</td>\n",
       "      <td>0</td>\n",
       "      <td>1</td>\n",
       "      <td>1</td>\n",
       "      <td>0</td>\n",
       "      <td>0</td>\n",
       "      <td>...</td>\n",
       "      <td>0</td>\n",
       "      <td>0</td>\n",
       "      <td>1</td>\n",
       "      <td>0</td>\n",
       "      <td>0</td>\n",
       "      <td>0</td>\n",
       "      <td>0</td>\n",
       "      <td>0</td>\n",
       "      <td>0</td>\n",
       "      <td>1</td>\n",
       "    </tr>\n",
       "  </tbody>\n",
       "</table>\n",
       "<p>2 rows × 41 columns</p>\n",
       "</div>"
      ],
      "text/plain": [
       "   EXT_SOURCE_3  DAYS_EMPLOYED  FLOORSMAX_AVG  DAYS_BIRTH  \\\n",
       "0      0.159520          -2329       0.125000      -19241   \n",
       "1      0.432962          -4469       0.234704      -18064   \n",
       "\n",
       "   REGION_RATING_CLIENT_W_CITY  F  M  N  Y  Accountants  ...  State servant  \\\n",
       "0                            2  1  0  1  0            0  ...              0   \n",
       "1                            2  0  1  1  0            0  ...              0   \n",
       "\n",
       "   Student  Working  Children  Family  Group of people  Other_A  Other_B  \\\n",
       "0        0        1         0       0                0        0        0   \n",
       "1        0        1         0       0                0        0        0   \n",
       "\n",
       "   Spouse, partner  Unaccompanied  \n",
       "0                0              1  \n",
       "1                0              1  \n",
       "\n",
       "[2 rows x 41 columns]"
      ]
     },
     "execution_count": 8,
     "metadata": {},
     "output_type": "execute_result"
    }
   ],
   "source": [
    "ml.new_data.head(2)"
   ]
  },
  {
   "cell_type": "markdown",
   "id": "70ae0fb8",
   "metadata": {},
   "source": [
    "## Prediction"
   ]
  },
  {
   "cell_type": "code",
   "execution_count": 9,
   "id": "8cdad3a0",
   "metadata": {},
   "outputs": [],
   "source": [
    "res = ml.predict_newdata(LogisticRegression(max_iter=1000))"
   ]
  },
  {
   "cell_type": "code",
   "execution_count": 10,
   "id": "f90509ee",
   "metadata": {},
   "outputs": [
    {
     "data": {
      "text/plain": [
       "(39470,)"
      ]
     },
     "execution_count": 10,
     "metadata": {},
     "output_type": "execute_result"
    }
   ],
   "source": [
    "res['Predictions'].shape"
   ]
  },
  {
   "cell_type": "code",
   "execution_count": 11,
   "id": "22ab4746",
   "metadata": {},
   "outputs": [
    {
     "data": {
      "text/plain": [
       "array([0, 0, 0, ..., 0, 0, 0])"
      ]
     },
     "execution_count": 11,
     "metadata": {},
     "output_type": "execute_result"
    }
   ],
   "source": [
    "res['Predictions']"
   ]
  },
  {
   "cell_type": "markdown",
   "id": "e0290df4",
   "metadata": {},
   "source": [
    "## Plot predicted Targets"
   ]
  },
  {
   "cell_type": "code",
   "execution_count": 12,
   "id": "cd5cf745",
   "metadata": {},
   "outputs": [
    {
     "data": {
      "text/html": [
       "<div>\n",
       "<style scoped>\n",
       "    .dataframe tbody tr th:only-of-type {\n",
       "        vertical-align: middle;\n",
       "    }\n",
       "\n",
       "    .dataframe tbody tr th {\n",
       "        vertical-align: top;\n",
       "    }\n",
       "\n",
       "    .dataframe thead th {\n",
       "        text-align: right;\n",
       "    }\n",
       "</style>\n",
       "<table border=\"1\" class=\"dataframe\">\n",
       "  <thead>\n",
       "    <tr style=\"text-align: right;\">\n",
       "      <th></th>\n",
       "      <th>target</th>\n",
       "    </tr>\n",
       "  </thead>\n",
       "  <tbody>\n",
       "    <tr>\n",
       "      <th>0</th>\n",
       "      <td>0</td>\n",
       "    </tr>\n",
       "    <tr>\n",
       "      <th>1</th>\n",
       "      <td>0</td>\n",
       "    </tr>\n",
       "    <tr>\n",
       "      <th>2</th>\n",
       "      <td>0</td>\n",
       "    </tr>\n",
       "    <tr>\n",
       "      <th>3</th>\n",
       "      <td>0</td>\n",
       "    </tr>\n",
       "    <tr>\n",
       "      <th>4</th>\n",
       "      <td>0</td>\n",
       "    </tr>\n",
       "  </tbody>\n",
       "</table>\n",
       "</div>"
      ],
      "text/plain": [
       "   target\n",
       "0       0\n",
       "1       0\n",
       "2       0\n",
       "3       0\n",
       "4       0"
      ]
     },
     "execution_count": 12,
     "metadata": {},
     "output_type": "execute_result"
    }
   ],
   "source": [
    "y = res['Predictions']\n",
    "\n",
    "df = pd.DataFrame(data=y, columns=[\"target\"])\n",
    "targ = 'target'\n",
    "df.head()"
   ]
  },
  {
   "cell_type": "code",
   "execution_count": 13,
   "id": "43653c4d",
   "metadata": {},
   "outputs": [
    {
     "data": {
      "text/plain": [
       "[<matplotlib.lines.Line2D at 0x104750fa0>]"
      ]
     },
     "execution_count": 13,
     "metadata": {},
     "output_type": "execute_result"
    },
    {
     "data": {
      "image/png": "[encoded data removed]",
      "text/plain": [
       "<Figure size 1224x288 with 1 Axes>"
      ]
     },
     "metadata": {
      "needs_background": "light"
     },
     "output_type": "display_data"
    }
   ],
   "source": [
    "import matplotlib.pyplot as plt\n",
    "import seaborn as sns\n",
    "\n",
    "plt.figure(figsize = (17, 4))\n",
    "plt.plot(range(0, len(y)),y , 'bo') "
   ]
  },
  {
   "cell_type": "code",
   "execution_count": 14,
   "id": "d15f53ac",
   "metadata": {},
   "outputs": [
    {
     "data": {
      "image/png": "[encoded data removed]",
      "text/plain": [
       "<Figure size 1008x288 with 2 Axes>"
      ]
     },
     "metadata": {
      "needs_background": "light"
     },
     "output_type": "display_data"
    }
   ],
   "source": [
    "dataframe = (df[targ].value_counts() / len(df)).to_frame()\n",
    "           \n",
    "fig, ax=plt.subplots(1,2,figsize=(14,4))\n",
    "\n",
    "df[targ].value_counts().plot.pie(explode=[0.1,0.1],autopct='%.2f%%',shadow=True,ax=ax[0])\n",
    "ax[0].set_title(\"Predicted Targets %\")\n",
    "ax[0].set_ylabel('')\n",
    "\n",
    "sns.countplot(x = targ, data = df, ax=ax[1])\n",
    "ax[1].set_title('Count of Repayer Vs. defulter')\n",
    "\n",
    "plt.show()"
   ]
  },
  {
   "cell_type": "markdown",
   "id": "6d283ad9",
   "metadata": {},
   "source": [
    "## Preparation().targetVar()"
   ]
  },
  {
   "cell_type": "markdown",
   "id": "64baae14",
   "metadata": {},
   "source": [
    "***Let's plot targets using : Preparation().targetVar(self, targ= \"TARGET\", other_df=False)***"
   ]
  },
  {
   "cell_type": "code",
   "execution_count": 15,
   "id": "1ef74615",
   "metadata": {},
   "outputs": [],
   "source": [
    "prep = Preparation('train', mask)"
   ]
  },
  {
   "cell_type": "code",
   "execution_count": 16,
   "id": "d6dea108",
   "metadata": {},
   "outputs": [
    {
     "data": {
      "image/png": "[encoded data removed]",
      "text/plain": [
       "<Figure size 1008x288 with 2 Axes>"
      ]
     },
     "metadata": {
      "needs_background": "light"
     },
     "output_type": "display_data"
    },
    {
     "data": {
      "text/html": [
       "<div>\n",
       "<style scoped>\n",
       "    .dataframe tbody tr th:only-of-type {\n",
       "        vertical-align: middle;\n",
       "    }\n",
       "\n",
       "    .dataframe tbody tr th {\n",
       "        vertical-align: top;\n",
       "    }\n",
       "\n",
       "    .dataframe thead th {\n",
       "        text-align: right;\n",
       "    }\n",
       "</style>\n",
       "<table border=\"1\" class=\"dataframe\">\n",
       "  <thead>\n",
       "    <tr style=\"text-align: right;\">\n",
       "      <th></th>\n",
       "      <th>target</th>\n",
       "    </tr>\n",
       "  </thead>\n",
       "  <tbody>\n",
       "    <tr>\n",
       "      <th>0</th>\n",
       "      <td>0.999873</td>\n",
       "    </tr>\n",
       "    <tr>\n",
       "      <th>1</th>\n",
       "      <td>0.000127</td>\n",
       "    </tr>\n",
       "  </tbody>\n",
       "</table>\n",
       "</div>"
      ],
      "text/plain": [
       "     target\n",
       "0  0.999873\n",
       "1  0.000127"
      ]
     },
     "execution_count": 16,
     "metadata": {},
     "output_type": "execute_result"
    }
   ],
   "source": [
    "y = res['Predictions']\n",
    "\n",
    "df = pd.DataFrame(data=y, columns=[\"target\"])\n",
    "\n",
    "\n",
    "prep.targetVar(targ=\"target\", other_df= df) # with arg : other_df, \n",
    "                                            #we can plot the repartition of predicted targets"
   ]
  },
  {
   "cell_type": "markdown",
   "id": "d310b783",
   "metadata": {},
   "source": [
    "# Model Prediction for new data "
   ]
  },
  {
   "cell_type": "code",
   "execution_count": 17,
   "id": "ddfc62f1",
   "metadata": {},
   "outputs": [],
   "source": [
    "## Preparing a new data from the train dataframe, and removing the target column,\n",
    "#@ which we want to predict using our analysis"
   ]
  },
  {
   "cell_type": "code",
   "execution_count": 86,
   "id": "e2cf0fe5",
   "metadata": {},
   "outputs": [],
   "source": [
    "mask = ['CODE_GENDER', 'FLAG_OWN_CAR', 'OCCUPATION_TYPE',  # categ\n",
    "        'NAME_INCOME_TYPE', 'NAME_TYPE_SUITE', # categ \n",
    "       'EXT_SOURCE_3', 'DAYS_EMPLOYED', 'FLOORSMAX_AVG',  # num \n",
    "        'DAYS_BIRTH', 'REGION_RATING_CLIENT_W_CITY', 'TARGET'# num\n",
    "       ]\n",
    "T = mask[:]\n",
    "T.remove('TARGET')"
   ]
  },
  {
   "cell_type": "code",
   "execution_count": 87,
   "id": "43065d99",
   "metadata": {},
   "outputs": [],
   "source": [
    "hh = HomeCredit().get_data() # there are two sets : 'train' and 'test'"
   ]
  },
  {
   "cell_type": "code",
   "execution_count": 88,
   "id": "0c7b799d",
   "metadata": {},
   "outputs": [
    {
     "data": {
      "text/plain": [
       "(79901, 10)"
      ]
     },
     "execution_count": 88,
     "metadata": {},
     "output_type": "execute_result"
    }
   ],
   "source": [
    "DF = hh['train'].loc[100:80000, T]\n",
    "DF.shape"
   ]
  },
  {
   "cell_type": "code",
   "execution_count": 89,
   "id": "b9c422ac",
   "metadata": {},
   "outputs": [],
   "source": [
    "cc = Modeling(data_set = 'train', cols = mask, newdf = DF)"
   ]
  },
  {
   "cell_type": "code",
   "execution_count": 90,
   "id": "bb5953b6",
   "metadata": {},
   "outputs": [
    {
     "data": {
      "text/plain": [
       "dict_keys(['cols', 'en', 'data', 'new_data'])"
      ]
     },
     "execution_count": 90,
     "metadata": {},
     "output_type": "execute_result"
    }
   ],
   "source": [
    "cc.__dict__.keys()"
   ]
  },
  {
   "cell_type": "code",
   "execution_count": 91,
   "id": "1ede9d29",
   "metadata": {},
   "outputs": [
    {
     "data": {
      "text/html": [
       "<div>\n",
       "<style scoped>\n",
       "    .dataframe tbody tr th:only-of-type {\n",
       "        vertical-align: middle;\n",
       "    }\n",
       "\n",
       "    .dataframe tbody tr th {\n",
       "        vertical-align: top;\n",
       "    }\n",
       "\n",
       "    .dataframe thead th {\n",
       "        text-align: right;\n",
       "    }\n",
       "</style>\n",
       "<table border=\"1\" class=\"dataframe\">\n",
       "  <thead>\n",
       "    <tr style=\"text-align: right;\">\n",
       "      <th></th>\n",
       "      <th>EXT_SOURCE_3</th>\n",
       "      <th>DAYS_EMPLOYED</th>\n",
       "      <th>FLOORSMAX_AVG</th>\n",
       "      <th>DAYS_BIRTH</th>\n",
       "      <th>REGION_RATING_CLIENT_W_CITY</th>\n",
       "      <th>TARGET</th>\n",
       "      <th>F</th>\n",
       "      <th>M</th>\n",
       "      <th>N</th>\n",
       "      <th>Y</th>\n",
       "      <th>...</th>\n",
       "      <th>State servant</th>\n",
       "      <th>Student</th>\n",
       "      <th>Working</th>\n",
       "      <th>Children</th>\n",
       "      <th>Family</th>\n",
       "      <th>Group of people</th>\n",
       "      <th>Other_A</th>\n",
       "      <th>Other_B</th>\n",
       "      <th>Spouse, partner</th>\n",
       "      <th>Unaccompanied</th>\n",
       "    </tr>\n",
       "  </thead>\n",
       "  <tbody>\n",
       "    <tr>\n",
       "      <th>0</th>\n",
       "      <td>0.139376</td>\n",
       "      <td>-637</td>\n",
       "      <td>0.0833</td>\n",
       "      <td>-9461</td>\n",
       "      <td>2</td>\n",
       "      <td>1</td>\n",
       "      <td>0</td>\n",
       "      <td>1</td>\n",
       "      <td>1</td>\n",
       "      <td>0</td>\n",
       "      <td>...</td>\n",
       "      <td>0</td>\n",
       "      <td>0</td>\n",
       "      <td>1</td>\n",
       "      <td>0</td>\n",
       "      <td>0</td>\n",
       "      <td>0</td>\n",
       "      <td>0</td>\n",
       "      <td>0</td>\n",
       "      <td>0</td>\n",
       "      <td>1</td>\n",
       "    </tr>\n",
       "    <tr>\n",
       "      <th>1</th>\n",
       "      <td>0.500345</td>\n",
       "      <td>-1188</td>\n",
       "      <td>0.2917</td>\n",
       "      <td>-16765</td>\n",
       "      <td>1</td>\n",
       "      <td>0</td>\n",
       "      <td>1</td>\n",
       "      <td>0</td>\n",
       "      <td>1</td>\n",
       "      <td>0</td>\n",
       "      <td>...</td>\n",
       "      <td>1</td>\n",
       "      <td>0</td>\n",
       "      <td>0</td>\n",
       "      <td>0</td>\n",
       "      <td>1</td>\n",
       "      <td>0</td>\n",
       "      <td>0</td>\n",
       "      <td>0</td>\n",
       "      <td>0</td>\n",
       "      <td>0</td>\n",
       "    </tr>\n",
       "  </tbody>\n",
       "</table>\n",
       "<p>2 rows × 42 columns</p>\n",
       "</div>"
      ],
      "text/plain": [
       "   EXT_SOURCE_3  DAYS_EMPLOYED  FLOORSMAX_AVG  DAYS_BIRTH  \\\n",
       "0      0.139376           -637         0.0833       -9461   \n",
       "1      0.500345          -1188         0.2917      -16765   \n",
       "\n",
       "   REGION_RATING_CLIENT_W_CITY  TARGET  F  M  N  Y  ...  State servant  \\\n",
       "0                            2       1  0  1  1  0  ...              0   \n",
       "1                            1       0  1  0  1  0  ...              1   \n",
       "\n",
       "   Student  Working  Children  Family  Group of people  Other_A  Other_B  \\\n",
       "0        0        1         0       0                0        0        0   \n",
       "1        0        0         0       1                0        0        0   \n",
       "\n",
       "   Spouse, partner  Unaccompanied  \n",
       "0                0              1  \n",
       "1                0              0  \n",
       "\n",
       "[2 rows x 42 columns]"
      ]
     },
     "execution_count": 91,
     "metadata": {},
     "output_type": "execute_result"
    }
   ],
   "source": [
    "cc.data.head(2) # train dataset"
   ]
  },
  {
   "cell_type": "code",
   "execution_count": 92,
   "id": "8c299b8d",
   "metadata": {},
   "outputs": [],
   "source": [
    "res = cc.predict_newdata(LogisticRegression(max_iter=1000))"
   ]
  },
  {
   "cell_type": "code",
   "execution_count": 93,
   "id": "400f9de8",
   "metadata": {},
   "outputs": [
    {
     "data": {
      "text/plain": [
       "(65580,)"
      ]
     },
     "execution_count": 93,
     "metadata": {},
     "output_type": "execute_result"
    }
   ],
   "source": [
    "res['Predictions'].shape"
   ]
  },
  {
   "cell_type": "code",
   "execution_count": 94,
   "id": "5fdc9882",
   "metadata": {},
   "outputs": [
    {
     "data": {
      "text/plain": [
       "array([0, 0, 0, ..., 0, 0, 0])"
      ]
     },
     "execution_count": 94,
     "metadata": {},
     "output_type": "execute_result"
    }
   ],
   "source": [
    "res['Predictions']"
   ]
  },
  {
   "cell_type": "code",
   "execution_count": 95,
   "id": "18037705",
   "metadata": {},
   "outputs": [
    {
     "data": {
      "text/plain": [
       "0    65574\n",
       "1        6\n",
       "Name: target, dtype: int64"
      ]
     },
     "execution_count": 95,
     "metadata": {},
     "output_type": "execute_result"
    }
   ],
   "source": [
    "y = res['Predictions']\n",
    "\n",
    "df = pd.DataFrame(data=y, columns=[\"target\"])\n",
    "targ = 'target'\n",
    "\n",
    "df[targ].value_counts()"
   ]
  },
  {
   "cell_type": "code",
   "execution_count": 96,
   "id": "e73c394d",
   "metadata": {},
   "outputs": [
    {
     "data": {
      "image/png": "[encoded data removed]",
      "text/plain": [
       "<Figure size 1224x288 with 1 Axes>"
      ]
     },
     "metadata": {
      "needs_background": "light"
     },
     "output_type": "display_data"
    },
    {
     "data": {
      "image/png": "[encoded data removed]",
      "text/plain": [
       "<Figure size 1008x288 with 2 Axes>"
      ]
     },
     "metadata": {
      "needs_background": "light"
     },
     "output_type": "display_data"
    }
   ],
   "source": [
    "y = res['Predictions']\n",
    "\n",
    "df = pd.DataFrame(data=y, columns=[\"target\"])\n",
    "targ = 'target'\n",
    "df.head()\n",
    "\n",
    "import matplotlib.pyplot as plt\n",
    "import seaborn as sns\n",
    "\n",
    "plt.figure(figsize = (17, 4))\n",
    "plt.plot(range(0, len(y)),y , 'bo') \n",
    "\n",
    "dataframe = (df[targ].value_counts() / len(df)).to_frame()\n",
    "           \n",
    "fig, ax=plt.subplots(1,2,figsize=(14,4))\n",
    "\n",
    "df[targ].value_counts().plot.pie(explode=[0.1,0.1],autopct='%.2f%%',shadow=True,ax=ax[0])\n",
    "ax[0].set_title(\"Predicted Targets %\")\n",
    "ax[0].set_ylabel('')\n",
    "\n",
    "sns.countplot(x = targ, data = df, ax=ax[1])\n",
    "ax[1].set_title('Count of Repayer Vs. defulter')\n",
    "\n",
    "plt.show()"
   ]
  },
  {
   "cell_type": "code",
   "execution_count": 97,
   "id": "00d1c37f",
   "metadata": {},
   "outputs": [
    {
     "data": {
      "text/html": [
       "<div>\n",
       "<style scoped>\n",
       "    .dataframe tbody tr th:only-of-type {\n",
       "        vertical-align: middle;\n",
       "    }\n",
       "\n",
       "    .dataframe tbody tr th {\n",
       "        vertical-align: top;\n",
       "    }\n",
       "\n",
       "    .dataframe thead th {\n",
       "        text-align: right;\n",
       "    }\n",
       "</style>\n",
       "<table border=\"1\" class=\"dataframe\">\n",
       "  <thead>\n",
       "    <tr style=\"text-align: right;\">\n",
       "      <th></th>\n",
       "      <th>target</th>\n",
       "    </tr>\n",
       "  </thead>\n",
       "  <tbody>\n",
       "    <tr>\n",
       "      <th>0</th>\n",
       "      <td>0.999909</td>\n",
       "    </tr>\n",
       "    <tr>\n",
       "      <th>1</th>\n",
       "      <td>0.000091</td>\n",
       "    </tr>\n",
       "  </tbody>\n",
       "</table>\n",
       "</div>"
      ],
      "text/plain": [
       "     target\n",
       "0  0.999909\n",
       "1  0.000091"
      ]
     },
     "execution_count": 97,
     "metadata": {},
     "output_type": "execute_result"
    }
   ],
   "source": [
    "dataframe"
   ]
  },
  {
   "cell_type": "markdown",
   "id": "2707b2e3",
   "metadata": {},
   "source": [
    "# Evaluating the model -- accuracy score"
   ]
  },
  {
   "cell_type": "raw",
   "id": "e5bd616b",
   "metadata": {},
   "source": [
    "The new data used above to make prediction, is a part of the train dataframe that we removed the target column from.\n",
    "To evaluate the model, we reconsider the same data, with keeping the target column\n",
    "make it then a cleaning, and finally get the target column to compare it with the predicted targets"
   ]
  },
  {
   "cell_type": "code",
   "execution_count": 98,
   "id": "1901fca5",
   "metadata": {},
   "outputs": [],
   "source": [
    "mask = ['CODE_GENDER', 'FLAG_OWN_CAR', 'OCCUPATION_TYPE',  # categ\n",
    "        'NAME_INCOME_TYPE', 'NAME_TYPE_SUITE', # categ \n",
    "       'EXT_SOURCE_3', 'DAYS_EMPLOYED', 'FLOORSMAX_AVG',  # num \n",
    "        'DAYS_BIRTH', 'REGION_RATING_CLIENT_W_CITY', # num\n",
    "        'TARGET' # target\n",
    "       ]"
   ]
  },
  {
   "cell_type": "code",
   "execution_count": 99,
   "id": "e6159277",
   "metadata": {},
   "outputs": [],
   "source": [
    "cl = Cleaning(cols = mask) # data_set = 'train', cols = None, newdf = None, targ= \"TARGET\""
   ]
  },
  {
   "cell_type": "code",
   "execution_count": 100,
   "id": "6307aff8",
   "metadata": {},
   "outputs": [
    {
     "data": {
      "text/plain": [
       "dict_keys(['prep', 'cols', 'data_set', 'data', 'newdata'])"
      ]
     },
     "execution_count": 100,
     "metadata": {},
     "output_type": "execute_result"
    }
   ],
   "source": [
    "cl.__dict__.keys()"
   ]
  },
  {
   "cell_type": "code",
   "execution_count": 101,
   "id": "54b53762",
   "metadata": {},
   "outputs": [
    {
     "data": {
      "text/plain": [
       "((307511, 11), (48744, 10))"
      ]
     },
     "execution_count": 101,
     "metadata": {},
     "output_type": "execute_result"
    }
   ],
   "source": [
    "cl.data.shape, cl.newdata.shape  # data --> train, newdata --> test"
   ]
  },
  {
   "cell_type": "code",
   "execution_count": 103,
   "id": "832f5b0e",
   "metadata": {},
   "outputs": [
    {
     "name": "stdout",
     "output_type": "stream",
     "text": [
      "train :  311668\n"
     ]
    }
   ],
   "source": [
    "print(\"train : \", cl.data.isnull().sum().sum())"
   ]
  },
  {
   "cell_type": "code",
   "execution_count": 104,
   "id": "26f9fec2",
   "metadata": {},
   "outputs": [
    {
     "name": "stdout",
     "output_type": "stream",
     "text": [
      "train :  80897\n"
     ]
    }
   ],
   "source": [
    "hh = HomeCredit().get_data() # there are two sets : 'train' and 'test'\n",
    "E = hh['train'].loc[100:80000, mask] # with target Var\n",
    "\n",
    "cl.data = E\n",
    "print(\"train : \", cl.data.isnull().sum().sum()) # before, it was 311668\n"
   ]
  },
  {
   "cell_type": "code",
   "execution_count": 105,
   "id": "5aff7ac9",
   "metadata": {},
   "outputs": [
    {
     "name": "stdout",
     "output_type": "stream",
     "text": [
      "Cleaning data :  (65580, 11)\n",
      "MissValues Nbr after cleaning:  0\n"
     ]
    }
   ],
   "source": [
    "# Cleaning data\n",
    "cl.data = cl.remove_missvalues(set_df = 'train')\n",
    "print(\"Cleaning data : \", cl.data.shape)\n",
    "\n",
    "print(\"MissValues Nbr after cleaning: \", cl.data.isnull().sum().sum()) # before, it was 311668"
   ]
  },
  {
   "cell_type": "raw",
   "id": "ade23ed7",
   "metadata": {},
   "source": [
    "Do not forget that the predicted targets were : res['Predictions']\n",
    "with shape (65580, 1)"
   ]
  },
  {
   "cell_type": "markdown",
   "id": "15d3f99d",
   "metadata": {},
   "source": [
    "## Accuracy score"
   ]
  },
  {
   "cell_type": "code",
   "execution_count": 106,
   "id": "a3b851e8",
   "metadata": {},
   "outputs": [],
   "source": [
    "from sklearn import metrics"
   ]
  },
  {
   "cell_type": "code",
   "execution_count": 107,
   "id": "4dd9595b",
   "metadata": {},
   "outputs": [],
   "source": [
    "y_pred = res['Predictions']\n",
    "y_true = cl.data['TARGET']"
   ]
  },
  {
   "cell_type": "code",
   "execution_count": 108,
   "id": "2f1a80f9",
   "metadata": {},
   "outputs": [
    {
     "name": "stdout",
     "output_type": "stream",
     "text": [
      "Accuracy: 0.9140286672766087\n"
     ]
    }
   ],
   "source": [
    "print(\"Accuracy:\",metrics.accuracy_score(y_true, y_pred))  "
   ]
  },
  {
   "cell_type": "raw",
   "id": "0af3de06",
   "metadata": {},
   "source": [
    "if we look at my_model \"my_model = pickle.load(open(\"models_selected_features.pckl\",\"rb\"))\" (in the beginning)\n",
    "\n",
    "The accuracy score was 0.9134, with LogisticRegression considered as the best model, "
   ]
  },
  {
   "cell_type": "code",
   "execution_count": 109,
   "id": "2930a13c",
   "metadata": {},
   "outputs": [
    {
     "data": {
      "text/plain": [
       "0    59946\n",
       "1     5634\n",
       "Name: TARGET, dtype: int64"
      ]
     },
     "execution_count": 109,
     "metadata": {},
     "output_type": "execute_result"
    }
   ],
   "source": [
    "y_true.value_counts()"
   ]
  },
  {
   "cell_type": "code",
   "execution_count": 110,
   "id": "b1b4f436",
   "metadata": {},
   "outputs": [
    {
     "data": {
      "text/plain": [
       "0    65574\n",
       "1        6\n",
       "dtype: int64"
      ]
     },
     "execution_count": 110,
     "metadata": {},
     "output_type": "execute_result"
    }
   ],
   "source": [
    "pd.Series(y_pred).value_counts()"
   ]
  },
  {
   "cell_type": "code",
   "execution_count": 111,
   "id": "3d7864ca",
   "metadata": {},
   "outputs": [
    {
     "data": {
      "image/png": "[encoded data removed]",
      "text/plain": [
       "<Figure size 1008x288 with 2 Axes>"
      ]
     },
     "metadata": {
      "needs_background": "light"
     },
     "output_type": "display_data"
    }
   ],
   "source": [
    "y_true = cl.data['TARGET']\n",
    "\n",
    "df = pd.DataFrame(data=(y_true).to_numpy(), columns=[\"target\"])\n",
    "targ = 'target'\n",
    "df.head()\n",
    "\n",
    "import matplotlib.pyplot as plt\n",
    "import seaborn as sns\n",
    "\n",
    "dataframe = (df[targ].value_counts() / len(df)).to_frame()\n",
    "           \n",
    "fig, ax=plt.subplots(1,2,figsize=(14,4))\n",
    "\n",
    "df[targ].value_counts().plot.pie(explode=[0.1,0.1],autopct='%.2f%%',shadow=True,ax=ax[0])\n",
    "ax[0].set_title(\"Truth Targets values %\")\n",
    "ax[0].set_ylabel('')\n",
    "\n",
    "sns.countplot(x = targ, data = df, ax=ax[1])\n",
    "ax[1].set_title('Count of Repayer Vs. defulter')\n",
    "\n",
    "plt.show()"
   ]
  },
  {
   "cell_type": "code",
   "execution_count": 112,
   "id": "e7f73581",
   "metadata": {},
   "outputs": [
    {
     "data": {
      "image/png": "[encoded data removed]",
      "text/plain": [
       "<Figure size 1008x288 with 2 Axes>"
      ]
     },
     "metadata": {
      "needs_background": "light"
     },
     "output_type": "display_data"
    }
   ],
   "source": [
    "y_pred = res['Predictions']\n",
    "\n",
    "df = pd.DataFrame(data=y_pred, columns=[\"target\"])\n",
    "targ = 'target'\n",
    "df.head()\n",
    "\n",
    "import matplotlib.pyplot as plt\n",
    "import seaborn as sns\n",
    "\n",
    "dataframe = (df[targ].value_counts() / len(df)).to_frame()\n",
    "           \n",
    "fig, ax=plt.subplots(1,2,figsize=(14,4))\n",
    "\n",
    "df[targ].value_counts().plot.pie(explode=[0.1,0.1],autopct='%.2f%%',shadow=True,ax=ax[0])\n",
    "ax[0].set_title(\"Predicted Targets values %\")\n",
    "ax[0].set_ylabel('')\n",
    "\n",
    "sns.countplot(x = targ, data = df, ax=ax[1])\n",
    "ax[1].set_title('Count of Repayer Vs. defulter')\n",
    "\n",
    "plt.show()"
   ]
  },
  {
   "cell_type": "raw",
   "id": "59f02472",
   "metadata": {},
   "source": [
    "The next step will be deploying an API using this model, data exploration,\n",
    "label encoding and theese selected features "
   ]
  }
 ],
 "metadata": {
  "kernelspec": {
   "display_name": "Python 3 (ipykernel)",
   "language": "python",
   "name": "python3"
  },
  "language_info": {
   "codemirror_mode": {
    "name": "ipython",
    "version": 3
   },
   "file_extension": ".py",
   "mimetype": "text/x-python",
   "name": "python",
   "nbconvert_exporter": "python",
   "pygments_lexer": "ipython3",
   "version": "3.8.6"
  },
  "toc": {
   "base_numbering": 1,
   "nav_menu": {},
   "number_sections": true,
   "sideBar": true,
   "skip_h1_title": false,
   "title_cell": "Table of Contents",
   "title_sidebar": "Contents",
   "toc_cell": false,
   "toc_position": {},
   "toc_section_display": true,
   "toc_window_display": true
  }
 },
 "nbformat": 4,
 "nbformat_minor": 5
}
