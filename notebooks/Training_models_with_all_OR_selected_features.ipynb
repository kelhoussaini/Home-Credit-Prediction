{
 "cells": [
  {
   "cell_type": "code",
   "execution_count": 1,
   "id": "f0653cc6",
   "metadata": {},
   "outputs": [],
   "source": [
    "import os\n",
    "import sys"
   ]
  },
  {
   "cell_type": "code",
   "execution_count": 2,
   "id": "e2777419",
   "metadata": {},
   "outputs": [],
   "source": [
    "path_dir = (os.path.dirname(os.getcwd()))\n",
    "sys.path.append(path_dir)\n",
    "    \n",
    "from homecredit.data import HomeCredit\n",
    "from homecredit.preparation import Preparation\n",
    "from homecredit.cleaner import Cleaning\n",
    "from homecredit.exploration import Exploration\n",
    "from homecredit.model import Modeling\n",
    "\n",
    "from homecredit.encoder import Encoder"
   ]
  },
  {
   "cell_type": "code",
   "execution_count": 3,
   "id": "948c7eff",
   "metadata": {},
   "outputs": [],
   "source": [
    "from sklearn.linear_model import LogisticRegression\n",
    "from sklearn.tree import DecisionTreeClassifier\n",
    "from sklearn.neighbors import KNeighborsClassifier\n",
    "\n",
    "import pickle"
   ]
  },
  {
   "cell_type": "markdown",
   "id": "cd7a97fe",
   "metadata": {},
   "source": [
    "# Train and save the model"
   ]
  },
  {
   "cell_type": "markdown",
   "id": "c09a04ff",
   "metadata": {},
   "source": [
    "## selected features"
   ]
  },
  {
   "cell_type": "code",
   "execution_count": 4,
   "id": "32ec6914",
   "metadata": {},
   "outputs": [],
   "source": [
    "mask = ['CODE_GENDER', 'FLAG_OWN_CAR', 'OCCUPATION_TYPE',  # categ\n",
    "        'NAME_INCOME_TYPE', 'NAME_TYPE_SUITE', # categ \n",
    "       'EXT_SOURCE_3', 'DAYS_EMPLOYED', 'FLOORSMAX_AVG',  # num \n",
    "        'DAYS_BIRTH', 'REGION_RATING_CLIENT_W_CITY', # num\n",
    "        'TARGET' # target\n",
    "       ]"
   ]
  },
  {
   "cell_type": "code",
   "execution_count": 5,
   "id": "3ff35bc8",
   "metadata": {},
   "outputs": [],
   "source": [
    "ml = Modeling(cols=mask) # data_set = 'train', cols = None, newdf = None, targ= \"TARGET\""
   ]
  },
  {
   "cell_type": "code",
   "execution_count": 6,
   "id": "7644ccb5",
   "metadata": {},
   "outputs": [
    {
     "data": {
      "text/plain": [
       "dict_keys(['cols', 'en', 'data', 'new_data'])"
      ]
     },
     "execution_count": 6,
     "metadata": {},
     "output_type": "execute_result"
    }
   ],
   "source": [
    "ml.__dict__.keys()"
   ]
  },
  {
   "cell_type": "code",
   "execution_count": 7,
   "id": "7fe4a4e5",
   "metadata": {},
   "outputs": [
    {
     "data": {
      "text/plain": [
       "((252133, 42), (39470, 41))"
      ]
     },
     "execution_count": 7,
     "metadata": {},
     "output_type": "execute_result"
    }
   ],
   "source": [
    "ml.data.shape, ml.new_data.shape  # data --> train, new_data --> test"
   ]
  },
  {
   "cell_type": "code",
   "execution_count": 8,
   "id": "b4cfe8e3",
   "metadata": {},
   "outputs": [
    {
     "data": {
      "text/html": [
       "<div>\n",
       "<style scoped>\n",
       "    .dataframe tbody tr th:only-of-type {\n",
       "        vertical-align: middle;\n",
       "    }\n",
       "\n",
       "    .dataframe tbody tr th {\n",
       "        vertical-align: top;\n",
       "    }\n",
       "\n",
       "    .dataframe thead th {\n",
       "        text-align: right;\n",
       "    }\n",
       "</style>\n",
       "<table border=\"1\" class=\"dataframe\">\n",
       "  <thead>\n",
       "    <tr style=\"text-align: right;\">\n",
       "      <th></th>\n",
       "      <th>EXT_SOURCE_3</th>\n",
       "      <th>DAYS_EMPLOYED</th>\n",
       "      <th>FLOORSMAX_AVG</th>\n",
       "      <th>DAYS_BIRTH</th>\n",
       "      <th>REGION_RATING_CLIENT_W_CITY</th>\n",
       "      <th>TARGET</th>\n",
       "      <th>F</th>\n",
       "      <th>M</th>\n",
       "      <th>N</th>\n",
       "      <th>Y</th>\n",
       "      <th>...</th>\n",
       "      <th>State servant</th>\n",
       "      <th>Student</th>\n",
       "      <th>Working</th>\n",
       "      <th>Children</th>\n",
       "      <th>Family</th>\n",
       "      <th>Group of people</th>\n",
       "      <th>Other_A</th>\n",
       "      <th>Other_B</th>\n",
       "      <th>Spouse, partner</th>\n",
       "      <th>Unaccompanied</th>\n",
       "    </tr>\n",
       "  </thead>\n",
       "  <tbody>\n",
       "    <tr>\n",
       "      <th>0</th>\n",
       "      <td>0.139376</td>\n",
       "      <td>-637</td>\n",
       "      <td>0.0833</td>\n",
       "      <td>-9461</td>\n",
       "      <td>2</td>\n",
       "      <td>1</td>\n",
       "      <td>0</td>\n",
       "      <td>1</td>\n",
       "      <td>1</td>\n",
       "      <td>0</td>\n",
       "      <td>...</td>\n",
       "      <td>0</td>\n",
       "      <td>0</td>\n",
       "      <td>1</td>\n",
       "      <td>0</td>\n",
       "      <td>0</td>\n",
       "      <td>0</td>\n",
       "      <td>0</td>\n",
       "      <td>0</td>\n",
       "      <td>0</td>\n",
       "      <td>1</td>\n",
       "    </tr>\n",
       "    <tr>\n",
       "      <th>1</th>\n",
       "      <td>0.500345</td>\n",
       "      <td>-1188</td>\n",
       "      <td>0.2917</td>\n",
       "      <td>-16765</td>\n",
       "      <td>1</td>\n",
       "      <td>0</td>\n",
       "      <td>1</td>\n",
       "      <td>0</td>\n",
       "      <td>1</td>\n",
       "      <td>0</td>\n",
       "      <td>...</td>\n",
       "      <td>1</td>\n",
       "      <td>0</td>\n",
       "      <td>0</td>\n",
       "      <td>0</td>\n",
       "      <td>1</td>\n",
       "      <td>0</td>\n",
       "      <td>0</td>\n",
       "      <td>0</td>\n",
       "      <td>0</td>\n",
       "      <td>0</td>\n",
       "    </tr>\n",
       "  </tbody>\n",
       "</table>\n",
       "<p>2 rows × 42 columns</p>\n",
       "</div>"
      ],
      "text/plain": [
       "   EXT_SOURCE_3  DAYS_EMPLOYED  FLOORSMAX_AVG  DAYS_BIRTH  \\\n",
       "0      0.139376           -637         0.0833       -9461   \n",
       "1      0.500345          -1188         0.2917      -16765   \n",
       "\n",
       "   REGION_RATING_CLIENT_W_CITY  TARGET  F  M  N  Y  ...  State servant  \\\n",
       "0                            2       1  0  1  1  0  ...              0   \n",
       "1                            1       0  1  0  1  0  ...              1   \n",
       "\n",
       "   Student  Working  Children  Family  Group of people  Other_A  Other_B  \\\n",
       "0        0        1         0       0                0        0        0   \n",
       "1        0        0         0       1                0        0        0   \n",
       "\n",
       "   Spouse, partner  Unaccompanied  \n",
       "0                0              1  \n",
       "1                0              0  \n",
       "\n",
       "[2 rows x 42 columns]"
      ]
     },
     "execution_count": 8,
     "metadata": {},
     "output_type": "execute_result"
    }
   ],
   "source": [
    "ml.data.head(2)"
   ]
  },
  {
   "cell_type": "code",
   "execution_count": 9,
   "id": "28a4f13c",
   "metadata": {},
   "outputs": [
    {
     "data": {
      "text/plain": [
       "(0, 0)"
      ]
     },
     "execution_count": 9,
     "metadata": {},
     "output_type": "execute_result"
    }
   ],
   "source": [
    "ml.data.isnull().sum().sum(), ml.new_data.isnull().sum().sum()"
   ]
  },
  {
   "cell_type": "code",
   "execution_count": 6,
   "id": "e8a60258",
   "metadata": {},
   "outputs": [],
   "source": [
    "models = []\n",
    "models.append(('LR', LogisticRegression(max_iter=1000)))\n",
    "#models.append(('KNN', KNeighborsClassifier(n_neighbors=5)))\n",
    "\n",
    "models.append(('DTC', DecisionTreeClassifier()))"
   ]
  },
  {
   "cell_type": "code",
   "execution_count": 7,
   "id": "077f5c93",
   "metadata": {},
   "outputs": [
    {
     "name": "stdout",
     "output_type": "stream",
     "text": [
      "Model:  LR  scoring: accuracy  train score 0.9132600158970569 time_run (mins) 0.590986947218577\n",
      "Model:  DTC  scoring: accuracy  train score 0.8407415779370835 time_run (mins) 0.2219693700472514\n"
     ]
    }
   ],
   "source": [
    "dic = ml.execute(models) # models=[], scoring = ['accuracy']\n",
    "\n",
    "# 3 pickle files were saved : encoder.pckl, models_selected_features.pckl, scaler.pckl"
   ]
  },
  {
   "cell_type": "code",
   "execution_count": 9,
   "id": "e7632974",
   "metadata": {},
   "outputs": [
    {
     "data": {
      "text/plain": [
       "[{'Name ': 'LR',\n",
       "  'Model ': LogisticRegression(max_iter=1000),\n",
       "  ' scoring': 'accuracy',\n",
       "  ' train score': 0.9134243287479762,\n",
       "  'time_run (mins)': 0.6298624356587728},\n",
       " {'Name ': 'DTC',\n",
       "  'Model ': DecisionTreeClassifier(),\n",
       "  ' scoring': 'accuracy',\n",
       "  ' train score': 0.8400163327284573,\n",
       "  'time_run (mins)': 0.2218425671259562}]"
      ]
     },
     "execution_count": 9,
     "metadata": {},
     "output_type": "execute_result"
    }
   ],
   "source": [
    "dic"
   ]
  },
  {
   "cell_type": "code",
   "execution_count": 10,
   "id": "8fd1f996",
   "metadata": {},
   "outputs": [
    {
     "data": {
      "text/plain": [
       "0.9138154415653094"
      ]
     },
     "execution_count": 10,
     "metadata": {},
     "output_type": "execute_result"
    }
   ],
   "source": [
    "ml.evaluate_model(LogisticRegression(max_iter=1000)) # model scoring on test data"
   ]
  },
  {
   "cell_type": "code",
   "execution_count": 11,
   "id": "b824da00",
   "metadata": {},
   "outputs": [
    {
     "data": {
      "text/plain": [
       "0.8418429402432576"
      ]
     },
     "execution_count": 11,
     "metadata": {},
     "output_type": "execute_result"
    }
   ],
   "source": [
    "ml.evaluate_model(DecisionTreeClassifier()) # model scoring on test data"
   ]
  },
  {
   "cell_type": "raw",
   "id": "9c7fb389",
   "metadata": {},
   "source": [
    "Best model in this case : LogisticRegression(max_iter=1000)"
   ]
  },
  {
   "cell_type": "markdown",
   "id": "5d74b975",
   "metadata": {},
   "source": [
    "## all features"
   ]
  },
  {
   "cell_type": "code",
   "execution_count": 15,
   "id": "7f45fd03",
   "metadata": {},
   "outputs": [],
   "source": [
    "m = Modeling() # data_set = 'train', cols = None, newdf = None, targ= \"TARGET\""
   ]
  },
  {
   "cell_type": "code",
   "execution_count": 16,
   "id": "c93110ad",
   "metadata": {},
   "outputs": [
    {
     "data": {
      "text/plain": [
       "((251754, 242), (39470, 241))"
      ]
     },
     "execution_count": 16,
     "metadata": {},
     "output_type": "execute_result"
    }
   ],
   "source": [
    "m.data.shape, m.new_data.shape  # data --> train, new_data --> test"
   ]
  },
  {
   "cell_type": "code",
   "execution_count": 17,
   "id": "ec3cc8cf",
   "metadata": {},
   "outputs": [
    {
     "name": "stdout",
     "output_type": "stream",
     "text": [
      "Model:  LR  scoring: accuracy  train score 0.9138724454954051 time_run (mins) 2.525270382563273\n",
      "Model:  DTC  scoring: accuracy  train score 0.8442520071740744 time_run (mins) 2.1742629329363505\n"
     ]
    },
    {
     "data": {
      "text/plain": [
       "[{'Name ': 'LR',\n",
       "  'Model ': LogisticRegression(max_iter=1000),\n",
       "  ' scoring': 'accuracy',\n",
       "  ' train score': 0.9138724454954051,\n",
       "  'time_run (mins)': 2.525270382563273},\n",
       " {'Name ': 'DTC',\n",
       "  'Model ': DecisionTreeClassifier(),\n",
       "  ' scoring': 'accuracy',\n",
       "  ' train score': 0.8442520071740744,\n",
       "  'time_run (mins)': 2.1742629329363505}]"
      ]
     },
     "execution_count": 17,
     "metadata": {},
     "output_type": "execute_result"
    }
   ],
   "source": [
    "m.execute(models)"
   ]
  },
  {
   "cell_type": "code",
   "execution_count": 18,
   "id": "c1b5dc8a",
   "metadata": {},
   "outputs": [
    {
     "data": {
      "text/plain": [
       "0.9141234260595549"
      ]
     },
     "execution_count": 18,
     "metadata": {},
     "output_type": "execute_result"
    }
   ],
   "source": [
    "m.evaluate_model(LogisticRegression(max_iter=1000))"
   ]
  },
  {
   "cell_type": "code",
   "execution_count": 19,
   "id": "2312c7e1",
   "metadata": {},
   "outputs": [
    {
     "data": {
      "text/plain": [
       "0.8453797979530498"
      ]
     },
     "execution_count": 19,
     "metadata": {},
     "output_type": "execute_result"
    }
   ],
   "source": [
    "m.evaluate_model(DecisionTreeClassifier())"
   ]
  },
  {
   "cell_type": "markdown",
   "id": "45232f74",
   "metadata": {},
   "source": [
    "# Load models from pickle file"
   ]
  },
  {
   "cell_type": "code",
   "execution_count": 20,
   "id": "c8314a3f",
   "metadata": {},
   "outputs": [
    {
     "data": {
      "text/plain": [
       "[{'Name ': 'LR',\n",
       "  'Model ': LogisticRegression(max_iter=1000),\n",
       "  ' scoring': 'accuracy',\n",
       "  ' train score': 0.914132571652989,\n",
       "  'time_run (mins)': 0.65798526207606},\n",
       " {'Name ': 'DTC',\n",
       "  'Model ': DecisionTreeClassifier(),\n",
       "  ' scoring': 'accuracy',\n",
       "  ' train score': 0.841160833687748,\n",
       "  'time_run (mins)': 0.2028424342473348}]"
      ]
     },
     "execution_count": 20,
     "metadata": {},
     "output_type": "execute_result"
    }
   ],
   "source": [
    "# Load model from pickle file\n",
    "my_model = pickle.load(open(\"models_selected_features.pckl\",\"rb\"))\n",
    "\n",
    "my_model#.score(X_test_sc, y_test)"
   ]
  },
  {
   "cell_type": "code",
   "execution_count": null,
   "id": "9014f9d5",
   "metadata": {},
   "outputs": [],
   "source": []
  }
 ],
 "metadata": {
  "kernelspec": {
   "display_name": "Python 3 (ipykernel)",
   "language": "python",
   "name": "python3"
  },
  "language_info": {
   "codemirror_mode": {
    "name": "ipython",
    "version": 3
   },
   "file_extension": ".py",
   "mimetype": "text/x-python",
   "name": "python",
   "nbconvert_exporter": "python",
   "pygments_lexer": "ipython3",
   "version": "3.8.6"
  },
  "toc": {
   "base_numbering": 1,
   "nav_menu": {},
   "number_sections": true,
   "sideBar": true,
   "skip_h1_title": false,
   "title_cell": "Table of Contents",
   "title_sidebar": "Contents",
   "toc_cell": false,
   "toc_position": {},
   "toc_section_display": true,
   "toc_window_display": true
  }
 },
 "nbformat": 4,
 "nbformat_minor": 5
}
