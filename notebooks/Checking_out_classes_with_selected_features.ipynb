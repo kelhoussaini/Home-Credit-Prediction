{
 "cells": [
  {
   "cell_type": "code",
   "execution_count": 1,
   "id": "f0653cc6",
   "metadata": {},
   "outputs": [],
   "source": [
    "import os\n",
    "import sys"
   ]
  },
  {
   "cell_type": "code",
   "execution_count": 2,
   "id": "e2777419",
   "metadata": {},
   "outputs": [],
   "source": [
    "path_dir = (os.path.dirname(os.getcwd()))\n",
    "sys.path.append(path_dir)\n",
    "    \n",
    "from homecredit.data import HomeCredit\n",
    "from homecredit.preparation import Preparation\n",
    "from homecredit.cleaner import Cleaning\n",
    "from homecredit.exploration import Exploration\n",
    "from homecredit.model import Modeling\n",
    "\n",
    "from homecredit.encoder import Encoder"
   ]
  },
  {
   "cell_type": "code",
   "execution_count": 3,
   "id": "948c7eff",
   "metadata": {},
   "outputs": [],
   "source": [
    "from sklearn.linear_model import LogisticRegression\n",
    "from sklearn.tree import DecisionTreeClassifier\n",
    "from sklearn.neighbors import KNeighborsClassifier\n",
    "\n",
    "import pickle"
   ]
  },
  {
   "cell_type": "markdown",
   "id": "29490cfd",
   "metadata": {},
   "source": [
    "# HomeCredit()"
   ]
  },
  {
   "cell_type": "code",
   "execution_count": 4,
   "id": "cb5dc7b8",
   "metadata": {},
   "outputs": [],
   "source": [
    "data = HomeCredit().get_data()"
   ]
  },
  {
   "cell_type": "code",
   "execution_count": 5,
   "id": "73e85739",
   "metadata": {},
   "outputs": [
    {
     "data": {
      "text/plain": [
       "dict_keys(['test', 'train'])"
      ]
     },
     "execution_count": 5,
     "metadata": {},
     "output_type": "execute_result"
    }
   ],
   "source": [
    "data.keys()"
   ]
  },
  {
   "cell_type": "code",
   "execution_count": 6,
   "id": "b045acd7",
   "metadata": {},
   "outputs": [
    {
     "data": {
      "text/plain": [
       "(307511, 122)"
      ]
     },
     "execution_count": 6,
     "metadata": {},
     "output_type": "execute_result"
    }
   ],
   "source": [
    "data['train'].shape"
   ]
  },
  {
   "cell_type": "code",
   "execution_count": 7,
   "id": "c5267822",
   "metadata": {},
   "outputs": [
    {
     "data": {
      "text/html": [
       "<div>\n",
       "<style scoped>\n",
       "    .dataframe tbody tr th:only-of-type {\n",
       "        vertical-align: middle;\n",
       "    }\n",
       "\n",
       "    .dataframe tbody tr th {\n",
       "        vertical-align: top;\n",
       "    }\n",
       "\n",
       "    .dataframe thead th {\n",
       "        text-align: right;\n",
       "    }\n",
       "</style>\n",
       "<table border=\"1\" class=\"dataframe\">\n",
       "  <thead>\n",
       "    <tr style=\"text-align: right;\">\n",
       "      <th></th>\n",
       "      <th>SK_ID_CURR</th>\n",
       "      <th>TARGET</th>\n",
       "      <th>NAME_CONTRACT_TYPE</th>\n",
       "      <th>CODE_GENDER</th>\n",
       "      <th>FLAG_OWN_CAR</th>\n",
       "      <th>FLAG_OWN_REALTY</th>\n",
       "      <th>CNT_CHILDREN</th>\n",
       "      <th>AMT_INCOME_TOTAL</th>\n",
       "      <th>AMT_CREDIT</th>\n",
       "      <th>AMT_ANNUITY</th>\n",
       "      <th>...</th>\n",
       "      <th>FLAG_DOCUMENT_18</th>\n",
       "      <th>FLAG_DOCUMENT_19</th>\n",
       "      <th>FLAG_DOCUMENT_20</th>\n",
       "      <th>FLAG_DOCUMENT_21</th>\n",
       "      <th>AMT_REQ_CREDIT_BUREAU_HOUR</th>\n",
       "      <th>AMT_REQ_CREDIT_BUREAU_DAY</th>\n",
       "      <th>AMT_REQ_CREDIT_BUREAU_WEEK</th>\n",
       "      <th>AMT_REQ_CREDIT_BUREAU_MON</th>\n",
       "      <th>AMT_REQ_CREDIT_BUREAU_QRT</th>\n",
       "      <th>AMT_REQ_CREDIT_BUREAU_YEAR</th>\n",
       "    </tr>\n",
       "  </thead>\n",
       "  <tbody>\n",
       "    <tr>\n",
       "      <th>0</th>\n",
       "      <td>100002</td>\n",
       "      <td>1</td>\n",
       "      <td>Cash loans</td>\n",
       "      <td>M</td>\n",
       "      <td>N</td>\n",
       "      <td>Y</td>\n",
       "      <td>0</td>\n",
       "      <td>202500.0</td>\n",
       "      <td>406597.5</td>\n",
       "      <td>24700.5</td>\n",
       "      <td>...</td>\n",
       "      <td>0</td>\n",
       "      <td>0</td>\n",
       "      <td>0</td>\n",
       "      <td>0</td>\n",
       "      <td>0.0</td>\n",
       "      <td>0.0</td>\n",
       "      <td>0.0</td>\n",
       "      <td>0.0</td>\n",
       "      <td>0.0</td>\n",
       "      <td>1.0</td>\n",
       "    </tr>\n",
       "    <tr>\n",
       "      <th>1</th>\n",
       "      <td>100003</td>\n",
       "      <td>0</td>\n",
       "      <td>Cash loans</td>\n",
       "      <td>F</td>\n",
       "      <td>N</td>\n",
       "      <td>N</td>\n",
       "      <td>0</td>\n",
       "      <td>270000.0</td>\n",
       "      <td>1293502.5</td>\n",
       "      <td>35698.5</td>\n",
       "      <td>...</td>\n",
       "      <td>0</td>\n",
       "      <td>0</td>\n",
       "      <td>0</td>\n",
       "      <td>0</td>\n",
       "      <td>0.0</td>\n",
       "      <td>0.0</td>\n",
       "      <td>0.0</td>\n",
       "      <td>0.0</td>\n",
       "      <td>0.0</td>\n",
       "      <td>0.0</td>\n",
       "    </tr>\n",
       "  </tbody>\n",
       "</table>\n",
       "<p>2 rows × 122 columns</p>\n",
       "</div>"
      ],
      "text/plain": [
       "   SK_ID_CURR  TARGET NAME_CONTRACT_TYPE CODE_GENDER FLAG_OWN_CAR  \\\n",
       "0      100002       1         Cash loans           M            N   \n",
       "1      100003       0         Cash loans           F            N   \n",
       "\n",
       "  FLAG_OWN_REALTY  CNT_CHILDREN  AMT_INCOME_TOTAL  AMT_CREDIT  AMT_ANNUITY  \\\n",
       "0               Y             0          202500.0    406597.5      24700.5   \n",
       "1               N             0          270000.0   1293502.5      35698.5   \n",
       "\n",
       "   ...  FLAG_DOCUMENT_18 FLAG_DOCUMENT_19 FLAG_DOCUMENT_20 FLAG_DOCUMENT_21  \\\n",
       "0  ...                 0                0                0                0   \n",
       "1  ...                 0                0                0                0   \n",
       "\n",
       "  AMT_REQ_CREDIT_BUREAU_HOUR AMT_REQ_CREDIT_BUREAU_DAY  \\\n",
       "0                        0.0                       0.0   \n",
       "1                        0.0                       0.0   \n",
       "\n",
       "   AMT_REQ_CREDIT_BUREAU_WEEK  AMT_REQ_CREDIT_BUREAU_MON  \\\n",
       "0                         0.0                        0.0   \n",
       "1                         0.0                        0.0   \n",
       "\n",
       "   AMT_REQ_CREDIT_BUREAU_QRT  AMT_REQ_CREDIT_BUREAU_YEAR  \n",
       "0                        0.0                         1.0  \n",
       "1                        0.0                         0.0  \n",
       "\n",
       "[2 rows x 122 columns]"
      ]
     },
     "execution_count": 7,
     "metadata": {},
     "output_type": "execute_result"
    }
   ],
   "source": [
    "data_home = HomeCredit().get_data()['train']\n",
    "data_home.head(2)"
   ]
  },
  {
   "cell_type": "code",
   "execution_count": 8,
   "id": "1b0f4ff9",
   "metadata": {},
   "outputs": [
    {
     "data": {
      "text/plain": [
       "(307511, 122)"
      ]
     },
     "execution_count": 8,
     "metadata": {},
     "output_type": "execute_result"
    }
   ],
   "source": [
    "data_home.shape"
   ]
  },
  {
   "cell_type": "code",
   "execution_count": 9,
   "id": "c121e7ac",
   "metadata": {},
   "outputs": [
    {
     "data": {
      "text/plain": [
       "N    202924\n",
       "Y    104587\n",
       "Name: FLAG_OWN_CAR, dtype: int64"
      ]
     },
     "execution_count": 9,
     "metadata": {},
     "output_type": "execute_result"
    }
   ],
   "source": [
    "data_home['FLAG_OWN_CAR'].value_counts()"
   ]
  },
  {
   "cell_type": "code",
   "execution_count": 10,
   "id": "0353a8cc",
   "metadata": {},
   "outputs": [
    {
     "data": {
      "text/plain": [
       "nan"
      ]
     },
     "execution_count": 10,
     "metadata": {},
     "output_type": "execute_result"
    }
   ],
   "source": [
    "max(data_home['OWN_CAR_AGE'])"
   ]
  },
  {
   "cell_type": "code",
   "execution_count": 11,
   "id": "31c21d03",
   "metadata": {},
   "outputs": [
    {
     "data": {
      "image/png": "[encoded data removed]",
      "text/plain": [
       "<Figure size 720x288 with 1 Axes>"
      ]
     },
     "metadata": {
      "needs_background": "light"
     },
     "output_type": "display_data"
    }
   ],
   "source": [
    "import seaborn as sns\n",
    "import matplotlib.pyplot as plt\n",
    "plt.figure(figsize = (10, 4))\n",
    "sns.histplot(data_home['OWN_CAR_AGE'], kde=True, bins= 50);"
   ]
  },
  {
   "cell_type": "code",
   "execution_count": 12,
   "id": "7a45c047",
   "metadata": {},
   "outputs": [
    {
     "data": {
      "text/plain": [
       "N    157417\n",
       "Y     94337\n",
       "Name: FLAG_OWN_CAR, dtype: int64"
      ]
     },
     "execution_count": 12,
     "metadata": {},
     "output_type": "execute_result"
    }
   ],
   "source": [
    "data_home = data_home[data_home['CODE_GENDER'] != 'XNA'] # with gender = XNA\n",
    "data_home = data_home[data_home['NAME_FAMILY_STATUS'] != 'Unknown'] # 'Unknown' status\n",
    "# Remove entries with DAYS_EMPLOYED > 200_000\n",
    "data_home = data_home[data_home['DAYS_EMPLOYED'] < 200_000]\n",
    "data_home = data_home[data_home['AMT_ANNUITY'] < 150_000]\n",
    "data_home = data_home[data_home['AMT_GOODS_PRICE'] < 2.5* 10**6]  \n",
    "\n",
    "data_home['FLAG_OWN_CAR'].value_counts()"
   ]
  },
  {
   "cell_type": "code",
   "execution_count": 13,
   "id": "9a33bfac",
   "metadata": {},
   "outputs": [
    {
     "data": {
      "text/plain": [
       "Y    94330\n",
       "Name: FLAG_OWN_CAR, dtype: int64"
      ]
     },
     "execution_count": 13,
     "metadata": {},
     "output_type": "execute_result"
    }
   ],
   "source": [
    "data_home = data_home[data_home['OWN_CAR_AGE'] < 80]\n",
    "data_home['FLAG_OWN_CAR'].value_counts()"
   ]
  },
  {
   "cell_type": "markdown",
   "id": "e848a6a3",
   "metadata": {},
   "source": [
    "# Preparation()"
   ]
  },
  {
   "cell_type": "code",
   "execution_count": 14,
   "id": "d16271bd",
   "metadata": {
    "scrolled": true
   },
   "outputs": [
    {
     "data": {
      "text/html": [
       "<div>\n",
       "<style scoped>\n",
       "    .dataframe tbody tr th:only-of-type {\n",
       "        vertical-align: middle;\n",
       "    }\n",
       "\n",
       "    .dataframe tbody tr th {\n",
       "        vertical-align: top;\n",
       "    }\n",
       "\n",
       "    .dataframe thead th {\n",
       "        text-align: right;\n",
       "    }\n",
       "</style>\n",
       "<table border=\"1\" class=\"dataframe\">\n",
       "  <thead>\n",
       "    <tr style=\"text-align: right;\">\n",
       "      <th></th>\n",
       "      <th>SK_ID_CURR</th>\n",
       "      <th>TARGET</th>\n",
       "      <th>NAME_CONTRACT_TYPE</th>\n",
       "      <th>CODE_GENDER</th>\n",
       "      <th>FLAG_OWN_CAR</th>\n",
       "      <th>FLAG_OWN_REALTY</th>\n",
       "      <th>CNT_CHILDREN</th>\n",
       "      <th>AMT_INCOME_TOTAL</th>\n",
       "      <th>AMT_CREDIT</th>\n",
       "      <th>AMT_ANNUITY</th>\n",
       "      <th>...</th>\n",
       "      <th>FLAG_DOCUMENT_18</th>\n",
       "      <th>FLAG_DOCUMENT_19</th>\n",
       "      <th>FLAG_DOCUMENT_20</th>\n",
       "      <th>FLAG_DOCUMENT_21</th>\n",
       "      <th>AMT_REQ_CREDIT_BUREAU_HOUR</th>\n",
       "      <th>AMT_REQ_CREDIT_BUREAU_DAY</th>\n",
       "      <th>AMT_REQ_CREDIT_BUREAU_WEEK</th>\n",
       "      <th>AMT_REQ_CREDIT_BUREAU_MON</th>\n",
       "      <th>AMT_REQ_CREDIT_BUREAU_QRT</th>\n",
       "      <th>AMT_REQ_CREDIT_BUREAU_YEAR</th>\n",
       "    </tr>\n",
       "  </thead>\n",
       "  <tbody>\n",
       "    <tr>\n",
       "      <th>0</th>\n",
       "      <td>100002</td>\n",
       "      <td>1</td>\n",
       "      <td>Cash loans</td>\n",
       "      <td>M</td>\n",
       "      <td>N</td>\n",
       "      <td>Y</td>\n",
       "      <td>0</td>\n",
       "      <td>202500.0</td>\n",
       "      <td>406597.5</td>\n",
       "      <td>24700.5</td>\n",
       "      <td>...</td>\n",
       "      <td>0</td>\n",
       "      <td>0</td>\n",
       "      <td>0</td>\n",
       "      <td>0</td>\n",
       "      <td>0.0</td>\n",
       "      <td>0.0</td>\n",
       "      <td>0.0</td>\n",
       "      <td>0.0</td>\n",
       "      <td>0.0</td>\n",
       "      <td>1.0</td>\n",
       "    </tr>\n",
       "    <tr>\n",
       "      <th>1</th>\n",
       "      <td>100003</td>\n",
       "      <td>0</td>\n",
       "      <td>Cash loans</td>\n",
       "      <td>F</td>\n",
       "      <td>N</td>\n",
       "      <td>N</td>\n",
       "      <td>0</td>\n",
       "      <td>270000.0</td>\n",
       "      <td>1293502.5</td>\n",
       "      <td>35698.5</td>\n",
       "      <td>...</td>\n",
       "      <td>0</td>\n",
       "      <td>0</td>\n",
       "      <td>0</td>\n",
       "      <td>0</td>\n",
       "      <td>0.0</td>\n",
       "      <td>0.0</td>\n",
       "      <td>0.0</td>\n",
       "      <td>0.0</td>\n",
       "      <td>0.0</td>\n",
       "      <td>0.0</td>\n",
       "    </tr>\n",
       "  </tbody>\n",
       "</table>\n",
       "<p>2 rows × 122 columns</p>\n",
       "</div>"
      ],
      "text/plain": [
       "   SK_ID_CURR  TARGET NAME_CONTRACT_TYPE CODE_GENDER FLAG_OWN_CAR  \\\n",
       "0      100002       1         Cash loans           M            N   \n",
       "1      100003       0         Cash loans           F            N   \n",
       "\n",
       "  FLAG_OWN_REALTY  CNT_CHILDREN  AMT_INCOME_TOTAL  AMT_CREDIT  AMT_ANNUITY  \\\n",
       "0               Y             0          202500.0    406597.5      24700.5   \n",
       "1               N             0          270000.0   1293502.5      35698.5   \n",
       "\n",
       "   ...  FLAG_DOCUMENT_18 FLAG_DOCUMENT_19 FLAG_DOCUMENT_20 FLAG_DOCUMENT_21  \\\n",
       "0  ...                 0                0                0                0   \n",
       "1  ...                 0                0                0                0   \n",
       "\n",
       "  AMT_REQ_CREDIT_BUREAU_HOUR AMT_REQ_CREDIT_BUREAU_DAY  \\\n",
       "0                        0.0                       0.0   \n",
       "1                        0.0                       0.0   \n",
       "\n",
       "   AMT_REQ_CREDIT_BUREAU_WEEK  AMT_REQ_CREDIT_BUREAU_MON  \\\n",
       "0                         0.0                        0.0   \n",
       "1                         0.0                        0.0   \n",
       "\n",
       "   AMT_REQ_CREDIT_BUREAU_QRT  AMT_REQ_CREDIT_BUREAU_YEAR  \n",
       "0                        0.0                         1.0  \n",
       "1                        0.0                         0.0  \n",
       "\n",
       "[2 rows x 122 columns]"
      ]
     },
     "execution_count": 14,
     "metadata": {},
     "output_type": "execute_result"
    }
   ],
   "source": [
    "prep = Preparation() # data_set = 'train', cols = None\n",
    "prep.data.head(2)"
   ]
  },
  {
   "cell_type": "code",
   "execution_count": 15,
   "id": "537302c1",
   "metadata": {},
   "outputs": [
    {
     "name": "stdout",
     "output_type": "stream",
     "text": [
      "shape :  (307511, 11)\n"
     ]
    },
    {
     "data": {
      "text/html": [
       "<div>\n",
       "<style scoped>\n",
       "    .dataframe tbody tr th:only-of-type {\n",
       "        vertical-align: middle;\n",
       "    }\n",
       "\n",
       "    .dataframe tbody tr th {\n",
       "        vertical-align: top;\n",
       "    }\n",
       "\n",
       "    .dataframe thead th {\n",
       "        text-align: right;\n",
       "    }\n",
       "</style>\n",
       "<table border=\"1\" class=\"dataframe\">\n",
       "  <thead>\n",
       "    <tr style=\"text-align: right;\">\n",
       "      <th></th>\n",
       "      <th>CODE_GENDER</th>\n",
       "      <th>FLAG_OWN_CAR</th>\n",
       "      <th>OCCUPATION_TYPE</th>\n",
       "      <th>NAME_INCOME_TYPE</th>\n",
       "      <th>NAME_TYPE_SUITE</th>\n",
       "      <th>EXT_SOURCE_3</th>\n",
       "      <th>DAYS_EMPLOYED</th>\n",
       "      <th>FLOORSMAX_AVG</th>\n",
       "      <th>DAYS_BIRTH</th>\n",
       "      <th>REGION_RATING_CLIENT_W_CITY</th>\n",
       "      <th>TARGET</th>\n",
       "    </tr>\n",
       "  </thead>\n",
       "  <tbody>\n",
       "    <tr>\n",
       "      <th>0</th>\n",
       "      <td>M</td>\n",
       "      <td>N</td>\n",
       "      <td>Laborers</td>\n",
       "      <td>Working</td>\n",
       "      <td>Unaccompanied</td>\n",
       "      <td>0.139376</td>\n",
       "      <td>-637</td>\n",
       "      <td>0.0833</td>\n",
       "      <td>-9461</td>\n",
       "      <td>2</td>\n",
       "      <td>1</td>\n",
       "    </tr>\n",
       "    <tr>\n",
       "      <th>1</th>\n",
       "      <td>F</td>\n",
       "      <td>N</td>\n",
       "      <td>Core staff</td>\n",
       "      <td>State servant</td>\n",
       "      <td>Family</td>\n",
       "      <td>NaN</td>\n",
       "      <td>-1188</td>\n",
       "      <td>0.2917</td>\n",
       "      <td>-16765</td>\n",
       "      <td>1</td>\n",
       "      <td>0</td>\n",
       "    </tr>\n",
       "  </tbody>\n",
       "</table>\n",
       "</div>"
      ],
      "text/plain": [
       "  CODE_GENDER FLAG_OWN_CAR OCCUPATION_TYPE NAME_INCOME_TYPE NAME_TYPE_SUITE  \\\n",
       "0           M            N        Laborers          Working   Unaccompanied   \n",
       "1           F            N      Core staff    State servant          Family   \n",
       "\n",
       "   EXT_SOURCE_3  DAYS_EMPLOYED  FLOORSMAX_AVG  DAYS_BIRTH  \\\n",
       "0      0.139376           -637         0.0833       -9461   \n",
       "1           NaN          -1188         0.2917      -16765   \n",
       "\n",
       "   REGION_RATING_CLIENT_W_CITY  TARGET  \n",
       "0                            2       1  \n",
       "1                            1       0  "
      ]
     },
     "execution_count": 15,
     "metadata": {},
     "output_type": "execute_result"
    }
   ],
   "source": [
    "mask = ['CODE_GENDER', 'FLAG_OWN_CAR', 'OCCUPATION_TYPE',  # categ\n",
    "        'NAME_INCOME_TYPE', 'NAME_TYPE_SUITE', # categ \n",
    "       'EXT_SOURCE_3', 'DAYS_EMPLOYED', 'FLOORSMAX_AVG',  # num \n",
    "        'DAYS_BIRTH', 'REGION_RATING_CLIENT_W_CITY', # num\n",
    "        'TARGET' # target\n",
    "       ]\n",
    "\n",
    "prep = Preparation(cols = mask) #data_set='train'\n",
    "\n",
    "print(\"shape : \", prep.data.shape)\n",
    "prep.data.head(2)"
   ]
  },
  {
   "cell_type": "code",
   "execution_count": 16,
   "id": "7160af6a",
   "metadata": {},
   "outputs": [
    {
     "data": {
      "text/plain": [
       "['CODE_GENDER',\n",
       " 'FLAG_OWN_CAR',\n",
       " 'OCCUPATION_TYPE',\n",
       " 'NAME_INCOME_TYPE',\n",
       " 'NAME_TYPE_SUITE']"
      ]
     },
     "execution_count": 16,
     "metadata": {},
     "output_type": "execute_result"
    }
   ],
   "source": [
    "prep.get_catcols()"
   ]
  },
  {
   "cell_type": "code",
   "execution_count": 17,
   "id": "bb42f7db",
   "metadata": {},
   "outputs": [
    {
     "data": {
      "image/png": "[encoded data removed]",
      "text/plain": [
       "<Figure size 1368x1224 with 2 Axes>"
      ]
     },
     "metadata": {
      "needs_background": "light"
     },
     "output_type": "display_data"
    }
   ],
   "source": [
    "prep.plot_num_cat_cols(numcol= \"DAYS_EMPLOYED\", catcol=\"OCCUPATION_TYPE\", plot_type=0)"
   ]
  },
  {
   "cell_type": "code",
   "execution_count": 18,
   "id": "e327ed91",
   "metadata": {},
   "outputs": [
    {
     "name": "stderr",
     "output_type": "stream",
     "text": [
      "/Users/kenzaelhoussaini/.pyenv/versions/3.8.6/envs/lewagon/lib/python3.8/site-packages/seaborn/categorical.py:1296: UserWarning: 44.6% of the points cannot be placed; you may want to decrease the size of the markers or use stripplot.\n",
      "  warnings.warn(msg, UserWarning)\n",
      "/Users/kenzaelhoussaini/.pyenv/versions/3.8.6/envs/lewagon/lib/python3.8/site-packages/seaborn/categorical.py:1296: UserWarning: 21.5% of the points cannot be placed; you may want to decrease the size of the markers or use stripplot.\n",
      "  warnings.warn(msg, UserWarning)\n",
      "/Users/kenzaelhoussaini/.pyenv/versions/3.8.6/envs/lewagon/lib/python3.8/site-packages/seaborn/categorical.py:1296: UserWarning: 5.2% of the points cannot be placed; you may want to decrease the size of the markers or use stripplot.\n",
      "  warnings.warn(msg, UserWarning)\n",
      "/Users/kenzaelhoussaini/.pyenv/versions/3.8.6/envs/lewagon/lib/python3.8/site-packages/seaborn/categorical.py:1296: UserWarning: 20.8% of the points cannot be placed; you may want to decrease the size of the markers or use stripplot.\n",
      "  warnings.warn(msg, UserWarning)\n",
      "/Users/kenzaelhoussaini/.pyenv/versions/3.8.6/envs/lewagon/lib/python3.8/site-packages/seaborn/categorical.py:1296: UserWarning: 36.4% of the points cannot be placed; you may want to decrease the size of the markers or use stripplot.\n",
      "  warnings.warn(msg, UserWarning)\n",
      "/Users/kenzaelhoussaini/.pyenv/versions/3.8.6/envs/lewagon/lib/python3.8/site-packages/seaborn/categorical.py:1296: UserWarning: 6.7% of the points cannot be placed; you may want to decrease the size of the markers or use stripplot.\n",
      "  warnings.warn(msg, UserWarning)\n"
     ]
    },
    {
     "data": {
      "image/png": "[encoded data removed]",
      "text/plain": [
       "<Figure size 1368x504 with 1 Axes>"
      ]
     },
     "metadata": {
      "needs_background": "light"
     },
     "output_type": "display_data"
    }
   ],
   "source": [
    "prep.plot_num_cat_cols(numcol= \"DAYS_EMPLOYED\", catcol=\"OCCUPATION_TYPE\", hue=\"TARGET\")"
   ]
  },
  {
   "cell_type": "code",
   "execution_count": 19,
   "id": "feef8cf0",
   "metadata": {
    "scrolled": true
   },
   "outputs": [
    {
     "data": {
      "image/png": "[encoded data removed]",
      "text/plain": [
       "<Figure size 1008x288 with 2 Axes>"
      ]
     },
     "metadata": {
      "needs_background": "light"
     },
     "output_type": "display_data"
    },
    {
     "data": {
      "text/html": [
       "<div>\n",
       "<style scoped>\n",
       "    .dataframe tbody tr th:only-of-type {\n",
       "        vertical-align: middle;\n",
       "    }\n",
       "\n",
       "    .dataframe tbody tr th {\n",
       "        vertical-align: top;\n",
       "    }\n",
       "\n",
       "    .dataframe thead th {\n",
       "        text-align: right;\n",
       "    }\n",
       "</style>\n",
       "<table border=\"1\" class=\"dataframe\">\n",
       "  <thead>\n",
       "    <tr style=\"text-align: right;\">\n",
       "      <th></th>\n",
       "      <th>TARGET</th>\n",
       "    </tr>\n",
       "  </thead>\n",
       "  <tbody>\n",
       "    <tr>\n",
       "      <th>0</th>\n",
       "      <td>0.919271</td>\n",
       "    </tr>\n",
       "    <tr>\n",
       "      <th>1</th>\n",
       "      <td>0.080729</td>\n",
       "    </tr>\n",
       "  </tbody>\n",
       "</table>\n",
       "</div>"
      ],
      "text/plain": [
       "     TARGET\n",
       "0  0.919271\n",
       "1  0.080729"
      ]
     },
     "execution_count": 19,
     "metadata": {},
     "output_type": "execute_result"
    }
   ],
   "source": [
    "prep.targetVar()# targ= \"TARGET\", other_df=None"
   ]
  },
  {
   "cell_type": "markdown",
   "id": "fd3bcbe3",
   "metadata": {},
   "source": [
    "## when  data_set = 'test'"
   ]
  },
  {
   "cell_type": "code",
   "execution_count": 20,
   "id": "680aa05f",
   "metadata": {},
   "outputs": [],
   "source": [
    "T = mask[:] #  [:] to keep the original list 'mask' unchanged\n",
    "T.remove('TARGET')"
   ]
  },
  {
   "cell_type": "code",
   "execution_count": 21,
   "id": "9458d34e",
   "metadata": {},
   "outputs": [
    {
     "data": {
      "text/html": [
       "<div>\n",
       "<style scoped>\n",
       "    .dataframe tbody tr th:only-of-type {\n",
       "        vertical-align: middle;\n",
       "    }\n",
       "\n",
       "    .dataframe tbody tr th {\n",
       "        vertical-align: top;\n",
       "    }\n",
       "\n",
       "    .dataframe thead th {\n",
       "        text-align: right;\n",
       "    }\n",
       "</style>\n",
       "<table border=\"1\" class=\"dataframe\">\n",
       "  <thead>\n",
       "    <tr style=\"text-align: right;\">\n",
       "      <th></th>\n",
       "      <th>CODE_GENDER</th>\n",
       "      <th>FLAG_OWN_CAR</th>\n",
       "      <th>OCCUPATION_TYPE</th>\n",
       "      <th>NAME_INCOME_TYPE</th>\n",
       "      <th>NAME_TYPE_SUITE</th>\n",
       "      <th>EXT_SOURCE_3</th>\n",
       "      <th>DAYS_EMPLOYED</th>\n",
       "      <th>FLOORSMAX_AVG</th>\n",
       "      <th>DAYS_BIRTH</th>\n",
       "      <th>REGION_RATING_CLIENT_W_CITY</th>\n",
       "    </tr>\n",
       "  </thead>\n",
       "  <tbody>\n",
       "    <tr>\n",
       "      <th>0</th>\n",
       "      <td>F</td>\n",
       "      <td>N</td>\n",
       "      <td>NaN</td>\n",
       "      <td>Working</td>\n",
       "      <td>Unaccompanied</td>\n",
       "      <td>0.159520</td>\n",
       "      <td>-2329</td>\n",
       "      <td>0.125</td>\n",
       "      <td>-19241</td>\n",
       "      <td>2</td>\n",
       "    </tr>\n",
       "    <tr>\n",
       "      <th>1</th>\n",
       "      <td>M</td>\n",
       "      <td>N</td>\n",
       "      <td>Low-skill Laborers</td>\n",
       "      <td>Working</td>\n",
       "      <td>Unaccompanied</td>\n",
       "      <td>0.432962</td>\n",
       "      <td>-4469</td>\n",
       "      <td>NaN</td>\n",
       "      <td>-18064</td>\n",
       "      <td>2</td>\n",
       "    </tr>\n",
       "  </tbody>\n",
       "</table>\n",
       "</div>"
      ],
      "text/plain": [
       "  CODE_GENDER FLAG_OWN_CAR     OCCUPATION_TYPE NAME_INCOME_TYPE  \\\n",
       "0           F            N                 NaN          Working   \n",
       "1           M            N  Low-skill Laborers          Working   \n",
       "\n",
       "  NAME_TYPE_SUITE  EXT_SOURCE_3  DAYS_EMPLOYED  FLOORSMAX_AVG  DAYS_BIRTH  \\\n",
       "0   Unaccompanied      0.159520          -2329          0.125      -19241   \n",
       "1   Unaccompanied      0.432962          -4469            NaN      -18064   \n",
       "\n",
       "   REGION_RATING_CLIENT_W_CITY  \n",
       "0                            2  \n",
       "1                            2  "
      ]
     },
     "execution_count": 21,
     "metadata": {},
     "output_type": "execute_result"
    }
   ],
   "source": [
    "prep = Preparation(data_set='test', cols = T)\n",
    "prep.data.head(2)"
   ]
  },
  {
   "cell_type": "code",
   "execution_count": 22,
   "id": "1a8953fa",
   "metadata": {},
   "outputs": [
    {
     "data": {
      "text/plain": [
       "(48744, 10)"
      ]
     },
     "execution_count": 22,
     "metadata": {},
     "output_type": "execute_result"
    }
   ],
   "source": [
    "prep.data.shape"
   ]
  },
  {
   "cell_type": "markdown",
   "id": "2a830fbe",
   "metadata": {},
   "source": [
    "# Cleaning()"
   ]
  },
  {
   "cell_type": "code",
   "execution_count": 22,
   "id": "1901fca5",
   "metadata": {},
   "outputs": [],
   "source": [
    "mask = ['CODE_GENDER', 'FLAG_OWN_CAR', 'OCCUPATION_TYPE',  # categ\n",
    "        'NAME_INCOME_TYPE', 'NAME_TYPE_SUITE', # categ \n",
    "       'EXT_SOURCE_3', 'DAYS_EMPLOYED', 'FLOORSMAX_AVG',  # num \n",
    "        'DAYS_BIRTH', 'REGION_RATING_CLIENT_W_CITY', # num\n",
    "        'TARGET' # target\n",
    "       ]"
   ]
  },
  {
   "cell_type": "code",
   "execution_count": 23,
   "id": "e6159277",
   "metadata": {},
   "outputs": [],
   "source": [
    "cl = Cleaning(cols = mask) # data_set = 'train', cols = None, newdf = None, targ= \"TARGET\""
   ]
  },
  {
   "cell_type": "code",
   "execution_count": 29,
   "id": "6307aff8",
   "metadata": {},
   "outputs": [
    {
     "data": {
      "text/plain": [
       "dict_keys(['prep', 'cols', 'data_set', 'data', 'newdata'])"
      ]
     },
     "execution_count": 29,
     "metadata": {},
     "output_type": "execute_result"
    }
   ],
   "source": [
    "cl.__dict__.keys()"
   ]
  },
  {
   "cell_type": "code",
   "execution_count": 30,
   "id": "54b53762",
   "metadata": {},
   "outputs": [
    {
     "data": {
      "text/plain": [
       "((307511, 11), (48744, 10))"
      ]
     },
     "execution_count": 30,
     "metadata": {},
     "output_type": "execute_result"
    }
   ],
   "source": [
    "cl.data.shape, cl.newdata.shape  # data --> train, newdata --> test"
   ]
  },
  {
   "cell_type": "code",
   "execution_count": 31,
   "id": "8a908b17",
   "metadata": {},
   "outputs": [
    {
     "data": {
      "text/html": [
       "<div>\n",
       "<style scoped>\n",
       "    .dataframe tbody tr th:only-of-type {\n",
       "        vertical-align: middle;\n",
       "    }\n",
       "\n",
       "    .dataframe tbody tr th {\n",
       "        vertical-align: top;\n",
       "    }\n",
       "\n",
       "    .dataframe thead th {\n",
       "        text-align: right;\n",
       "    }\n",
       "</style>\n",
       "<table border=\"1\" class=\"dataframe\">\n",
       "  <thead>\n",
       "    <tr style=\"text-align: right;\">\n",
       "      <th></th>\n",
       "      <th>CODE_GENDER</th>\n",
       "      <th>FLAG_OWN_CAR</th>\n",
       "      <th>OCCUPATION_TYPE</th>\n",
       "      <th>NAME_INCOME_TYPE</th>\n",
       "      <th>NAME_TYPE_SUITE</th>\n",
       "      <th>EXT_SOURCE_3</th>\n",
       "      <th>DAYS_EMPLOYED</th>\n",
       "      <th>FLOORSMAX_AVG</th>\n",
       "      <th>DAYS_BIRTH</th>\n",
       "      <th>REGION_RATING_CLIENT_W_CITY</th>\n",
       "      <th>TARGET</th>\n",
       "    </tr>\n",
       "  </thead>\n",
       "  <tbody>\n",
       "    <tr>\n",
       "      <th>0</th>\n",
       "      <td>M</td>\n",
       "      <td>N</td>\n",
       "      <td>Laborers</td>\n",
       "      <td>Working</td>\n",
       "      <td>Unaccompanied</td>\n",
       "      <td>0.139376</td>\n",
       "      <td>-637</td>\n",
       "      <td>0.0833</td>\n",
       "      <td>-9461</td>\n",
       "      <td>2</td>\n",
       "      <td>1</td>\n",
       "    </tr>\n",
       "    <tr>\n",
       "      <th>1</th>\n",
       "      <td>F</td>\n",
       "      <td>N</td>\n",
       "      <td>Core staff</td>\n",
       "      <td>State servant</td>\n",
       "      <td>Family</td>\n",
       "      <td>NaN</td>\n",
       "      <td>-1188</td>\n",
       "      <td>0.2917</td>\n",
       "      <td>-16765</td>\n",
       "      <td>1</td>\n",
       "      <td>0</td>\n",
       "    </tr>\n",
       "  </tbody>\n",
       "</table>\n",
       "</div>"
      ],
      "text/plain": [
       "  CODE_GENDER FLAG_OWN_CAR OCCUPATION_TYPE NAME_INCOME_TYPE NAME_TYPE_SUITE  \\\n",
       "0           M            N        Laborers          Working   Unaccompanied   \n",
       "1           F            N      Core staff    State servant          Family   \n",
       "\n",
       "   EXT_SOURCE_3  DAYS_EMPLOYED  FLOORSMAX_AVG  DAYS_BIRTH  \\\n",
       "0      0.139376           -637         0.0833       -9461   \n",
       "1           NaN          -1188         0.2917      -16765   \n",
       "\n",
       "   REGION_RATING_CLIENT_W_CITY  TARGET  \n",
       "0                            2       1  \n",
       "1                            1       0  "
      ]
     },
     "execution_count": 31,
     "metadata": {},
     "output_type": "execute_result"
    }
   ],
   "source": [
    "cl.data.head(2)# data --> train"
   ]
  },
  {
   "cell_type": "code",
   "execution_count": 32,
   "id": "037765d2",
   "metadata": {},
   "outputs": [
    {
     "data": {
      "text/html": [
       "<div>\n",
       "<style scoped>\n",
       "    .dataframe tbody tr th:only-of-type {\n",
       "        vertical-align: middle;\n",
       "    }\n",
       "\n",
       "    .dataframe tbody tr th {\n",
       "        vertical-align: top;\n",
       "    }\n",
       "\n",
       "    .dataframe thead th {\n",
       "        text-align: right;\n",
       "    }\n",
       "</style>\n",
       "<table border=\"1\" class=\"dataframe\">\n",
       "  <thead>\n",
       "    <tr style=\"text-align: right;\">\n",
       "      <th></th>\n",
       "      <th>CODE_GENDER</th>\n",
       "      <th>FLAG_OWN_CAR</th>\n",
       "      <th>OCCUPATION_TYPE</th>\n",
       "      <th>NAME_INCOME_TYPE</th>\n",
       "      <th>NAME_TYPE_SUITE</th>\n",
       "      <th>EXT_SOURCE_3</th>\n",
       "      <th>DAYS_EMPLOYED</th>\n",
       "      <th>FLOORSMAX_AVG</th>\n",
       "      <th>DAYS_BIRTH</th>\n",
       "      <th>REGION_RATING_CLIENT_W_CITY</th>\n",
       "    </tr>\n",
       "  </thead>\n",
       "  <tbody>\n",
       "    <tr>\n",
       "      <th>0</th>\n",
       "      <td>F</td>\n",
       "      <td>N</td>\n",
       "      <td>NaN</td>\n",
       "      <td>Working</td>\n",
       "      <td>Unaccompanied</td>\n",
       "      <td>0.159520</td>\n",
       "      <td>-2329</td>\n",
       "      <td>0.125</td>\n",
       "      <td>-19241</td>\n",
       "      <td>2</td>\n",
       "    </tr>\n",
       "    <tr>\n",
       "      <th>1</th>\n",
       "      <td>M</td>\n",
       "      <td>N</td>\n",
       "      <td>Low-skill Laborers</td>\n",
       "      <td>Working</td>\n",
       "      <td>Unaccompanied</td>\n",
       "      <td>0.432962</td>\n",
       "      <td>-4469</td>\n",
       "      <td>NaN</td>\n",
       "      <td>-18064</td>\n",
       "      <td>2</td>\n",
       "    </tr>\n",
       "  </tbody>\n",
       "</table>\n",
       "</div>"
      ],
      "text/plain": [
       "  CODE_GENDER FLAG_OWN_CAR     OCCUPATION_TYPE NAME_INCOME_TYPE  \\\n",
       "0           F            N                 NaN          Working   \n",
       "1           M            N  Low-skill Laborers          Working   \n",
       "\n",
       "  NAME_TYPE_SUITE  EXT_SOURCE_3  DAYS_EMPLOYED  FLOORSMAX_AVG  DAYS_BIRTH  \\\n",
       "0   Unaccompanied      0.159520          -2329          0.125      -19241   \n",
       "1   Unaccompanied      0.432962          -4469            NaN      -18064   \n",
       "\n",
       "   REGION_RATING_CLIENT_W_CITY  \n",
       "0                            2  \n",
       "1                            2  "
      ]
     },
     "execution_count": 32,
     "metadata": {},
     "output_type": "execute_result"
    }
   ],
   "source": [
    "cl.newdata.head(2) #newdata --> test"
   ]
  },
  {
   "cell_type": "code",
   "execution_count": 33,
   "id": "c0b3d5a1",
   "metadata": {},
   "outputs": [
    {
     "data": {
      "text/html": [
       "<div>\n",
       "<style scoped>\n",
       "    .dataframe tbody tr th:only-of-type {\n",
       "        vertical-align: middle;\n",
       "    }\n",
       "\n",
       "    .dataframe tbody tr th {\n",
       "        vertical-align: top;\n",
       "    }\n",
       "\n",
       "    .dataframe thead th {\n",
       "        text-align: right;\n",
       "    }\n",
       "</style>\n",
       "<table border=\"1\" class=\"dataframe\">\n",
       "  <thead>\n",
       "    <tr style=\"text-align: right;\">\n",
       "      <th></th>\n",
       "      <th>0</th>\n",
       "    </tr>\n",
       "  </thead>\n",
       "  <tbody>\n",
       "    <tr>\n",
       "      <th>FLOORSMAX_AVG</th>\n",
       "      <td>153020</td>\n",
       "    </tr>\n",
       "    <tr>\n",
       "      <th>OCCUPATION_TYPE</th>\n",
       "      <td>96391</td>\n",
       "    </tr>\n",
       "    <tr>\n",
       "      <th>EXT_SOURCE_3</th>\n",
       "      <td>60965</td>\n",
       "    </tr>\n",
       "    <tr>\n",
       "      <th>NAME_TYPE_SUITE</th>\n",
       "      <td>1292</td>\n",
       "    </tr>\n",
       "    <tr>\n",
       "      <th>CODE_GENDER</th>\n",
       "      <td>0</td>\n",
       "    </tr>\n",
       "    <tr>\n",
       "      <th>FLAG_OWN_CAR</th>\n",
       "      <td>0</td>\n",
       "    </tr>\n",
       "    <tr>\n",
       "      <th>NAME_INCOME_TYPE</th>\n",
       "      <td>0</td>\n",
       "    </tr>\n",
       "    <tr>\n",
       "      <th>DAYS_EMPLOYED</th>\n",
       "      <td>0</td>\n",
       "    </tr>\n",
       "    <tr>\n",
       "      <th>DAYS_BIRTH</th>\n",
       "      <td>0</td>\n",
       "    </tr>\n",
       "    <tr>\n",
       "      <th>REGION_RATING_CLIENT_W_CITY</th>\n",
       "      <td>0</td>\n",
       "    </tr>\n",
       "    <tr>\n",
       "      <th>TARGET</th>\n",
       "      <td>0</td>\n",
       "    </tr>\n",
       "  </tbody>\n",
       "</table>\n",
       "</div>"
      ],
      "text/plain": [
       "                                  0\n",
       "FLOORSMAX_AVG                153020\n",
       "OCCUPATION_TYPE               96391\n",
       "EXT_SOURCE_3                  60965\n",
       "NAME_TYPE_SUITE                1292\n",
       "CODE_GENDER                       0\n",
       "FLAG_OWN_CAR                      0\n",
       "NAME_INCOME_TYPE                  0\n",
       "DAYS_EMPLOYED                     0\n",
       "DAYS_BIRTH                        0\n",
       "REGION_RATING_CLIENT_W_CITY       0\n",
       "TARGET                            0"
      ]
     },
     "execution_count": 33,
     "metadata": {},
     "output_type": "execute_result"
    }
   ],
   "source": [
    "cl.get_count_missvalues() # data --> train"
   ]
  },
  {
   "cell_type": "code",
   "execution_count": 37,
   "id": "c5e04de8",
   "metadata": {},
   "outputs": [
    {
     "name": "stdout",
     "output_type": "stream",
     "text": [
      "train :  (252133, 11)\n",
      "test :  (39470, 10)\n"
     ]
    }
   ],
   "source": [
    "#cl.data.shape : (307511, 11), # data --> train\n",
    "# cl.newdata.shape  : (48744, 10) # newdata --> test\n",
    "\n",
    "print(\"train : \", cl.remove_entries(set_df = 'train').shape)\n",
    "print(\"test : \", cl.remove_entries(set_df = 'test').shape)"
   ]
  },
  {
   "cell_type": "code",
   "execution_count": 38,
   "id": "5aff7ac9",
   "metadata": {},
   "outputs": [
    {
     "name": "stdout",
     "output_type": "stream",
     "text": [
      "train :  (252133, 11)\n",
      "test :  (39470, 10)\n"
     ]
    }
   ],
   "source": [
    "print(\"train : \", cl.remove_missvalues(set_df = 'train').shape)\n",
    "print(\"test : \", cl.remove_missvalues(set_df = 'test').shape)"
   ]
  },
  {
   "cell_type": "code",
   "execution_count": 40,
   "id": "50160e49",
   "metadata": {},
   "outputs": [
    {
     "name": "stdout",
     "output_type": "stream",
     "text": [
      "train :  311668\n",
      "test :  48505\n"
     ]
    }
   ],
   "source": [
    "print(\"train : \", cl.data.isnull().sum().sum())\n",
    "print(\"test : \", cl.newdata.isnull().sum().sum())"
   ]
  },
  {
   "cell_type": "code",
   "execution_count": 41,
   "id": "43dfd2c3",
   "metadata": {},
   "outputs": [
    {
     "name": "stdout",
     "output_type": "stream",
     "text": [
      "train :  0\n",
      "test :  0\n"
     ]
    }
   ],
   "source": [
    "print(\"train : \", cl.remove_missvalues(set_df = 'train').isnull().sum().sum())\n",
    "print(\"test : \", cl.remove_missvalues(set_df = 'test').isnull().sum().sum())"
   ]
  },
  {
   "cell_type": "code",
   "execution_count": 42,
   "id": "f1ca1c85",
   "metadata": {},
   "outputs": [
    {
     "name": "stderr",
     "output_type": "stream",
     "text": [
      "/Users/kenzaelhoussaini/.pyenv/versions/3.8.6/envs/lewagon/lib/python3.8/site-packages/seaborn/_decorators.py:36: FutureWarning: Pass the following variables as keyword args: x, y. From version 0.12, the only valid positional argument will be `data`, and passing other arguments without an explicit keyword will result in an error or misinterpretation.\n",
      "  warnings.warn(\n"
     ]
    },
    {
     "data": {
      "text/html": [
       "<div>\n",
       "<style scoped>\n",
       "    .dataframe tbody tr th:only-of-type {\n",
       "        vertical-align: middle;\n",
       "    }\n",
       "\n",
       "    .dataframe tbody tr th {\n",
       "        vertical-align: top;\n",
       "    }\n",
       "\n",
       "    .dataframe thead th {\n",
       "        text-align: right;\n",
       "    }\n",
       "</style>\n",
       "<table border=\"1\" class=\"dataframe\">\n",
       "  <thead>\n",
       "    <tr style=\"text-align: right;\">\n",
       "      <th></th>\n",
       "      <th>Number of missing values</th>\n",
       "      <th>Percent</th>\n",
       "    </tr>\n",
       "  </thead>\n",
       "  <tbody>\n",
       "    <tr>\n",
       "      <th>FLOORSMAX_AVG</th>\n",
       "      <td>153020</td>\n",
       "      <td>49.76</td>\n",
       "    </tr>\n",
       "    <tr>\n",
       "      <th>OCCUPATION_TYPE</th>\n",
       "      <td>96391</td>\n",
       "      <td>31.35</td>\n",
       "    </tr>\n",
       "    <tr>\n",
       "      <th>EXT_SOURCE_3</th>\n",
       "      <td>60965</td>\n",
       "      <td>19.83</td>\n",
       "    </tr>\n",
       "    <tr>\n",
       "      <th>NAME_TYPE_SUITE</th>\n",
       "      <td>1292</td>\n",
       "      <td>0.42</td>\n",
       "    </tr>\n",
       "  </tbody>\n",
       "</table>\n",
       "</div>"
      ],
      "text/plain": [
       "                 Number of missing values  Percent\n",
       "FLOORSMAX_AVG                      153020    49.76\n",
       "OCCUPATION_TYPE                     96391    31.35\n",
       "EXT_SOURCE_3                        60965    19.83\n",
       "NAME_TYPE_SUITE                      1292     0.42"
      ]
     },
     "execution_count": 42,
     "metadata": {},
     "output_type": "execute_result"
    },
    {
     "data": {
      "image/png": "[encoded data removed]",
      "text/plain": [
       "<Figure size 1368x720 with 1 Axes>"
      ]
     },
     "metadata": {
      "needs_background": "light"
     },
     "output_type": "display_data"
    }
   ],
   "source": [
    "cl.plot_missvalues_table() # na_name=False: # data : train\n",
    "                                            # if na_names: print the features list  "
   ]
  },
  {
   "cell_type": "code",
   "execution_count": 43,
   "id": "0e55f94a",
   "metadata": {},
   "outputs": [
    {
     "name": "stderr",
     "output_type": "stream",
     "text": [
      "/Users/kenzaelhoussaini/.pyenv/versions/3.8.6/envs/lewagon/lib/python3.8/site-packages/seaborn/_decorators.py:36: FutureWarning: Pass the following variables as keyword args: x, y. From version 0.12, the only valid positional argument will be `data`, and passing other arguments without an explicit keyword will result in an error or misinterpretation.\n",
      "  warnings.warn(\n"
     ]
    },
    {
     "data": {
      "text/plain": [
       "['OCCUPATION_TYPE', 'NAME_TYPE_SUITE', 'EXT_SOURCE_3', 'FLOORSMAX_AVG']"
      ]
     },
     "execution_count": 43,
     "metadata": {},
     "output_type": "execute_result"
    },
    {
     "data": {
      "image/png": "[encoded data removed]",
      "text/plain": [
       "<Figure size 1368x720 with 1 Axes>"
      ]
     },
     "metadata": {
      "needs_background": "light"
     },
     "output_type": "display_data"
    }
   ],
   "source": [
    "cl.plot_missvalues_table(na_name= True)"
   ]
  },
  {
   "cell_type": "markdown",
   "id": "b4642a0d",
   "metadata": {},
   "source": [
    "## Plots 'Repartition of a feature' : before cleaning"
   ]
  },
  {
   "cell_type": "code",
   "execution_count": 44,
   "id": "806ee4e0",
   "metadata": {},
   "outputs": [
    {
     "data": {
      "image/png": "[encoded data removed]",
      "text/plain": [
       "<Figure size 1008x288 with 2 Axes>"
      ]
     },
     "metadata": {
      "needs_background": "light"
     },
     "output_type": "display_data"
    }
   ],
   "source": [
    "# without cleaning , here  : \"CODE_GENDER\"\n",
    "cl.prep.plot_catcols_single(col = \"CODE_GENDER\")  # prep = Preparation(data_set, cols)"
   ]
  },
  {
   "cell_type": "markdown",
   "id": "66dea105",
   "metadata": {},
   "source": [
    "## Plots  'Repartition of a feature' : after cleaning"
   ]
  },
  {
   "cell_type": "code",
   "execution_count": 46,
   "id": "38657d5a",
   "metadata": {},
   "outputs": [
    {
     "data": {
      "image/png": "[encoded data removed]",
      "text/plain": [
       "<Figure size 1008x288 with 2 Axes>"
      ]
     },
     "metadata": {
      "needs_background": "light"
     },
     "output_type": "display_data"
    }
   ],
   "source": [
    "# with cleaning , here  : \"CODE_GENDER\"\n",
    "cl.prep.data = cl.remove_missvalues(set_df = 'train')\n",
    "cl.prep.plot_catcols_single(col = \"CODE_GENDER\")  # prep = Preparation(data_set, cols)"
   ]
  },
  {
   "cell_type": "markdown",
   "id": "56a51e7f",
   "metadata": {},
   "source": [
    "## Checking out the Cleaning() class when data_set = 'test'"
   ]
  },
  {
   "cell_type": "code",
   "execution_count": 4,
   "id": "d7e2dace",
   "metadata": {},
   "outputs": [],
   "source": [
    "mask = ['CODE_GENDER', 'FLAG_OWN_CAR', 'OCCUPATION_TYPE',  # categ\n",
    "        'NAME_INCOME_TYPE', 'NAME_TYPE_SUITE', # categ \n",
    "       'EXT_SOURCE_3', 'DAYS_EMPLOYED', 'FLOORSMAX_AVG',  # num \n",
    "        'DAYS_BIRTH', 'REGION_RATING_CLIENT_W_CITY', # num\n",
    "        'TARGET' # target\n",
    "       ]\n",
    "\n",
    "\n",
    "T = mask[:] #  [:] to keep the original list 'mask' unchanged\n",
    "T.remove('TARGET')"
   ]
  },
  {
   "cell_type": "code",
   "execution_count": 5,
   "id": "32be37a2",
   "metadata": {},
   "outputs": [
    {
     "name": "stdout",
     "output_type": "stream",
     "text": [
      "Please, it is better to call Cleaning(), with data_set = 'train', that includes targetVar\n",
      "Cleaning().newdata contains the data test after cleaning\n"
     ]
    }
   ],
   "source": [
    "tt = Cleaning(data_set = 'test', cols= mask) # data_set = 'train', cols = None, newdf = None, targ= \"TARGET\""
   ]
  },
  {
   "cell_type": "code",
   "execution_count": 6,
   "id": "0e9260f8",
   "metadata": {},
   "outputs": [
    {
     "data": {
      "text/plain": [
       "dict_keys(['prep', 'cols', 'data_set', 'data', 'newdata'])"
      ]
     },
     "execution_count": 6,
     "metadata": {},
     "output_type": "execute_result"
    }
   ],
   "source": [
    "tt.__dict__.keys()"
   ]
  },
  {
   "cell_type": "code",
   "execution_count": 8,
   "id": "3f71c842",
   "metadata": {},
   "outputs": [
    {
     "data": {
      "text/plain": [
       "('test', 'test')"
      ]
     },
     "execution_count": 8,
     "metadata": {},
     "output_type": "execute_result"
    }
   ],
   "source": [
    "tt.prep.data_set, tt.data_set"
   ]
  },
  {
   "cell_type": "code",
   "execution_count": 9,
   "id": "f876eab2",
   "metadata": {},
   "outputs": [
    {
     "data": {
      "text/plain": [
       "((48744, 10), (48744, 10))"
      ]
     },
     "execution_count": 9,
     "metadata": {},
     "output_type": "execute_result"
    }
   ],
   "source": [
    "tt.data.shape, tt.newdata.shape  # here, both correspond to test data"
   ]
  },
  {
   "cell_type": "code",
   "execution_count": 10,
   "id": "f049f459",
   "metadata": {
    "scrolled": true
   },
   "outputs": [
    {
     "name": "stderr",
     "output_type": "stream",
     "text": [
      "/Users/kenzaelhoussaini/.pyenv/versions/3.8.6/envs/lewagon/lib/python3.8/site-packages/seaborn/_decorators.py:36: FutureWarning: Pass the following variables as keyword args: x, y. From version 0.12, the only valid positional argument will be `data`, and passing other arguments without an explicit keyword will result in an error or misinterpretation.\n",
      "  warnings.warn(\n"
     ]
    },
    {
     "data": {
      "text/html": [
       "<div>\n",
       "<style scoped>\n",
       "    .dataframe tbody tr th:only-of-type {\n",
       "        vertical-align: middle;\n",
       "    }\n",
       "\n",
       "    .dataframe tbody tr th {\n",
       "        vertical-align: top;\n",
       "    }\n",
       "\n",
       "    .dataframe thead th {\n",
       "        text-align: right;\n",
       "    }\n",
       "</style>\n",
       "<table border=\"1\" class=\"dataframe\">\n",
       "  <thead>\n",
       "    <tr style=\"text-align: right;\">\n",
       "      <th></th>\n",
       "      <th>Number of missing values</th>\n",
       "      <th>Percent</th>\n",
       "    </tr>\n",
       "  </thead>\n",
       "  <tbody>\n",
       "    <tr>\n",
       "      <th>FLOORSMAX_AVG</th>\n",
       "      <td>23321</td>\n",
       "      <td>47.84</td>\n",
       "    </tr>\n",
       "    <tr>\n",
       "      <th>OCCUPATION_TYPE</th>\n",
       "      <td>15605</td>\n",
       "      <td>32.01</td>\n",
       "    </tr>\n",
       "    <tr>\n",
       "      <th>EXT_SOURCE_3</th>\n",
       "      <td>8668</td>\n",
       "      <td>17.78</td>\n",
       "    </tr>\n",
       "    <tr>\n",
       "      <th>NAME_TYPE_SUITE</th>\n",
       "      <td>911</td>\n",
       "      <td>1.87</td>\n",
       "    </tr>\n",
       "  </tbody>\n",
       "</table>\n",
       "</div>"
      ],
      "text/plain": [
       "                 Number of missing values  Percent\n",
       "FLOORSMAX_AVG                       23321    47.84\n",
       "OCCUPATION_TYPE                     15605    32.01\n",
       "EXT_SOURCE_3                         8668    17.78\n",
       "NAME_TYPE_SUITE                       911     1.87"
      ]
     },
     "execution_count": 10,
     "metadata": {},
     "output_type": "execute_result"
    },
    {
     "data": {
      "image/png": "[encoded data removed]",
      "text/plain": [
       "<Figure size 1368x720 with 1 Axes>"
      ]
     },
     "metadata": {
      "needs_background": "light"
     },
     "output_type": "display_data"
    }
   ],
   "source": [
    "tt.plot_missvalues_table(), # if we want to explore missing values when data : test"
   ]
  },
  {
   "cell_type": "code",
   "execution_count": 11,
   "id": "eaaa0ba8",
   "metadata": {},
   "outputs": [
    {
     "name": "stdout",
     "output_type": "stream",
     "text": [
      "train :  (39470, 10)\n",
      "test :  (39470, 10)\n"
     ]
    }
   ],
   "source": [
    "# set_df = 'train' or 'test', both data (dataframes) are for data set\n",
    "# Do not forget that here, tt = Cleaning(data_set = 'test', cols= mask)\n",
    "\n",
    "print(\" test : \", tt.remove_entries(set_df = 'train').shape) \n",
    "print(\"test : \", tt.remove_entries(set_df = 'test').shape)"
   ]
  },
  {
   "cell_type": "code",
   "execution_count": 12,
   "id": "5aff7ac9",
   "metadata": {},
   "outputs": [
    {
     "name": "stdout",
     "output_type": "stream",
     "text": [
      "test :  (39470, 10)\n",
      "test :  (39470, 10)\n"
     ]
    }
   ],
   "source": [
    "# set_df = 'train' or 'test', both data (dataframes) are for data set\n",
    "# Do not forget that here, tt = Cleaning(data_set = 'test', cols= mask)\n",
    "\n",
    "print(\"test : \", tt.remove_missvalues(set_df = 'train').shape)\n",
    "print(\"test : \", tt.remove_missvalues(set_df = 'test').shape)"
   ]
  },
  {
   "cell_type": "code",
   "execution_count": 13,
   "id": "50160e49",
   "metadata": {},
   "outputs": [
    {
     "name": "stdout",
     "output_type": "stream",
     "text": [
      "test :  48505\n",
      "test :  48505\n"
     ]
    }
   ],
   "source": [
    "# set_df = 'train' or 'test', both data (dataframes) are for data set\n",
    "# Do not forget that here, tt = Cleaning(data_set = 'test', cols= mask)\n",
    "\n",
    "print(\"test : \", tt.data.isnull().sum().sum())\n",
    "print(\"test : \", tt.newdata.isnull().sum().sum())"
   ]
  },
  {
   "cell_type": "code",
   "execution_count": 14,
   "id": "43dfd2c3",
   "metadata": {},
   "outputs": [
    {
     "name": "stdout",
     "output_type": "stream",
     "text": [
      "test :  0\n",
      "test :  0\n"
     ]
    }
   ],
   "source": [
    "# set_df = 'train' or 'test', both data (dataframes) are for data set\n",
    "# Do not forget that here, tt = Cleaning(data_set = 'test', cols= mask)\n",
    "\n",
    "print(\"test : \", tt.remove_missvalues(set_df = 'train').isnull().sum().sum())\n",
    "print(\"test : \", tt.remove_missvalues(set_df = 'test').isnull().sum().sum())"
   ]
  },
  {
   "cell_type": "code",
   "execution_count": 15,
   "id": "ad99c654",
   "metadata": {},
   "outputs": [
    {
     "data": {
      "image/png": "[encoded data removed]",
      "text/plain": [
       "<Figure size 1008x288 with 2 Axes>"
      ]
     },
     "metadata": {
      "needs_background": "light"
     },
     "output_type": "display_data"
    }
   ],
   "source": [
    "tt.prep.plot_catcols_single(col = \"CODE_GENDER\") # test data_set"
   ]
  },
  {
   "cell_type": "code",
   "execution_count": 16,
   "id": "6331cbd6",
   "metadata": {},
   "outputs": [
    {
     "data": {
      "image/png": "[encoded data removed]",
      "text/plain": [
       "<Figure size 1008x288 with 2 Axes>"
      ]
     },
     "metadata": {
      "needs_background": "light"
     },
     "output_type": "display_data"
    }
   ],
   "source": [
    "# with cleaning , here  : \"CODE_GENDER\"\n",
    "tt.prep.data = tt.remove_missvalues(set_df = 'test')\n",
    "tt.prep.plot_catcols_single(col = \"CODE_GENDER\") # test data_set"
   ]
  },
  {
   "cell_type": "markdown",
   "id": "34538308",
   "metadata": {},
   "source": [
    "# Exploration()"
   ]
  },
  {
   "cell_type": "code",
   "execution_count": 4,
   "id": "89a79c48",
   "metadata": {},
   "outputs": [],
   "source": [
    "mask = ['CODE_GENDER', 'FLAG_OWN_CAR', 'OCCUPATION_TYPE',  # categ\n",
    "        'NAME_INCOME_TYPE', 'NAME_TYPE_SUITE', # categ \n",
    "       'EXT_SOURCE_3', 'DAYS_EMPLOYED', 'FLOORSMAX_AVG',  # num \n",
    "        'DAYS_BIRTH', 'REGION_RATING_CLIENT_W_CITY', # num\n",
    "        'TARGET' # target\n",
    "       ]"
   ]
  },
  {
   "cell_type": "code",
   "execution_count": 5,
   "id": "d13642b5",
   "metadata": {},
   "outputs": [],
   "source": [
    "ex = Exploration(cols=mask) # data_set = 'train', cols = None"
   ]
  },
  {
   "cell_type": "code",
   "execution_count": 6,
   "id": "9bf65c91",
   "metadata": {},
   "outputs": [
    {
     "data": {
      "text/plain": [
       "dict_keys(['prep', 'cl', 'data', 'cols'])"
      ]
     },
     "execution_count": 6,
     "metadata": {},
     "output_type": "execute_result"
    }
   ],
   "source": [
    "ex.__dict__.keys()\n",
    "\n",
    "#self.data = self.cl.remove_missvalues() "
   ]
  },
  {
   "cell_type": "code",
   "execution_count": 7,
   "id": "31cc2d90",
   "metadata": {},
   "outputs": [
    {
     "name": "stdout",
     "output_type": "stream",
     "text": [
      "(252133, 11)\n"
     ]
    },
    {
     "data": {
      "text/html": [
       "<div>\n",
       "<style scoped>\n",
       "    .dataframe tbody tr th:only-of-type {\n",
       "        vertical-align: middle;\n",
       "    }\n",
       "\n",
       "    .dataframe tbody tr th {\n",
       "        vertical-align: top;\n",
       "    }\n",
       "\n",
       "    .dataframe thead th {\n",
       "        text-align: right;\n",
       "    }\n",
       "</style>\n",
       "<table border=\"1\" class=\"dataframe\">\n",
       "  <thead>\n",
       "    <tr style=\"text-align: right;\">\n",
       "      <th></th>\n",
       "      <th>CODE_GENDER</th>\n",
       "      <th>FLAG_OWN_CAR</th>\n",
       "      <th>OCCUPATION_TYPE</th>\n",
       "      <th>NAME_INCOME_TYPE</th>\n",
       "      <th>NAME_TYPE_SUITE</th>\n",
       "      <th>EXT_SOURCE_3</th>\n",
       "      <th>DAYS_EMPLOYED</th>\n",
       "      <th>FLOORSMAX_AVG</th>\n",
       "      <th>DAYS_BIRTH</th>\n",
       "      <th>REGION_RATING_CLIENT_W_CITY</th>\n",
       "      <th>TARGET</th>\n",
       "    </tr>\n",
       "  </thead>\n",
       "  <tbody>\n",
       "    <tr>\n",
       "      <th>0</th>\n",
       "      <td>M</td>\n",
       "      <td>N</td>\n",
       "      <td>Laborers</td>\n",
       "      <td>Working</td>\n",
       "      <td>Unaccompanied</td>\n",
       "      <td>0.139376</td>\n",
       "      <td>-637</td>\n",
       "      <td>0.0833</td>\n",
       "      <td>-9461</td>\n",
       "      <td>2</td>\n",
       "      <td>1</td>\n",
       "    </tr>\n",
       "    <tr>\n",
       "      <th>1</th>\n",
       "      <td>F</td>\n",
       "      <td>N</td>\n",
       "      <td>Core staff</td>\n",
       "      <td>State servant</td>\n",
       "      <td>Family</td>\n",
       "      <td>0.500345</td>\n",
       "      <td>-1188</td>\n",
       "      <td>0.2917</td>\n",
       "      <td>-16765</td>\n",
       "      <td>1</td>\n",
       "      <td>0</td>\n",
       "    </tr>\n",
       "  </tbody>\n",
       "</table>\n",
       "</div>"
      ],
      "text/plain": [
       "  CODE_GENDER FLAG_OWN_CAR OCCUPATION_TYPE NAME_INCOME_TYPE NAME_TYPE_SUITE  \\\n",
       "0           M            N        Laborers          Working   Unaccompanied   \n",
       "1           F            N      Core staff    State servant          Family   \n",
       "\n",
       "   EXT_SOURCE_3  DAYS_EMPLOYED  FLOORSMAX_AVG  DAYS_BIRTH  \\\n",
       "0      0.139376           -637         0.0833       -9461   \n",
       "1      0.500345          -1188         0.2917      -16765   \n",
       "\n",
       "   REGION_RATING_CLIENT_W_CITY  TARGET  \n",
       "0                            2       1  \n",
       "1                            1       0  "
      ]
     },
     "execution_count": 7,
     "metadata": {},
     "output_type": "execute_result"
    }
   ],
   "source": [
    "print(ex.data.shape)\n",
    "ex.data.head(2)"
   ]
  },
  {
   "cell_type": "code",
   "execution_count": 8,
   "id": "c58754d8",
   "metadata": {},
   "outputs": [
    {
     "data": {
      "text/plain": [
       "0"
      ]
     },
     "execution_count": 8,
     "metadata": {},
     "output_type": "execute_result"
    }
   ],
   "source": [
    "ex.data.isnull().sum().sum()"
   ]
  },
  {
   "cell_type": "code",
   "execution_count": 9,
   "id": "76750b23",
   "metadata": {},
   "outputs": [
    {
     "data": {
      "image/png": "[encoded data removed]",
      "text/plain": [
       "<Figure size 1080x720 with 2 Axes>"
      ]
     },
     "metadata": {
      "needs_background": "light"
     },
     "output_type": "display_data"
    }
   ],
   "source": [
    "ex.plot_correlation(cbar =True)"
   ]
  },
  {
   "cell_type": "code",
   "execution_count": 10,
   "id": "db7d6e65",
   "metadata": {},
   "outputs": [
    {
     "data": {
      "image/png": "[encoded data removed]",
      "text/plain": [
       "<Figure size 576x576 with 1 Axes>"
      ]
     },
     "metadata": {
      "needs_background": "light"
     },
     "output_type": "display_data"
    }
   ],
   "source": [
    "ex.plot_heatmapCramerV()"
   ]
  },
  {
   "cell_type": "code",
   "execution_count": 18,
   "id": "2924bfe3",
   "metadata": {},
   "outputs": [
    {
     "data": {
      "text/plain": [
       "('train', 'train', 11, (307511, 11))"
      ]
     },
     "execution_count": 18,
     "metadata": {},
     "output_type": "execute_result"
    }
   ],
   "source": [
    "ex.prep.data_set, ex.cl.prep.data_set, len(ex.cl.cols), ex.cl.data.shape"
   ]
  },
  {
   "cell_type": "code",
   "execution_count": 19,
   "id": "2ca502bd",
   "metadata": {},
   "outputs": [
    {
     "data": {
      "text/plain": [
       "(252133, 11)"
      ]
     },
     "execution_count": 19,
     "metadata": {},
     "output_type": "execute_result"
    }
   ],
   "source": [
    "ex.cl.data = ex.data\n",
    "ex.cl.data.shape"
   ]
  },
  {
   "cell_type": "code",
   "execution_count": 20,
   "id": "5e0892d7",
   "metadata": {},
   "outputs": [
    {
     "data": {
      "text/html": [
       "<div>\n",
       "<style scoped>\n",
       "    .dataframe tbody tr th:only-of-type {\n",
       "        vertical-align: middle;\n",
       "    }\n",
       "\n",
       "    .dataframe tbody tr th {\n",
       "        vertical-align: top;\n",
       "    }\n",
       "\n",
       "    .dataframe thead th {\n",
       "        text-align: right;\n",
       "    }\n",
       "</style>\n",
       "<table border=\"1\" class=\"dataframe\">\n",
       "  <thead>\n",
       "    <tr style=\"text-align: right;\">\n",
       "      <th></th>\n",
       "      <th>0</th>\n",
       "    </tr>\n",
       "  </thead>\n",
       "  <tbody>\n",
       "    <tr>\n",
       "      <th>CODE_GENDER</th>\n",
       "      <td>0</td>\n",
       "    </tr>\n",
       "    <tr>\n",
       "      <th>FLAG_OWN_CAR</th>\n",
       "      <td>0</td>\n",
       "    </tr>\n",
       "    <tr>\n",
       "      <th>OCCUPATION_TYPE</th>\n",
       "      <td>0</td>\n",
       "    </tr>\n",
       "    <tr>\n",
       "      <th>NAME_INCOME_TYPE</th>\n",
       "      <td>0</td>\n",
       "    </tr>\n",
       "    <tr>\n",
       "      <th>NAME_TYPE_SUITE</th>\n",
       "      <td>0</td>\n",
       "    </tr>\n",
       "    <tr>\n",
       "      <th>EXT_SOURCE_3</th>\n",
       "      <td>0</td>\n",
       "    </tr>\n",
       "    <tr>\n",
       "      <th>DAYS_EMPLOYED</th>\n",
       "      <td>0</td>\n",
       "    </tr>\n",
       "    <tr>\n",
       "      <th>FLOORSMAX_AVG</th>\n",
       "      <td>0</td>\n",
       "    </tr>\n",
       "    <tr>\n",
       "      <th>DAYS_BIRTH</th>\n",
       "      <td>0</td>\n",
       "    </tr>\n",
       "    <tr>\n",
       "      <th>REGION_RATING_CLIENT_W_CITY</th>\n",
       "      <td>0</td>\n",
       "    </tr>\n",
       "    <tr>\n",
       "      <th>TARGET</th>\n",
       "      <td>0</td>\n",
       "    </tr>\n",
       "  </tbody>\n",
       "</table>\n",
       "</div>"
      ],
      "text/plain": [
       "                             0\n",
       "CODE_GENDER                  0\n",
       "FLAG_OWN_CAR                 0\n",
       "OCCUPATION_TYPE              0\n",
       "NAME_INCOME_TYPE             0\n",
       "NAME_TYPE_SUITE              0\n",
       "EXT_SOURCE_3                 0\n",
       "DAYS_EMPLOYED                0\n",
       "FLOORSMAX_AVG                0\n",
       "DAYS_BIRTH                   0\n",
       "REGION_RATING_CLIENT_W_CITY  0\n",
       "TARGET                       0"
      ]
     },
     "execution_count": 20,
     "metadata": {},
     "output_type": "execute_result"
    }
   ],
   "source": [
    "# with cleaning\n",
    "ex.cl.get_count_missvalues()"
   ]
  },
  {
   "cell_type": "markdown",
   "id": "57936574",
   "metadata": {},
   "source": [
    "## Checking out the Exploration() class when data_set = 'test'"
   ]
  },
  {
   "cell_type": "markdown",
   "id": "b9ce0ab3",
   "metadata": {},
   "source": [
    "*if we want to make an exploration analysis on another data*\n",
    "- Here , for example : application_test.csv since it is the only other data existing in this directory"
   ]
  },
  {
   "cell_type": "code",
   "execution_count": 6,
   "id": "56f6ecdb",
   "metadata": {},
   "outputs": [
    {
     "name": "stdout",
     "output_type": "stream",
     "text": [
      "Please, it is better to call Cleaning(), with data_set = 'train', that includes targetVar\n",
      "Cleaning().newdata contains the data test after cleaning\n"
     ]
    },
    {
     "data": {
      "text/plain": [
       "'test'"
      ]
     },
     "execution_count": 6,
     "metadata": {},
     "output_type": "execute_result"
    }
   ],
   "source": [
    "EX = Exploration(data_set='test', cols=mask)\n",
    "EX.cl.prep.data_set #= 'test'"
   ]
  },
  {
   "cell_type": "code",
   "execution_count": 7,
   "id": "0d03e633",
   "metadata": {},
   "outputs": [
    {
     "data": {
      "text/plain": [
       "'test'"
      ]
     },
     "execution_count": 7,
     "metadata": {},
     "output_type": "execute_result"
    }
   ],
   "source": [
    "EX.prep.data_set# = 'test'"
   ]
  },
  {
   "cell_type": "code",
   "execution_count": 8,
   "id": "3a682df3",
   "metadata": {},
   "outputs": [
    {
     "data": {
      "text/html": [
       "<div>\n",
       "<style scoped>\n",
       "    .dataframe tbody tr th:only-of-type {\n",
       "        vertical-align: middle;\n",
       "    }\n",
       "\n",
       "    .dataframe tbody tr th {\n",
       "        vertical-align: top;\n",
       "    }\n",
       "\n",
       "    .dataframe thead th {\n",
       "        text-align: right;\n",
       "    }\n",
       "</style>\n",
       "<table border=\"1\" class=\"dataframe\">\n",
       "  <thead>\n",
       "    <tr style=\"text-align: right;\">\n",
       "      <th></th>\n",
       "      <th>0</th>\n",
       "    </tr>\n",
       "  </thead>\n",
       "  <tbody>\n",
       "    <tr>\n",
       "      <th>FLOORSMAX_AVG</th>\n",
       "      <td>23321</td>\n",
       "    </tr>\n",
       "    <tr>\n",
       "      <th>OCCUPATION_TYPE</th>\n",
       "      <td>15605</td>\n",
       "    </tr>\n",
       "    <tr>\n",
       "      <th>EXT_SOURCE_3</th>\n",
       "      <td>8668</td>\n",
       "    </tr>\n",
       "    <tr>\n",
       "      <th>NAME_TYPE_SUITE</th>\n",
       "      <td>911</td>\n",
       "    </tr>\n",
       "    <tr>\n",
       "      <th>CODE_GENDER</th>\n",
       "      <td>0</td>\n",
       "    </tr>\n",
       "    <tr>\n",
       "      <th>FLAG_OWN_CAR</th>\n",
       "      <td>0</td>\n",
       "    </tr>\n",
       "    <tr>\n",
       "      <th>NAME_INCOME_TYPE</th>\n",
       "      <td>0</td>\n",
       "    </tr>\n",
       "    <tr>\n",
       "      <th>DAYS_EMPLOYED</th>\n",
       "      <td>0</td>\n",
       "    </tr>\n",
       "    <tr>\n",
       "      <th>DAYS_BIRTH</th>\n",
       "      <td>0</td>\n",
       "    </tr>\n",
       "    <tr>\n",
       "      <th>REGION_RATING_CLIENT_W_CITY</th>\n",
       "      <td>0</td>\n",
       "    </tr>\n",
       "  </tbody>\n",
       "</table>\n",
       "</div>"
      ],
      "text/plain": [
       "                                 0\n",
       "FLOORSMAX_AVG                23321\n",
       "OCCUPATION_TYPE              15605\n",
       "EXT_SOURCE_3                  8668\n",
       "NAME_TYPE_SUITE                911\n",
       "CODE_GENDER                      0\n",
       "FLAG_OWN_CAR                     0\n",
       "NAME_INCOME_TYPE                 0\n",
       "DAYS_EMPLOYED                    0\n",
       "DAYS_BIRTH                       0\n",
       "REGION_RATING_CLIENT_W_CITY      0"
      ]
     },
     "execution_count": 8,
     "metadata": {},
     "output_type": "execute_result"
    }
   ],
   "source": [
    "EX.cl.get_count_missvalues()"
   ]
  },
  {
   "cell_type": "code",
   "execution_count": 9,
   "id": "6c952b7a",
   "metadata": {},
   "outputs": [
    {
     "data": {
      "image/png": "[encoded data removed]",
      "text/plain": [
       "<Figure size 576x576 with 1 Axes>"
      ]
     },
     "metadata": {
      "needs_background": "light"
     },
     "output_type": "display_data"
    }
   ],
   "source": [
    "EX.plot_heatmapCramerV()"
   ]
  },
  {
   "cell_type": "markdown",
   "id": "60a9f56c",
   "metadata": {},
   "source": [
    "# Encoder()"
   ]
  },
  {
   "cell_type": "code",
   "execution_count": 10,
   "id": "03190616",
   "metadata": {},
   "outputs": [],
   "source": [
    "mask = ['CODE_GENDER', 'FLAG_OWN_CAR', 'OCCUPATION_TYPE',  # categ\n",
    "        'NAME_INCOME_TYPE', 'NAME_TYPE_SUITE', # categ \n",
    "       'EXT_SOURCE_3', 'DAYS_EMPLOYED', 'FLOORSMAX_AVG',  # num \n",
    "        'DAYS_BIRTH', 'REGION_RATING_CLIENT_W_CITY', # num\n",
    "        'TARGET' # target\n",
    "       ]"
   ]
  },
  {
   "cell_type": "code",
   "execution_count": 11,
   "id": "a2b207a9",
   "metadata": {},
   "outputs": [],
   "source": [
    "en = Encoder(cols=mask) # data_set = 'train', cols = None, newdf = None, targ= \"TARGET\""
   ]
  },
  {
   "cell_type": "code",
   "execution_count": 12,
   "id": "920719ea",
   "metadata": {},
   "outputs": [
    {
     "data": {
      "text/plain": [
       "dict_keys(['prep', 'cl', 'data', 'tt', 'new_data'])"
      ]
     },
     "execution_count": 12,
     "metadata": {},
     "output_type": "execute_result"
    }
   ],
   "source": [
    "en.__dict__.keys()"
   ]
  },
  {
   "cell_type": "code",
   "execution_count": 13,
   "id": "75ebc90e",
   "metadata": {},
   "outputs": [
    {
     "data": {
      "text/html": [
       "<div>\n",
       "<style scoped>\n",
       "    .dataframe tbody tr th:only-of-type {\n",
       "        vertical-align: middle;\n",
       "    }\n",
       "\n",
       "    .dataframe tbody tr th {\n",
       "        vertical-align: top;\n",
       "    }\n",
       "\n",
       "    .dataframe thead th {\n",
       "        text-align: right;\n",
       "    }\n",
       "</style>\n",
       "<table border=\"1\" class=\"dataframe\">\n",
       "  <thead>\n",
       "    <tr style=\"text-align: right;\">\n",
       "      <th></th>\n",
       "      <th>CODE_GENDER</th>\n",
       "      <th>FLAG_OWN_CAR</th>\n",
       "      <th>OCCUPATION_TYPE</th>\n",
       "      <th>NAME_INCOME_TYPE</th>\n",
       "      <th>NAME_TYPE_SUITE</th>\n",
       "      <th>EXT_SOURCE_3</th>\n",
       "      <th>DAYS_EMPLOYED</th>\n",
       "      <th>FLOORSMAX_AVG</th>\n",
       "      <th>DAYS_BIRTH</th>\n",
       "      <th>REGION_RATING_CLIENT_W_CITY</th>\n",
       "      <th>TARGET</th>\n",
       "    </tr>\n",
       "  </thead>\n",
       "  <tbody>\n",
       "    <tr>\n",
       "      <th>0</th>\n",
       "      <td>M</td>\n",
       "      <td>N</td>\n",
       "      <td>Laborers</td>\n",
       "      <td>Working</td>\n",
       "      <td>Unaccompanied</td>\n",
       "      <td>0.139376</td>\n",
       "      <td>-637</td>\n",
       "      <td>0.0833</td>\n",
       "      <td>-9461</td>\n",
       "      <td>2</td>\n",
       "      <td>1</td>\n",
       "    </tr>\n",
       "    <tr>\n",
       "      <th>1</th>\n",
       "      <td>F</td>\n",
       "      <td>N</td>\n",
       "      <td>Core staff</td>\n",
       "      <td>State servant</td>\n",
       "      <td>Family</td>\n",
       "      <td>0.500345</td>\n",
       "      <td>-1188</td>\n",
       "      <td>0.2917</td>\n",
       "      <td>-16765</td>\n",
       "      <td>1</td>\n",
       "      <td>0</td>\n",
       "    </tr>\n",
       "  </tbody>\n",
       "</table>\n",
       "</div>"
      ],
      "text/plain": [
       "  CODE_GENDER FLAG_OWN_CAR OCCUPATION_TYPE NAME_INCOME_TYPE NAME_TYPE_SUITE  \\\n",
       "0           M            N        Laborers          Working   Unaccompanied   \n",
       "1           F            N      Core staff    State servant          Family   \n",
       "\n",
       "   EXT_SOURCE_3  DAYS_EMPLOYED  FLOORSMAX_AVG  DAYS_BIRTH  \\\n",
       "0      0.139376           -637         0.0833       -9461   \n",
       "1      0.500345          -1188         0.2917      -16765   \n",
       "\n",
       "   REGION_RATING_CLIENT_W_CITY  TARGET  \n",
       "0                            2       1  \n",
       "1                            1       0  "
      ]
     },
     "execution_count": 13,
     "metadata": {},
     "output_type": "execute_result"
    }
   ],
   "source": [
    "en.data.head(2)"
   ]
  },
  {
   "cell_type": "code",
   "execution_count": 14,
   "id": "2560c39d",
   "metadata": {},
   "outputs": [
    {
     "data": {
      "text/html": [
       "<div>\n",
       "<style scoped>\n",
       "    .dataframe tbody tr th:only-of-type {\n",
       "        vertical-align: middle;\n",
       "    }\n",
       "\n",
       "    .dataframe tbody tr th {\n",
       "        vertical-align: top;\n",
       "    }\n",
       "\n",
       "    .dataframe thead th {\n",
       "        text-align: right;\n",
       "    }\n",
       "</style>\n",
       "<table border=\"1\" class=\"dataframe\">\n",
       "  <thead>\n",
       "    <tr style=\"text-align: right;\">\n",
       "      <th></th>\n",
       "      <th>CODE_GENDER</th>\n",
       "      <th>FLAG_OWN_CAR</th>\n",
       "      <th>OCCUPATION_TYPE</th>\n",
       "      <th>NAME_INCOME_TYPE</th>\n",
       "      <th>NAME_TYPE_SUITE</th>\n",
       "      <th>EXT_SOURCE_3</th>\n",
       "      <th>DAYS_EMPLOYED</th>\n",
       "      <th>FLOORSMAX_AVG</th>\n",
       "      <th>DAYS_BIRTH</th>\n",
       "      <th>REGION_RATING_CLIENT_W_CITY</th>\n",
       "    </tr>\n",
       "  </thead>\n",
       "  <tbody>\n",
       "    <tr>\n",
       "      <th>0</th>\n",
       "      <td>F</td>\n",
       "      <td>N</td>\n",
       "      <td></td>\n",
       "      <td>Working</td>\n",
       "      <td>Unaccompanied</td>\n",
       "      <td>0.159520</td>\n",
       "      <td>-2329</td>\n",
       "      <td>0.125000</td>\n",
       "      <td>-19241</td>\n",
       "      <td>2</td>\n",
       "    </tr>\n",
       "    <tr>\n",
       "      <th>1</th>\n",
       "      <td>M</td>\n",
       "      <td>N</td>\n",
       "      <td>Low-skill Laborers</td>\n",
       "      <td>Working</td>\n",
       "      <td>Unaccompanied</td>\n",
       "      <td>0.432962</td>\n",
       "      <td>-4469</td>\n",
       "      <td>0.234704</td>\n",
       "      <td>-18064</td>\n",
       "      <td>2</td>\n",
       "    </tr>\n",
       "  </tbody>\n",
       "</table>\n",
       "</div>"
      ],
      "text/plain": [
       "  CODE_GENDER FLAG_OWN_CAR     OCCUPATION_TYPE NAME_INCOME_TYPE  \\\n",
       "0           F            N                              Working   \n",
       "1           M            N  Low-skill Laborers          Working   \n",
       "\n",
       "  NAME_TYPE_SUITE  EXT_SOURCE_3  DAYS_EMPLOYED  FLOORSMAX_AVG  DAYS_BIRTH  \\\n",
       "0   Unaccompanied      0.159520          -2329       0.125000      -19241   \n",
       "1   Unaccompanied      0.432962          -4469       0.234704      -18064   \n",
       "\n",
       "   REGION_RATING_CLIENT_W_CITY  \n",
       "0                            2  \n",
       "1                            2  "
      ]
     },
     "execution_count": 14,
     "metadata": {},
     "output_type": "execute_result"
    }
   ],
   "source": [
    "en.new_data.head(2)"
   ]
  },
  {
   "cell_type": "code",
   "execution_count": 16,
   "id": "9d32f632",
   "metadata": {},
   "outputs": [
    {
     "data": {
      "text/plain": [
       "((252133, 11), (39470, 10))"
      ]
     },
     "execution_count": 16,
     "metadata": {},
     "output_type": "execute_result"
    }
   ],
   "source": [
    "en.data.shape, en.new_data.shape  # data --> train, new_data --> test"
   ]
  },
  {
   "cell_type": "code",
   "execution_count": 17,
   "id": "52277fa9",
   "metadata": {},
   "outputs": [
    {
     "data": {
      "text/html": [
       "<div>\n",
       "<style scoped>\n",
       "    .dataframe tbody tr th:only-of-type {\n",
       "        vertical-align: middle;\n",
       "    }\n",
       "\n",
       "    .dataframe tbody tr th {\n",
       "        vertical-align: top;\n",
       "    }\n",
       "\n",
       "    .dataframe thead th {\n",
       "        text-align: right;\n",
       "    }\n",
       "</style>\n",
       "<table border=\"1\" class=\"dataframe\">\n",
       "  <thead>\n",
       "    <tr style=\"text-align: right;\">\n",
       "      <th></th>\n",
       "      <th>EXT_SOURCE_3</th>\n",
       "      <th>DAYS_EMPLOYED</th>\n",
       "      <th>FLOORSMAX_AVG</th>\n",
       "      <th>DAYS_BIRTH</th>\n",
       "      <th>REGION_RATING_CLIENT_W_CITY</th>\n",
       "      <th>TARGET</th>\n",
       "      <th>F</th>\n",
       "      <th>M</th>\n",
       "      <th>N</th>\n",
       "      <th>Y</th>\n",
       "      <th>...</th>\n",
       "      <th>State servant</th>\n",
       "      <th>Student</th>\n",
       "      <th>Working</th>\n",
       "      <th>Children</th>\n",
       "      <th>Family</th>\n",
       "      <th>Group of people</th>\n",
       "      <th>Other_A</th>\n",
       "      <th>Other_B</th>\n",
       "      <th>Spouse, partner</th>\n",
       "      <th>Unaccompanied</th>\n",
       "    </tr>\n",
       "  </thead>\n",
       "  <tbody>\n",
       "    <tr>\n",
       "      <th>0</th>\n",
       "      <td>0.139376</td>\n",
       "      <td>-637</td>\n",
       "      <td>0.0833</td>\n",
       "      <td>-9461</td>\n",
       "      <td>2</td>\n",
       "      <td>1</td>\n",
       "      <td>0</td>\n",
       "      <td>1</td>\n",
       "      <td>1</td>\n",
       "      <td>0</td>\n",
       "      <td>...</td>\n",
       "      <td>0</td>\n",
       "      <td>0</td>\n",
       "      <td>1</td>\n",
       "      <td>0</td>\n",
       "      <td>0</td>\n",
       "      <td>0</td>\n",
       "      <td>0</td>\n",
       "      <td>0</td>\n",
       "      <td>0</td>\n",
       "      <td>1</td>\n",
       "    </tr>\n",
       "    <tr>\n",
       "      <th>1</th>\n",
       "      <td>0.500345</td>\n",
       "      <td>-1188</td>\n",
       "      <td>0.2917</td>\n",
       "      <td>-16765</td>\n",
       "      <td>1</td>\n",
       "      <td>0</td>\n",
       "      <td>1</td>\n",
       "      <td>0</td>\n",
       "      <td>1</td>\n",
       "      <td>0</td>\n",
       "      <td>...</td>\n",
       "      <td>1</td>\n",
       "      <td>0</td>\n",
       "      <td>0</td>\n",
       "      <td>0</td>\n",
       "      <td>1</td>\n",
       "      <td>0</td>\n",
       "      <td>0</td>\n",
       "      <td>0</td>\n",
       "      <td>0</td>\n",
       "      <td>0</td>\n",
       "    </tr>\n",
       "  </tbody>\n",
       "</table>\n",
       "<p>2 rows × 42 columns</p>\n",
       "</div>"
      ],
      "text/plain": [
       "   EXT_SOURCE_3  DAYS_EMPLOYED  FLOORSMAX_AVG  DAYS_BIRTH  \\\n",
       "0      0.139376           -637         0.0833       -9461   \n",
       "1      0.500345          -1188         0.2917      -16765   \n",
       "\n",
       "   REGION_RATING_CLIENT_W_CITY  TARGET  F  M  N  Y  ...  State servant  \\\n",
       "0                            2       1  0  1  1  0  ...              0   \n",
       "1                            1       0  1  0  1  0  ...              1   \n",
       "\n",
       "   Student  Working  Children  Family  Group of people  Other_A  Other_B  \\\n",
       "0        0        1         0       0                0        0        0   \n",
       "1        0        0         0       1                0        0        0   \n",
       "\n",
       "   Spouse, partner  Unaccompanied  \n",
       "0                0              1  \n",
       "1                0              0  \n",
       "\n",
       "[2 rows x 42 columns]"
      ]
     },
     "execution_count": 17,
     "metadata": {},
     "output_type": "execute_result"
    }
   ],
   "source": [
    "encoded_df = en.execute() # data_topredict=False ---> encoding 'train' data\n",
    "encoded_df.head(2)"
   ]
  },
  {
   "cell_type": "code",
   "execution_count": 18,
   "id": "d538ef80",
   "metadata": {},
   "outputs": [
    {
     "data": {
      "text/html": [
       "<div>\n",
       "<style scoped>\n",
       "    .dataframe tbody tr th:only-of-type {\n",
       "        vertical-align: middle;\n",
       "    }\n",
       "\n",
       "    .dataframe tbody tr th {\n",
       "        vertical-align: top;\n",
       "    }\n",
       "\n",
       "    .dataframe thead th {\n",
       "        text-align: right;\n",
       "    }\n",
       "</style>\n",
       "<table border=\"1\" class=\"dataframe\">\n",
       "  <thead>\n",
       "    <tr style=\"text-align: right;\">\n",
       "      <th></th>\n",
       "      <th>EXT_SOURCE_3</th>\n",
       "      <th>DAYS_EMPLOYED</th>\n",
       "      <th>FLOORSMAX_AVG</th>\n",
       "      <th>DAYS_BIRTH</th>\n",
       "      <th>REGION_RATING_CLIENT_W_CITY</th>\n",
       "      <th>TARGET</th>\n",
       "      <th>F</th>\n",
       "      <th>M</th>\n",
       "      <th>N</th>\n",
       "      <th>Y</th>\n",
       "      <th>...</th>\n",
       "      <th>State servant</th>\n",
       "      <th>Student</th>\n",
       "      <th>Working</th>\n",
       "      <th>Children</th>\n",
       "      <th>Family</th>\n",
       "      <th>Group of people</th>\n",
       "      <th>Other_A</th>\n",
       "      <th>Other_B</th>\n",
       "      <th>Spouse, partner</th>\n",
       "      <th>Unaccompanied</th>\n",
       "    </tr>\n",
       "  </thead>\n",
       "  <tbody>\n",
       "    <tr>\n",
       "      <th>0</th>\n",
       "      <td>0.139376</td>\n",
       "      <td>-637</td>\n",
       "      <td>0.0833</td>\n",
       "      <td>-9461</td>\n",
       "      <td>2</td>\n",
       "      <td>1</td>\n",
       "      <td>0</td>\n",
       "      <td>1</td>\n",
       "      <td>1</td>\n",
       "      <td>0</td>\n",
       "      <td>...</td>\n",
       "      <td>0</td>\n",
       "      <td>0</td>\n",
       "      <td>1</td>\n",
       "      <td>0</td>\n",
       "      <td>0</td>\n",
       "      <td>0</td>\n",
       "      <td>0</td>\n",
       "      <td>0</td>\n",
       "      <td>0</td>\n",
       "      <td>1</td>\n",
       "    </tr>\n",
       "    <tr>\n",
       "      <th>1</th>\n",
       "      <td>0.500345</td>\n",
       "      <td>-1188</td>\n",
       "      <td>0.2917</td>\n",
       "      <td>-16765</td>\n",
       "      <td>1</td>\n",
       "      <td>0</td>\n",
       "      <td>1</td>\n",
       "      <td>0</td>\n",
       "      <td>1</td>\n",
       "      <td>0</td>\n",
       "      <td>...</td>\n",
       "      <td>1</td>\n",
       "      <td>0</td>\n",
       "      <td>0</td>\n",
       "      <td>0</td>\n",
       "      <td>1</td>\n",
       "      <td>0</td>\n",
       "      <td>0</td>\n",
       "      <td>0</td>\n",
       "      <td>0</td>\n",
       "      <td>0</td>\n",
       "    </tr>\n",
       "  </tbody>\n",
       "</table>\n",
       "<p>2 rows × 42 columns</p>\n",
       "</div>"
      ],
      "text/plain": [
       "   EXT_SOURCE_3  DAYS_EMPLOYED  FLOORSMAX_AVG  DAYS_BIRTH  \\\n",
       "0      0.139376           -637         0.0833       -9461   \n",
       "1      0.500345          -1188         0.2917      -16765   \n",
       "\n",
       "   REGION_RATING_CLIENT_W_CITY  TARGET  F  M  N  Y  ...  State servant  \\\n",
       "0                            2       1  0  1  1  0  ...              0   \n",
       "1                            1       0  1  0  1  0  ...              1   \n",
       "\n",
       "   Student  Working  Children  Family  Group of people  Other_A  Other_B  \\\n",
       "0        0        1         0       0                0        0        0   \n",
       "1        0        0         0       1                0        0        0   \n",
       "\n",
       "   Spouse, partner  Unaccompanied  \n",
       "0                0              1  \n",
       "1                0              0  \n",
       "\n",
       "[2 rows x 42 columns]"
      ]
     },
     "execution_count": 18,
     "metadata": {},
     "output_type": "execute_result"
    }
   ],
   "source": [
    "(encoded_df_train, encoded_df_pred) = en.execute(data_topredict=True) # here, we get encoded data for \n",
    "                                                            #train & test sets ---> data_topredict:True\n",
    "encoded_df_train.head(2)"
   ]
  },
  {
   "cell_type": "code",
   "execution_count": 19,
   "id": "583a645a",
   "metadata": {},
   "outputs": [
    {
     "data": {
      "text/html": [
       "<div>\n",
       "<style scoped>\n",
       "    .dataframe tbody tr th:only-of-type {\n",
       "        vertical-align: middle;\n",
       "    }\n",
       "\n",
       "    .dataframe tbody tr th {\n",
       "        vertical-align: top;\n",
       "    }\n",
       "\n",
       "    .dataframe thead th {\n",
       "        text-align: right;\n",
       "    }\n",
       "</style>\n",
       "<table border=\"1\" class=\"dataframe\">\n",
       "  <thead>\n",
       "    <tr style=\"text-align: right;\">\n",
       "      <th></th>\n",
       "      <th>EXT_SOURCE_3</th>\n",
       "      <th>DAYS_EMPLOYED</th>\n",
       "      <th>FLOORSMAX_AVG</th>\n",
       "      <th>DAYS_BIRTH</th>\n",
       "      <th>REGION_RATING_CLIENT_W_CITY</th>\n",
       "      <th>F</th>\n",
       "      <th>M</th>\n",
       "      <th>N</th>\n",
       "      <th>Y</th>\n",
       "      <th>Accountants</th>\n",
       "      <th>...</th>\n",
       "      <th>State servant</th>\n",
       "      <th>Student</th>\n",
       "      <th>Working</th>\n",
       "      <th>Children</th>\n",
       "      <th>Family</th>\n",
       "      <th>Group of people</th>\n",
       "      <th>Other_A</th>\n",
       "      <th>Other_B</th>\n",
       "      <th>Spouse, partner</th>\n",
       "      <th>Unaccompanied</th>\n",
       "    </tr>\n",
       "  </thead>\n",
       "  <tbody>\n",
       "    <tr>\n",
       "      <th>0</th>\n",
       "      <td>0.159520</td>\n",
       "      <td>-2329</td>\n",
       "      <td>0.125000</td>\n",
       "      <td>-19241</td>\n",
       "      <td>2</td>\n",
       "      <td>1</td>\n",
       "      <td>0</td>\n",
       "      <td>1</td>\n",
       "      <td>0</td>\n",
       "      <td>0</td>\n",
       "      <td>...</td>\n",
       "      <td>0</td>\n",
       "      <td>0</td>\n",
       "      <td>1</td>\n",
       "      <td>0</td>\n",
       "      <td>0</td>\n",
       "      <td>0</td>\n",
       "      <td>0</td>\n",
       "      <td>0</td>\n",
       "      <td>0</td>\n",
       "      <td>1</td>\n",
       "    </tr>\n",
       "    <tr>\n",
       "      <th>1</th>\n",
       "      <td>0.432962</td>\n",
       "      <td>-4469</td>\n",
       "      <td>0.234704</td>\n",
       "      <td>-18064</td>\n",
       "      <td>2</td>\n",
       "      <td>0</td>\n",
       "      <td>1</td>\n",
       "      <td>1</td>\n",
       "      <td>0</td>\n",
       "      <td>0</td>\n",
       "      <td>...</td>\n",
       "      <td>0</td>\n",
       "      <td>0</td>\n",
       "      <td>1</td>\n",
       "      <td>0</td>\n",
       "      <td>0</td>\n",
       "      <td>0</td>\n",
       "      <td>0</td>\n",
       "      <td>0</td>\n",
       "      <td>0</td>\n",
       "      <td>1</td>\n",
       "    </tr>\n",
       "  </tbody>\n",
       "</table>\n",
       "<p>2 rows × 41 columns</p>\n",
       "</div>"
      ],
      "text/plain": [
       "   EXT_SOURCE_3  DAYS_EMPLOYED  FLOORSMAX_AVG  DAYS_BIRTH  \\\n",
       "0      0.159520          -2329       0.125000      -19241   \n",
       "1      0.432962          -4469       0.234704      -18064   \n",
       "\n",
       "   REGION_RATING_CLIENT_W_CITY  F  M  N  Y  Accountants  ...  State servant  \\\n",
       "0                            2  1  0  1  0            0  ...              0   \n",
       "1                            2  0  1  1  0            0  ...              0   \n",
       "\n",
       "   Student  Working  Children  Family  Group of people  Other_A  Other_B  \\\n",
       "0        0        1         0       0                0        0        0   \n",
       "1        0        1         0       0                0        0        0   \n",
       "\n",
       "   Spouse, partner  Unaccompanied  \n",
       "0                0              1  \n",
       "1                0              1  \n",
       "\n",
       "[2 rows x 41 columns]"
      ]
     },
     "execution_count": 19,
     "metadata": {},
     "output_type": "execute_result"
    }
   ],
   "source": [
    "encoded_df_pred.head(2)"
   ]
  },
  {
   "cell_type": "raw",
   "id": "3124db04",
   "metadata": {},
   "source": [
    "For Modeling() class, please see \n",
    "/notebooks/Training_models_with_all_OR_selected_features.ipynb"
   ]
  }
 ],
 "metadata": {
  "kernelspec": {
   "display_name": "Python 3 (ipykernel)",
   "language": "python",
   "name": "python3"
  },
  "language_info": {
   "codemirror_mode": {
    "name": "ipython",
    "version": 3
   },
   "file_extension": ".py",
   "mimetype": "text/x-python",
   "name": "python",
   "nbconvert_exporter": "python",
   "pygments_lexer": "ipython3",
   "version": "3.8.6"
  },
  "toc": {
   "base_numbering": 1,
   "nav_menu": {},
   "number_sections": true,
   "sideBar": true,
   "skip_h1_title": false,
   "title_cell": "Table of Contents",
   "title_sidebar": "Contents",
   "toc_cell": false,
   "toc_position": {},
   "toc_section_display": true,
   "toc_window_display": true
  }
 },
 "nbformat": 4,
 "nbformat_minor": 5
}
