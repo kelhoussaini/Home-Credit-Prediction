{
 "cells": [
  {
   "cell_type": "code",
   "execution_count": null,
   "id": "c1b2a8ca",
   "metadata": {},
   "outputs": [],
   "source": [
    "# Implement the Modeling class in Home-Credit-Prediction/homecredit/model.py"
   ]
  },
  {
   "cell_type": "code",
   "execution_count": 1,
   "id": "f3218917",
   "metadata": {},
   "outputs": [],
   "source": [
    "\n",
    "import os\n",
    "import sys\n",
    "import pandas as pd\n",
    "import numpy as np\n",
    "from scipy.stats import chi2_contingency # need this for chi-squared function\n",
    "from sklearn.preprocessing import OneHotEncoder\n",
    "from sklearn.model_selection import cross_val_score\n",
    "\n",
    "from sklearn.svm import SVC\n",
    "from sklearn.linear_model import LogisticRegression\n",
    "from sklearn.tree import DecisionTreeClassifier\n",
    "from sklearn.neighbors import KNeighborsClassifier\n",
    "\n",
    "from sklearn.model_selection import train_test_split\n",
    "from sklearn.preprocessing import MinMaxScaler\n",
    "from sklearn import metrics\n",
    "\n",
    "import seaborn as sns\n",
    "import matplotlib.pyplot as plt"
   ]
  },
  {
   "cell_type": "code",
   "execution_count": 2,
   "id": "fbad704e",
   "metadata": {},
   "outputs": [],
   "source": [
    "path_dir = (os.path.dirname(os.getcwd()))\n",
    "sys.path.append(path_dir)\n",
    "    \n",
    "from homecredit.data import HomeCredit\n",
    "from homecredit.preparation import Preparation\n",
    "from homecredit.cleaner import Cleaning\n",
    "from homecredit.exploration import Exploration"
   ]
  },
  {
   "cell_type": "code",
   "execution_count": 4,
   "id": "6eadfb4f",
   "metadata": {},
   "outputs": [
    {
     "data": {
      "text/plain": [
       "(91206, 122)"
      ]
     },
     "execution_count": 4,
     "metadata": {},
     "output_type": "execute_result"
    }
   ],
   "source": [
    "#.remove_missvalues() method\n",
    "# removes first some entries\n",
    "# then, Replaces the NaNs in numerical column by the mean of values\n",
    "# in numerical column respectively \n",
    "# for categorical variables, NaNs are replaced by ''\n",
    "df = Cleaning().remove_missvalues()\n",
    "df.shape"
   ]
  },
  {
   "cell_type": "code",
   "execution_count": 35,
   "id": "70503948",
   "metadata": {},
   "outputs": [],
   "source": [
    "catcols = Cleaning().catcols # Preparation().get_catcols() # categorical columns\n",
    "numcols = Cleaning().numcols # Preparation().get_numcols() # numerical columns"
   ]
  },
  {
   "cell_type": "code",
   "execution_count": 36,
   "id": "8c7ba840",
   "metadata": {},
   "outputs": [],
   "source": [
    "#data = df.drop_duplicates(subset = df.columns)\n",
    "#data.shape\n",
    "#There are no duplicates values"
   ]
  },
  {
   "cell_type": "markdown",
   "id": "2956ecc5",
   "metadata": {},
   "source": [
    "# Encoding function"
   ]
  },
  {
   "cell_type": "code",
   "execution_count": 8,
   "id": "4c640dd7",
   "metadata": {},
   "outputs": [],
   "source": [
    "# N.B : Here, we use OneHotEncoder, but we also can use \n",
    "#pandas.get_dummies. More, get_dummies easier than OneHotEncoder\n",
    "\n",
    "def encoding_categ_column(df, cols):\n",
    "    \n",
    "    for col_name in cols:\n",
    "    \n",
    "        L = list(df[col_name].unique())\n",
    "        if '' in L:\n",
    "            df[col_name].replace(\"\", \"NoValue\", inplace=True) #Replace NaN by \"NoCodeNature\"\n",
    "\n",
    "        ohe = OneHotEncoder(sparse = False) # Instanciate encoder\n",
    "        ohe.fit(df[[col_name]]) # Fit encoder  ---> OneHotEncoder(sparse=False)\n",
    "\n",
    "        col_encoded = ohe.transform(df[[col_name]]) # Encode\n",
    "\n",
    "        dicts_col = {}\n",
    "        keys = list(ohe.categories_[0])\n",
    "        values = col_encoded.T.astype(int)\n",
    "\n",
    "        for i,j in enumerate(keys):\n",
    "            dicts_col[j] = values[i,:]\n",
    "\n",
    "        result = pd.DataFrame.from_dict(dicts_col)\n",
    "\n",
    "        df = df.reset_index(drop=True)\n",
    "\n",
    "        #Concat df and result dataframes\n",
    "        data_res = pd.concat([df, result], axis = 1)\n",
    "\n",
    "        if 'NoValue' in list(data_res.columns):\n",
    "            data_res = data_res.drop(columns= ['NoValue',col_name] )\n",
    "            df = data_res\n",
    "        else:\n",
    "            data_res = data_res.drop(columns= col_name)\n",
    "            df = data_res\n",
    "        \n",
    "    return df"
   ]
  },
  {
   "cell_type": "code",
   "execution_count": 9,
   "id": "5c8277aa",
   "metadata": {},
   "outputs": [],
   "source": [
    "encoded_df = encoding_categ_column(df = df,\n",
    "                                   cols = catcols)\n",
    "#encoded_df.shape"
   ]
  },
  {
   "cell_type": "markdown",
   "id": "fc0d157b",
   "metadata": {},
   "source": [
    "# KNeighborsClassifier() model"
   ]
  },
  {
   "cell_type": "code",
   "execution_count": 14,
   "id": "ff2b195f",
   "metadata": {},
   "outputs": [
    {
     "name": "stdout",
     "output_type": "stream",
     "text": [
      "score :  0.9194137855419925\n"
     ]
    }
   ],
   "source": [
    "# create X, y\n",
    "y = encoded_df.TARGET\n",
    "X = encoded_df.drop('TARGET', axis = 1)\n",
    "\n",
    "# Feature names\n",
    "#features = list(X.columns)\n",
    "\n",
    "# Split into Train/Test\n",
    "X_train, X_test, y_train, y_test = train_test_split(X, y, test_size=0.3)\n",
    "\n",
    "# KNN model\n",
    "neigh = KNeighborsClassifier(n_neighbors=5)\n",
    "\n",
    "# Train the model on the Training data\n",
    "neigh.fit(X_train, y_train)\n",
    "\n",
    "# Score the model on the Testing data\n",
    "score = neigh.score(X_test, y_test) \n",
    "print( \"score : \", score )"
   ]
  },
  {
   "cell_type": "code",
   "execution_count": 15,
   "id": "cea05f05",
   "metadata": {},
   "outputs": [
    {
     "name": "stdout",
     "output_type": "stream",
     "text": [
      "score :  0.9214021659894115\n",
      "Accuracy: 0.9194137855419925\n"
     ]
    }
   ],
   "source": [
    "\n",
    "# KNN model\n",
    "neigh = KNeighborsClassifier(n_neighbors=5)\n",
    "\n",
    "# Train the model on the Training data\n",
    "neigh.fit(X_train, y_train)\n",
    "\n",
    "# cross validation \n",
    "# Test model performance \n",
    "score = cross_val_score(neigh, X_train, y_train, cv=5).mean() \n",
    "print(\"score : \", score)\n",
    "\n",
    "#  Predict on new data\n",
    "y_pred = neigh.predict(X_test)\n",
    "\n",
    "# Test accuracy\n",
    "print(\"Accuracy:\",metrics.accuracy_score(y_test, y_pred))\n"
   ]
  },
  {
   "cell_type": "markdown",
   "id": "88d4b06d",
   "metadata": {},
   "source": [
    "# Classifier Models "
   ]
  },
  {
   "cell_type": "code",
   "execution_count": 17,
   "id": "8e16704b",
   "metadata": {},
   "outputs": [],
   "source": [
    "scoring = ['roc_auc', 'accuracy']\n",
    "models = []\n",
    "results = []\n",
    "\n",
    "# Classifiers\n",
    "models.append(('LR', LogisticRegression()))\n",
    "models.append(('KNN', KNeighborsClassifier(n_neighbors=5)))\n",
    "models.append(('DTC', DecisionTreeClassifier()))\n",
    "#models.append(('RF', RandomForestClassifier()))\n",
    "#models.append(('SVC', SVC()))"
   ]
  },
  {
   "cell_type": "code",
   "execution_count": 18,
   "id": "7bd01e64",
   "metadata": {},
   "outputs": [
    {
     "name": "stderr",
     "output_type": "stream",
     "text": [
      "/Users/kenzaelhoussaini/.pyenv/versions/3.8.6/envs/lewagon/lib/python3.8/site-packages/sklearn/linear_model/_logistic.py:763: ConvergenceWarning: lbfgs failed to converge (status=1):\n",
      "STOP: TOTAL NO. of ITERATIONS REACHED LIMIT.\n",
      "\n",
      "Increase the number of iterations (max_iter) or scale the data as shown in:\n",
      "    https://scikit-learn.org/stable/modules/preprocessing.html\n",
      "Please also refer to the documentation for alternative solver options:\n",
      "    https://scikit-learn.org/stable/modules/linear_model.html#logistic-regression\n",
      "  n_iter_i = _check_optimize_result(\n",
      "/Users/kenzaelhoussaini/.pyenv/versions/3.8.6/envs/lewagon/lib/python3.8/site-packages/sklearn/linear_model/_logistic.py:763: ConvergenceWarning: lbfgs failed to converge (status=1):\n",
      "STOP: TOTAL NO. of ITERATIONS REACHED LIMIT.\n",
      "\n",
      "Increase the number of iterations (max_iter) or scale the data as shown in:\n",
      "    https://scikit-learn.org/stable/modules/preprocessing.html\n",
      "Please also refer to the documentation for alternative solver options:\n",
      "    https://scikit-learn.org/stable/modules/linear_model.html#logistic-regression\n",
      "  n_iter_i = _check_optimize_result(\n",
      "/Users/kenzaelhoussaini/.pyenv/versions/3.8.6/envs/lewagon/lib/python3.8/site-packages/sklearn/linear_model/_logistic.py:763: ConvergenceWarning: lbfgs failed to converge (status=1):\n",
      "STOP: TOTAL NO. of ITERATIONS REACHED LIMIT.\n",
      "\n",
      "Increase the number of iterations (max_iter) or scale the data as shown in:\n",
      "    https://scikit-learn.org/stable/modules/preprocessing.html\n",
      "Please also refer to the documentation for alternative solver options:\n",
      "    https://scikit-learn.org/stable/modules/linear_model.html#logistic-regression\n",
      "  n_iter_i = _check_optimize_result(\n",
      "/Users/kenzaelhoussaini/.pyenv/versions/3.8.6/envs/lewagon/lib/python3.8/site-packages/sklearn/linear_model/_logistic.py:763: ConvergenceWarning: lbfgs failed to converge (status=1):\n",
      "STOP: TOTAL NO. of ITERATIONS REACHED LIMIT.\n",
      "\n",
      "Increase the number of iterations (max_iter) or scale the data as shown in:\n",
      "    https://scikit-learn.org/stable/modules/preprocessing.html\n",
      "Please also refer to the documentation for alternative solver options:\n",
      "    https://scikit-learn.org/stable/modules/linear_model.html#logistic-regression\n",
      "  n_iter_i = _check_optimize_result(\n",
      "/Users/kenzaelhoussaini/.pyenv/versions/3.8.6/envs/lewagon/lib/python3.8/site-packages/sklearn/linear_model/_logistic.py:763: ConvergenceWarning: lbfgs failed to converge (status=1):\n",
      "STOP: TOTAL NO. of ITERATIONS REACHED LIMIT.\n",
      "\n",
      "Increase the number of iterations (max_iter) or scale the data as shown in:\n",
      "    https://scikit-learn.org/stable/modules/preprocessing.html\n",
      "Please also refer to the documentation for alternative solver options:\n",
      "    https://scikit-learn.org/stable/modules/linear_model.html#logistic-regression\n",
      "  n_iter_i = _check_optimize_result(\n",
      "/Users/kenzaelhoussaini/.pyenv/versions/3.8.6/envs/lewagon/lib/python3.8/site-packages/sklearn/linear_model/_logistic.py:763: ConvergenceWarning: lbfgs failed to converge (status=1):\n",
      "STOP: TOTAL NO. of ITERATIONS REACHED LIMIT.\n",
      "\n",
      "Increase the number of iterations (max_iter) or scale the data as shown in:\n",
      "    https://scikit-learn.org/stable/modules/preprocessing.html\n",
      "Please also refer to the documentation for alternative solver options:\n",
      "    https://scikit-learn.org/stable/modules/linear_model.html#logistic-regression\n",
      "  n_iter_i = _check_optimize_result(\n"
     ]
    },
    {
     "name": "stdout",
     "output_type": "stream",
     "text": [
      "Model:  LR  scoring: roc_auc  score 0.6130893675025983\n"
     ]
    },
    {
     "name": "stderr",
     "output_type": "stream",
     "text": [
      "/Users/kenzaelhoussaini/.pyenv/versions/3.8.6/envs/lewagon/lib/python3.8/site-packages/sklearn/linear_model/_logistic.py:763: ConvergenceWarning: lbfgs failed to converge (status=1):\n",
      "STOP: TOTAL NO. of ITERATIONS REACHED LIMIT.\n",
      "\n",
      "Increase the number of iterations (max_iter) or scale the data as shown in:\n",
      "    https://scikit-learn.org/stable/modules/preprocessing.html\n",
      "Please also refer to the documentation for alternative solver options:\n",
      "    https://scikit-learn.org/stable/modules/linear_model.html#logistic-regression\n",
      "  n_iter_i = _check_optimize_result(\n",
      "/Users/kenzaelhoussaini/.pyenv/versions/3.8.6/envs/lewagon/lib/python3.8/site-packages/sklearn/linear_model/_logistic.py:763: ConvergenceWarning: lbfgs failed to converge (status=1):\n",
      "STOP: TOTAL NO. of ITERATIONS REACHED LIMIT.\n",
      "\n",
      "Increase the number of iterations (max_iter) or scale the data as shown in:\n",
      "    https://scikit-learn.org/stable/modules/preprocessing.html\n",
      "Please also refer to the documentation for alternative solver options:\n",
      "    https://scikit-learn.org/stable/modules/linear_model.html#logistic-regression\n",
      "  n_iter_i = _check_optimize_result(\n",
      "/Users/kenzaelhoussaini/.pyenv/versions/3.8.6/envs/lewagon/lib/python3.8/site-packages/sklearn/linear_model/_logistic.py:763: ConvergenceWarning: lbfgs failed to converge (status=1):\n",
      "STOP: TOTAL NO. of ITERATIONS REACHED LIMIT.\n",
      "\n",
      "Increase the number of iterations (max_iter) or scale the data as shown in:\n",
      "    https://scikit-learn.org/stable/modules/preprocessing.html\n",
      "Please also refer to the documentation for alternative solver options:\n",
      "    https://scikit-learn.org/stable/modules/linear_model.html#logistic-regression\n",
      "  n_iter_i = _check_optimize_result(\n",
      "/Users/kenzaelhoussaini/.pyenv/versions/3.8.6/envs/lewagon/lib/python3.8/site-packages/sklearn/linear_model/_logistic.py:763: ConvergenceWarning: lbfgs failed to converge (status=1):\n",
      "STOP: TOTAL NO. of ITERATIONS REACHED LIMIT.\n",
      "\n",
      "Increase the number of iterations (max_iter) or scale the data as shown in:\n",
      "    https://scikit-learn.org/stable/modules/preprocessing.html\n",
      "Please also refer to the documentation for alternative solver options:\n",
      "    https://scikit-learn.org/stable/modules/linear_model.html#logistic-regression\n",
      "  n_iter_i = _check_optimize_result(\n",
      "/Users/kenzaelhoussaini/.pyenv/versions/3.8.6/envs/lewagon/lib/python3.8/site-packages/sklearn/linear_model/_logistic.py:763: ConvergenceWarning: lbfgs failed to converge (status=1):\n",
      "STOP: TOTAL NO. of ITERATIONS REACHED LIMIT.\n",
      "\n",
      "Increase the number of iterations (max_iter) or scale the data as shown in:\n",
      "    https://scikit-learn.org/stable/modules/preprocessing.html\n",
      "Please also refer to the documentation for alternative solver options:\n",
      "    https://scikit-learn.org/stable/modules/linear_model.html#logistic-regression\n",
      "  n_iter_i = _check_optimize_result(\n",
      "/Users/kenzaelhoussaini/.pyenv/versions/3.8.6/envs/lewagon/lib/python3.8/site-packages/sklearn/linear_model/_logistic.py:763: ConvergenceWarning: lbfgs failed to converge (status=1):\n",
      "STOP: TOTAL NO. of ITERATIONS REACHED LIMIT.\n",
      "\n",
      "Increase the number of iterations (max_iter) or scale the data as shown in:\n",
      "    https://scikit-learn.org/stable/modules/preprocessing.html\n",
      "Please also refer to the documentation for alternative solver options:\n",
      "    https://scikit-learn.org/stable/modules/linear_model.html#logistic-regression\n",
      "  n_iter_i = _check_optimize_result(\n"
     ]
    },
    {
     "name": "stdout",
     "output_type": "stream",
     "text": [
      "Model:  LR  scoring: accuracy  score 0.9258818373955877\n",
      "Model:  KNN  scoring: roc_auc  score 0.5261843510796194\n",
      "Model:  KNN  scoring: accuracy  score 0.9214021659894115\n",
      "Model:  DTC  scoring: roc_auc  score 0.5319870075877831\n",
      "Model:  DTC  scoring: accuracy  score 0.8626965840476357\n"
     ]
    }
   ],
   "source": [
    "for name, model in models:\n",
    "    for s in scoring:\n",
    "        model.fit(X_train, y_train)\n",
    "        res = cross_val_score(model, X_train, y_train, cv=5, scoring=s).mean()\n",
    "        results.append(res)\n",
    "        print(\"Model: \", name, \" scoring:\", s, \" score\", res)"
   ]
  },
  {
   "cell_type": "markdown",
   "id": "9cf66dda",
   "metadata": {},
   "source": [
    "# Prediction"
   ]
  },
  {
   "cell_type": "markdown",
   "id": "48178605",
   "metadata": {},
   "source": [
    " **Making prediction based on LR model that gives the best score**"
   ]
  },
  {
   "cell_type": "code",
   "execution_count": 20,
   "id": "b90cc4a2",
   "metadata": {},
   "outputs": [
    {
     "name": "stderr",
     "output_type": "stream",
     "text": [
      "/Users/kenzaelhoussaini/.pyenv/versions/3.8.6/envs/lewagon/lib/python3.8/site-packages/sklearn/linear_model/_logistic.py:763: ConvergenceWarning: lbfgs failed to converge (status=1):\n",
      "STOP: TOTAL NO. of ITERATIONS REACHED LIMIT.\n",
      "\n",
      "Increase the number of iterations (max_iter) or scale the data as shown in:\n",
      "    https://scikit-learn.org/stable/modules/preprocessing.html\n",
      "Please also refer to the documentation for alternative solver options:\n",
      "    https://scikit-learn.org/stable/modules/linear_model.html#logistic-regression\n",
      "  n_iter_i = _check_optimize_result(\n"
     ]
    },
    {
     "data": {
      "text/plain": [
       "LogisticRegression()"
      ]
     },
     "execution_count": 20,
     "metadata": {},
     "output_type": "execute_result"
    }
   ],
   "source": [
    "model = LogisticRegression()\n",
    "scoring = 'accuracy'\n",
    "\n",
    "model.fit(X_train, y_train)"
   ]
  },
  {
   "cell_type": "code",
   "execution_count": 21,
   "id": "351623d4",
   "metadata": {},
   "outputs": [
    {
     "name": "stdout",
     "output_type": "stream",
     "text": [
      "Accuracy: 0.9239090709743439\n"
     ]
    }
   ],
   "source": [
    "#  Predict on new data\n",
    "y_pred = model.predict(X_test)\n",
    "\n",
    "# Test accuracy\n",
    "print(\"Accuracy:\",metrics.accuracy_score(y_test, y_pred))   "
   ]
  },
  {
   "cell_type": "markdown",
   "id": "c9c87068",
   "metadata": {},
   "source": [
    "# Modeling with scaled data"
   ]
  },
  {
   "cell_type": "code",
   "execution_count": 30,
   "id": "313f2a0e",
   "metadata": {},
   "outputs": [],
   "source": [
    "# Scaling data\n",
    "\n",
    "# create X, y\n",
    "y = encoded_df.TARGET\n",
    "X = encoded_df.drop('TARGET', axis = 1)\n",
    "\n",
    "# Scaling features\n",
    "scaler = MinMaxScaler() # Instanciate StandarScaler\n",
    "scaler.fit(X)\n",
    "\n",
    "X_rescaled = scaler.transform(X)\n",
    "\n",
    "# Split into Train/Test\n",
    "X_train_sc, X_test_sc, y_train, y_test = train_test_split(X_rescaled, y, test_size=0.3)\n"
   ]
  },
  {
   "cell_type": "code",
   "execution_count": 31,
   "id": "343d639e",
   "metadata": {},
   "outputs": [
    {
     "name": "stdout",
     "output_type": "stream",
     "text": [
      "Model:  LR  scoring: roc_auc  score 0.7400404423400226\n",
      "Model:  LR  scoring: accuracy  score 0.9253962741845608\n",
      "Model:  KNN  scoring: roc_auc  score 0.5481678467183916\n",
      "Model:  KNN  scoring: accuracy  score 0.9220443474965118\n",
      "Model:  DTC  scoring: roc_auc  score 0.5361585969728132\n",
      "Model:  DTC  scoring: accuracy  score 0.8607700002708627\n"
     ]
    }
   ],
   "source": [
    "scoring = ['roc_auc', 'accuracy']\n",
    "models = []\n",
    "results = []\n",
    "\n",
    "# Classifiers\n",
    "models.append(('LR', LogisticRegression(max_iter=1000)))\n",
    "models.append(('KNN', KNeighborsClassifier(n_neighbors=5)))\n",
    "models.append(('DTC', DecisionTreeClassifier()))\n",
    "\n",
    "for name, model in models:\n",
    "    for s in scoring:\n",
    "        model.fit(X_train_sc, y_train)\n",
    "        res = cross_val_score(model, X_train_sc, y_train, cv=5, scoring=s).mean()\n",
    "        results.append(res)\n",
    "        print(\"Model: \", name, \" scoring:\", s, \" score\", res)      "
   ]
  },
  {
   "cell_type": "markdown",
   "id": "2985f5bf",
   "metadata": {},
   "source": [
    "**LogisticRegression model gives the best score**\n",
    "\n",
    "**Let's make predictions on test data**"
   ]
  },
  {
   "cell_type": "code",
   "execution_count": 32,
   "id": "5c1e6037",
   "metadata": {},
   "outputs": [
    {
     "name": "stdout",
     "output_type": "stream",
     "text": [
      "score:  0.9253962741845608\n",
      "Accuracy: 0.9250420290914407\n"
     ]
    }
   ],
   "source": [
    "model = LogisticRegression(max_iter=1000)\n",
    "scoring = 'accuracy'\n",
    "\n",
    "model.fit(X_train_sc, y_train)\n",
    "res = cross_val_score(model, X_train_sc, y_train, cv=5, scoring=s).mean()\n",
    "print(\"score: \", res)  \n",
    "\n",
    "#  Predict on new data\n",
    "y_pred = model.predict(X_test_sc)\n",
    "\n",
    "# Test accuracy\n",
    "print(\"Accuracy:\",metrics.accuracy_score(y_test, y_pred))   "
   ]
  },
  {
   "cell_type": "markdown",
   "id": "a0e2093d",
   "metadata": {},
   "source": [
    "# Encoder() class"
   ]
  },
  {
   "cell_type": "code",
   "execution_count": 3,
   "id": "5d4e0e9c",
   "metadata": {},
   "outputs": [],
   "source": [
    "class Encoder():\n",
    "    \n",
    "    \"\"\" Initialize dataframe\n",
    "    \"\"\"\n",
    "    def __init__(self):\n",
    "\n",
    "        path_dir = (os.path.dirname(os.getcwd()))\n",
    "        sys.path.append(path_dir)\n",
    "        # Assign an attribute \".data\" to all new instances of Preparation\n",
    "        self.data = Cleaning().remove_missvalues() # good practice to be sure not to modify your `data` variable\n",
    "        self.catcols = Preparation().get_catcols()\n",
    "        self.numcols = Preparation().get_numcols() \n",
    "        \n",
    "        \n",
    "    def execute(self):\n",
    "        \n",
    "        copy = self.data.copy()\n",
    "        \n",
    "        for col_name in self.catcols:\n",
    "    \n",
    "            L = list(copy[col_name].unique())\n",
    "            if '' in L:\n",
    "                copy[col_name].replace(\"\", \"NoValue\", inplace=True) #Replace NaN by \"NoCodeNature\"\n",
    "\n",
    "            ohe = OneHotEncoder(sparse = False) # Instanciate encoder\n",
    "            ohe.fit(copy[[col_name]]) # Fit encoder  ---> OneHotEncoder(sparse=False)\n",
    "\n",
    "            col_encoded = ohe.transform(copy[[col_name]]) # Encode\n",
    "\n",
    "            dicts_col = {}\n",
    "            keys = list(ohe.categories_[0])\n",
    "            values = col_encoded.T.astype(int)\n",
    "\n",
    "            for i,j in enumerate(keys):\n",
    "                dicts_col[j] = values[i,:]\n",
    "\n",
    "            result = pd.DataFrame.from_dict(dicts_col)\n",
    "\n",
    "            copy = copy.reset_index(drop=True)\n",
    "\n",
    "            #Concat self.data and result dataframes\n",
    "            data_res = pd.concat([copy, result], axis = 1)\n",
    "\n",
    "            if 'NoValue' in list(data_res.columns):\n",
    "                data_res = data_res.drop(columns= ['NoValue',col_name] )\n",
    "                copy = data_res\n",
    "            else:\n",
    "                data_res = data_res.drop(columns= col_name)\n",
    "                copy = data_res\n",
    "        \n",
    "        encoded_df = copy\n",
    "\n",
    "        return encoded_df\n",
    "        \n",
    " "
   ]
  },
  {
   "cell_type": "code",
   "execution_count": 4,
   "id": "3a5278f8",
   "metadata": {},
   "outputs": [
    {
     "name": "stderr",
     "output_type": "stream",
     "text": [
      "/Users/kenzaelhoussaini/.pyenv/versions/3.8.6/envs/lewagon/lib/python3.8/site-packages/pandas/core/frame.py:5171: SettingWithCopyWarning: \n",
      "A value is trying to be set on a copy of a slice from a DataFrame\n",
      "\n",
      "See the caveats in the documentation: https://pandas.pydata.org/pandas-docs/stable/user_guide/indexing.html#returning-a-view-versus-a-copy\n",
      "  return super().fillna(\n"
     ]
    }
   ],
   "source": [
    "en = Encoder()"
   ]
  },
  {
   "cell_type": "code",
   "execution_count": 5,
   "id": "dce51fcc",
   "metadata": {},
   "outputs": [
    {
     "data": {
      "text/html": [
       "<div>\n",
       "<style scoped>\n",
       "    .dataframe tbody tr th:only-of-type {\n",
       "        vertical-align: middle;\n",
       "    }\n",
       "\n",
       "    .dataframe tbody tr th {\n",
       "        vertical-align: top;\n",
       "    }\n",
       "\n",
       "    .dataframe thead th {\n",
       "        text-align: right;\n",
       "    }\n",
       "</style>\n",
       "<table border=\"1\" class=\"dataframe\">\n",
       "  <thead>\n",
       "    <tr style=\"text-align: right;\">\n",
       "      <th></th>\n",
       "      <th>SK_ID_CURR</th>\n",
       "      <th>TARGET</th>\n",
       "      <th>NAME_CONTRACT_TYPE</th>\n",
       "      <th>CODE_GENDER</th>\n",
       "      <th>FLAG_OWN_CAR</th>\n",
       "      <th>FLAG_OWN_REALTY</th>\n",
       "      <th>CNT_CHILDREN</th>\n",
       "      <th>AMT_INCOME_TOTAL</th>\n",
       "      <th>AMT_CREDIT</th>\n",
       "      <th>AMT_ANNUITY</th>\n",
       "      <th>...</th>\n",
       "      <th>FLAG_DOCUMENT_18</th>\n",
       "      <th>FLAG_DOCUMENT_19</th>\n",
       "      <th>FLAG_DOCUMENT_20</th>\n",
       "      <th>FLAG_DOCUMENT_21</th>\n",
       "      <th>AMT_REQ_CREDIT_BUREAU_HOUR</th>\n",
       "      <th>AMT_REQ_CREDIT_BUREAU_DAY</th>\n",
       "      <th>AMT_REQ_CREDIT_BUREAU_WEEK</th>\n",
       "      <th>AMT_REQ_CREDIT_BUREAU_MON</th>\n",
       "      <th>AMT_REQ_CREDIT_BUREAU_QRT</th>\n",
       "      <th>AMT_REQ_CREDIT_BUREAU_YEAR</th>\n",
       "    </tr>\n",
       "  </thead>\n",
       "  <tbody>\n",
       "    <tr>\n",
       "      <th>2</th>\n",
       "      <td>100004</td>\n",
       "      <td>0</td>\n",
       "      <td>Revolving loans</td>\n",
       "      <td>M</td>\n",
       "      <td>Y</td>\n",
       "      <td>Y</td>\n",
       "      <td>0</td>\n",
       "      <td>67500.0</td>\n",
       "      <td>135000.0</td>\n",
       "      <td>6750.0</td>\n",
       "      <td>...</td>\n",
       "      <td>0</td>\n",
       "      <td>0</td>\n",
       "      <td>0</td>\n",
       "      <td>0</td>\n",
       "      <td>0.0</td>\n",
       "      <td>0.0</td>\n",
       "      <td>0.0</td>\n",
       "      <td>0.0</td>\n",
       "      <td>0.0</td>\n",
       "      <td>0.0</td>\n",
       "    </tr>\n",
       "    <tr>\n",
       "      <th>6</th>\n",
       "      <td>100009</td>\n",
       "      <td>0</td>\n",
       "      <td>Cash loans</td>\n",
       "      <td>F</td>\n",
       "      <td>Y</td>\n",
       "      <td>Y</td>\n",
       "      <td>1</td>\n",
       "      <td>171000.0</td>\n",
       "      <td>1560726.0</td>\n",
       "      <td>41301.0</td>\n",
       "      <td>...</td>\n",
       "      <td>0</td>\n",
       "      <td>0</td>\n",
       "      <td>0</td>\n",
       "      <td>0</td>\n",
       "      <td>0.0</td>\n",
       "      <td>0.0</td>\n",
       "      <td>0.0</td>\n",
       "      <td>1.0</td>\n",
       "      <td>1.0</td>\n",
       "      <td>2.0</td>\n",
       "    </tr>\n",
       "  </tbody>\n",
       "</table>\n",
       "<p>2 rows × 122 columns</p>\n",
       "</div>"
      ],
      "text/plain": [
       "   SK_ID_CURR  TARGET NAME_CONTRACT_TYPE CODE_GENDER FLAG_OWN_CAR  \\\n",
       "2      100004       0    Revolving loans           M            Y   \n",
       "6      100009       0         Cash loans           F            Y   \n",
       "\n",
       "  FLAG_OWN_REALTY  CNT_CHILDREN  AMT_INCOME_TOTAL  AMT_CREDIT  AMT_ANNUITY  \\\n",
       "2               Y             0           67500.0    135000.0       6750.0   \n",
       "6               Y             1          171000.0   1560726.0      41301.0   \n",
       "\n",
       "   ...  FLAG_DOCUMENT_18 FLAG_DOCUMENT_19 FLAG_DOCUMENT_20 FLAG_DOCUMENT_21  \\\n",
       "2  ...                 0                0                0                0   \n",
       "6  ...                 0                0                0                0   \n",
       "\n",
       "  AMT_REQ_CREDIT_BUREAU_HOUR AMT_REQ_CREDIT_BUREAU_DAY  \\\n",
       "2                        0.0                       0.0   \n",
       "6                        0.0                       0.0   \n",
       "\n",
       "   AMT_REQ_CREDIT_BUREAU_WEEK  AMT_REQ_CREDIT_BUREAU_MON  \\\n",
       "2                         0.0                        0.0   \n",
       "6                         0.0                        1.0   \n",
       "\n",
       "   AMT_REQ_CREDIT_BUREAU_QRT  AMT_REQ_CREDIT_BUREAU_YEAR  \n",
       "2                        0.0                         0.0  \n",
       "6                        1.0                         2.0  \n",
       "\n",
       "[2 rows x 122 columns]"
      ]
     },
     "execution_count": 5,
     "metadata": {},
     "output_type": "execute_result"
    }
   ],
   "source": [
    "en.data.head(2)"
   ]
  },
  {
   "cell_type": "code",
   "execution_count": 6,
   "id": "d94130a5",
   "metadata": {},
   "outputs": [
    {
     "data": {
      "text/html": [
       "<div>\n",
       "<style scoped>\n",
       "    .dataframe tbody tr th:only-of-type {\n",
       "        vertical-align: middle;\n",
       "    }\n",
       "\n",
       "    .dataframe tbody tr th {\n",
       "        vertical-align: top;\n",
       "    }\n",
       "\n",
       "    .dataframe thead th {\n",
       "        text-align: right;\n",
       "    }\n",
       "</style>\n",
       "<table border=\"1\" class=\"dataframe\">\n",
       "  <thead>\n",
       "    <tr style=\"text-align: right;\">\n",
       "      <th></th>\n",
       "      <th>SK_ID_CURR</th>\n",
       "      <th>TARGET</th>\n",
       "      <th>CNT_CHILDREN</th>\n",
       "      <th>AMT_INCOME_TOTAL</th>\n",
       "      <th>AMT_CREDIT</th>\n",
       "      <th>AMT_ANNUITY</th>\n",
       "      <th>AMT_GOODS_PRICE</th>\n",
       "      <th>REGION_POPULATION_RELATIVE</th>\n",
       "      <th>DAYS_BIRTH</th>\n",
       "      <th>DAYS_EMPLOYED</th>\n",
       "      <th>...</th>\n",
       "      <th>Mixed</th>\n",
       "      <th>Monolithic</th>\n",
       "      <th>Others</th>\n",
       "      <th>Panel</th>\n",
       "      <th>Stone, brick</th>\n",
       "      <th>Wooden</th>\n",
       "      <th>NaN</th>\n",
       "      <th>No</th>\n",
       "      <th>Yes</th>\n",
       "      <th>NaN</th>\n",
       "    </tr>\n",
       "  </thead>\n",
       "  <tbody>\n",
       "    <tr>\n",
       "      <th>0</th>\n",
       "      <td>100004</td>\n",
       "      <td>0</td>\n",
       "      <td>0</td>\n",
       "      <td>67500.0</td>\n",
       "      <td>135000.0</td>\n",
       "      <td>6750.0</td>\n",
       "      <td>135000.0</td>\n",
       "      <td>0.010032</td>\n",
       "      <td>-19046</td>\n",
       "      <td>-225</td>\n",
       "      <td>...</td>\n",
       "      <td>0</td>\n",
       "      <td>0</td>\n",
       "      <td>0</td>\n",
       "      <td>0</td>\n",
       "      <td>0</td>\n",
       "      <td>0</td>\n",
       "      <td>1</td>\n",
       "      <td>0</td>\n",
       "      <td>0</td>\n",
       "      <td>1</td>\n",
       "    </tr>\n",
       "    <tr>\n",
       "      <th>1</th>\n",
       "      <td>100009</td>\n",
       "      <td>0</td>\n",
       "      <td>1</td>\n",
       "      <td>171000.0</td>\n",
       "      <td>1560726.0</td>\n",
       "      <td>41301.0</td>\n",
       "      <td>1395000.0</td>\n",
       "      <td>0.035792</td>\n",
       "      <td>-13778</td>\n",
       "      <td>-3130</td>\n",
       "      <td>...</td>\n",
       "      <td>0</td>\n",
       "      <td>0</td>\n",
       "      <td>0</td>\n",
       "      <td>0</td>\n",
       "      <td>0</td>\n",
       "      <td>0</td>\n",
       "      <td>1</td>\n",
       "      <td>0</td>\n",
       "      <td>0</td>\n",
       "      <td>1</td>\n",
       "    </tr>\n",
       "  </tbody>\n",
       "</table>\n",
       "<p>2 rows × 247 columns</p>\n",
       "</div>"
      ],
      "text/plain": [
       "   SK_ID_CURR  TARGET  CNT_CHILDREN  AMT_INCOME_TOTAL  AMT_CREDIT  \\\n",
       "0      100004       0             0           67500.0    135000.0   \n",
       "1      100009       0             1          171000.0   1560726.0   \n",
       "\n",
       "   AMT_ANNUITY  AMT_GOODS_PRICE  REGION_POPULATION_RELATIVE  DAYS_BIRTH  \\\n",
       "0       6750.0         135000.0                    0.010032      -19046   \n",
       "1      41301.0        1395000.0                    0.035792      -13778   \n",
       "\n",
       "   DAYS_EMPLOYED  ...  Mixed  Monolithic  Others  Panel  Stone, brick  Wooden  \\\n",
       "0           -225  ...      0           0       0      0             0       0   \n",
       "1          -3130  ...      0           0       0      0             0       0   \n",
       "\n",
       "   NaN  No  Yes  NaN  \n",
       "0    1   0    0    1  \n",
       "1    1   0    0    1  \n",
       "\n",
       "[2 rows x 247 columns]"
      ]
     },
     "execution_count": 6,
     "metadata": {},
     "output_type": "execute_result"
    }
   ],
   "source": [
    "encoded_df = en.execute()\n",
    "encoded_df.head(2)"
   ]
  },
  {
   "cell_type": "markdown",
   "id": "6d1988cb",
   "metadata": {},
   "source": [
    "# Modeling() class"
   ]
  },
  {
   "cell_type": "code",
   "execution_count": 25,
   "id": "cb3ecc94",
   "metadata": {},
   "outputs": [],
   "source": [
    "\n",
    "class Modeling:\n",
    "    \n",
    "    def __init__(self):\n",
    "            \n",
    "        path_dir = (os.path.dirname(os.getcwd()))\n",
    "        sys.path.append(path_dir)\n",
    "        # Assign an attribute \".data\" to all new instances of Preparation\n",
    "        self.data = Encoder().execute() # outliers and missing values are removed, encoding are done\n",
    "        self.catcols = Preparation().get_catcols()\n",
    "        self.numcols = Preparation().get_numcols()\n",
    "        \n",
    "    def preprocess(self): # we can here integrate scaler as arg\n",
    "        \n",
    "        #encoded_df = Encoder().execute()\n",
    "        # create X, y\n",
    "        y = self.data.TARGET\n",
    "        X = self.data.drop('TARGET', axis = 1)\n",
    "\n",
    "        # Scaling features\n",
    "        scaler = MinMaxScaler() # Instanciate StandarScaler\n",
    "        scaler.fit(X)\n",
    "\n",
    "        X_rescaled = scaler.transform(X)\n",
    "\n",
    "        # Split into Train/Test\n",
    "        X_train_sc, X_test_sc, y_train, y_test = train_test_split(X_rescaled, y, test_size=0.3)\n",
    "        \n",
    "        return X_train_sc, X_test_sc, y_train, y_test\n",
    "       \n",
    "        \n",
    "    def execute(self): # we can here integrate models, and scoring as arg\n",
    "        \n",
    "        X_train_sc, X_test_sc, y_train, y_test = self.preprocess()\n",
    "        \n",
    "        scoring = ['roc_auc', 'accuracy']\n",
    "        \n",
    "        models = []\n",
    "        results = []\n",
    "\n",
    "        # Classifiers\n",
    "        models.append(('LR', LogisticRegression(max_iter=1000)))\n",
    "        models.append(('KNN', KNeighborsClassifier(n_neighbors=5)))\n",
    "        models.append(('DTC', DecisionTreeClassifier()))\n",
    "        #models.append(('RF', RandomForestClassifier()))\n",
    "        #models.append(('SVC', SVC()))\n",
    "\n",
    "        for name, model in models:\n",
    "            for s in scoring:\n",
    "                model.fit(X_train_sc, y_train)\n",
    "                res = cross_val_score(model, X_train_sc, y_train, cv=5, scoring=s).mean()\n",
    "                results.append([name, s, res])\n",
    "                print(\"Model: \", name, \" scoring:\", s, \" score\", res) \n",
    "                \n",
    "        return {\"Models\": models, \"Scoring\":scoring, \"Results\": results}\n",
    "    \n",
    "    def predict(self, best_model, best_scoring :str):\n",
    "        \n",
    "        X_train_sc, X_test_sc, y_train, y_test = self.preprocess()\n",
    "        \n",
    "        best_model.fit(X_train_sc, y_train)\n",
    "        res = cross_val_score(best_model, X_train_sc, y_train, cv=5, scoring=best_scoring).mean()\n",
    "        print(\"score: \", res)  \n",
    "\n",
    "        #  Predict on new data\n",
    "        y_pred = best_model.predict(X_test_sc)\n",
    "\n",
    "        # Test accuracy\n",
    "        print(\"Accuracy:\",metrics.accuracy_score(y_test, y_pred))  \n",
    "        \n",
    "        return metrics.accuracy_score(y_test, y_pred)\n",
    "\n"
   ]
  },
  {
   "cell_type": "code",
   "execution_count": 26,
   "id": "df154368",
   "metadata": {},
   "outputs": [
    {
     "name": "stderr",
     "output_type": "stream",
     "text": [
      "/Users/kenzaelhoussaini/.pyenv/versions/3.8.6/envs/lewagon/lib/python3.8/site-packages/pandas/core/frame.py:5171: SettingWithCopyWarning: \n",
      "A value is trying to be set on a copy of a slice from a DataFrame\n",
      "\n",
      "See the caveats in the documentation: https://pandas.pydata.org/pandas-docs/stable/user_guide/indexing.html#returning-a-view-versus-a-copy\n",
      "  return super().fillna(\n"
     ]
    }
   ],
   "source": [
    "ml = Modeling()"
   ]
  },
  {
   "cell_type": "code",
   "execution_count": 27,
   "id": "98fe953b",
   "metadata": {},
   "outputs": [
    {
     "data": {
      "text/html": [
       "<div>\n",
       "<style scoped>\n",
       "    .dataframe tbody tr th:only-of-type {\n",
       "        vertical-align: middle;\n",
       "    }\n",
       "\n",
       "    .dataframe tbody tr th {\n",
       "        vertical-align: top;\n",
       "    }\n",
       "\n",
       "    .dataframe thead th {\n",
       "        text-align: right;\n",
       "    }\n",
       "</style>\n",
       "<table border=\"1\" class=\"dataframe\">\n",
       "  <thead>\n",
       "    <tr style=\"text-align: right;\">\n",
       "      <th></th>\n",
       "      <th>SK_ID_CURR</th>\n",
       "      <th>TARGET</th>\n",
       "      <th>CNT_CHILDREN</th>\n",
       "      <th>AMT_INCOME_TOTAL</th>\n",
       "      <th>AMT_CREDIT</th>\n",
       "      <th>AMT_ANNUITY</th>\n",
       "      <th>AMT_GOODS_PRICE</th>\n",
       "      <th>REGION_POPULATION_RELATIVE</th>\n",
       "      <th>DAYS_BIRTH</th>\n",
       "      <th>DAYS_EMPLOYED</th>\n",
       "      <th>...</th>\n",
       "      <th>Mixed</th>\n",
       "      <th>Monolithic</th>\n",
       "      <th>Others</th>\n",
       "      <th>Panel</th>\n",
       "      <th>Stone, brick</th>\n",
       "      <th>Wooden</th>\n",
       "      <th>NaN</th>\n",
       "      <th>No</th>\n",
       "      <th>Yes</th>\n",
       "      <th>NaN</th>\n",
       "    </tr>\n",
       "  </thead>\n",
       "  <tbody>\n",
       "    <tr>\n",
       "      <th>0</th>\n",
       "      <td>100004</td>\n",
       "      <td>0</td>\n",
       "      <td>0</td>\n",
       "      <td>67500.0</td>\n",
       "      <td>135000.0</td>\n",
       "      <td>6750.0</td>\n",
       "      <td>135000.0</td>\n",
       "      <td>0.010032</td>\n",
       "      <td>-19046</td>\n",
       "      <td>-225</td>\n",
       "      <td>...</td>\n",
       "      <td>0</td>\n",
       "      <td>0</td>\n",
       "      <td>0</td>\n",
       "      <td>0</td>\n",
       "      <td>0</td>\n",
       "      <td>0</td>\n",
       "      <td>1</td>\n",
       "      <td>0</td>\n",
       "      <td>0</td>\n",
       "      <td>1</td>\n",
       "    </tr>\n",
       "    <tr>\n",
       "      <th>1</th>\n",
       "      <td>100009</td>\n",
       "      <td>0</td>\n",
       "      <td>1</td>\n",
       "      <td>171000.0</td>\n",
       "      <td>1560726.0</td>\n",
       "      <td>41301.0</td>\n",
       "      <td>1395000.0</td>\n",
       "      <td>0.035792</td>\n",
       "      <td>-13778</td>\n",
       "      <td>-3130</td>\n",
       "      <td>...</td>\n",
       "      <td>0</td>\n",
       "      <td>0</td>\n",
       "      <td>0</td>\n",
       "      <td>0</td>\n",
       "      <td>0</td>\n",
       "      <td>0</td>\n",
       "      <td>1</td>\n",
       "      <td>0</td>\n",
       "      <td>0</td>\n",
       "      <td>1</td>\n",
       "    </tr>\n",
       "  </tbody>\n",
       "</table>\n",
       "<p>2 rows × 247 columns</p>\n",
       "</div>"
      ],
      "text/plain": [
       "   SK_ID_CURR  TARGET  CNT_CHILDREN  AMT_INCOME_TOTAL  AMT_CREDIT  \\\n",
       "0      100004       0             0           67500.0    135000.0   \n",
       "1      100009       0             1          171000.0   1560726.0   \n",
       "\n",
       "   AMT_ANNUITY  AMT_GOODS_PRICE  REGION_POPULATION_RELATIVE  DAYS_BIRTH  \\\n",
       "0       6750.0         135000.0                    0.010032      -19046   \n",
       "1      41301.0        1395000.0                    0.035792      -13778   \n",
       "\n",
       "   DAYS_EMPLOYED  ...  Mixed  Monolithic  Others  Panel  Stone, brick  Wooden  \\\n",
       "0           -225  ...      0           0       0      0             0       0   \n",
       "1          -3130  ...      0           0       0      0             0       0   \n",
       "\n",
       "   NaN  No  Yes  NaN  \n",
       "0    1   0    0    1  \n",
       "1    1   0    0    1  \n",
       "\n",
       "[2 rows x 247 columns]"
      ]
     },
     "execution_count": 27,
     "metadata": {},
     "output_type": "execute_result"
    }
   ],
   "source": [
    "ml.data.head(2)"
   ]
  },
  {
   "cell_type": "code",
   "execution_count": 28,
   "id": "d08d095b",
   "metadata": {},
   "outputs": [
    {
     "data": {
      "text/plain": [
       "(91206, 247)"
      ]
     },
     "execution_count": 28,
     "metadata": {},
     "output_type": "execute_result"
    }
   ],
   "source": [
    "ml.data.shape"
   ]
  },
  {
   "cell_type": "code",
   "execution_count": 29,
   "id": "ab7940b1",
   "metadata": {},
   "outputs": [
    {
     "name": "stdout",
     "output_type": "stream",
     "text": [
      "Model:  LR  scoring: roc_auc  score 0.7457478275223101\n",
      "Model:  LR  scoring: accuracy  score 0.9246601028081207\n",
      "Model:  KNN  scoring: roc_auc  score 0.5421502379273351\n",
      "Model:  KNN  scoring: accuracy  score 0.9206659897060374\n",
      "Model:  DTC  scoring: roc_auc  score 0.5312529888622792\n",
      "Model:  DTC  scoring: accuracy  score 0.8600651204132188\n"
     ]
    }
   ],
   "source": [
    "dic = ml.execute()"
   ]
  },
  {
   "cell_type": "code",
   "execution_count": 30,
   "id": "7f845297",
   "metadata": {},
   "outputs": [
    {
     "data": {
      "text/plain": [
       "[['LR', 'roc_auc', 0.7457478275223101],\n",
       " ['LR', 'accuracy', 0.9246601028081207],\n",
       " ['KNN', 'roc_auc', 0.5421502379273351],\n",
       " ['KNN', 'accuracy', 0.9206659897060374],\n",
       " ['DTC', 'roc_auc', 0.5312529888622792],\n",
       " ['DTC', 'accuracy', 0.8600651204132188]]"
      ]
     },
     "execution_count": 30,
     "metadata": {},
     "output_type": "execute_result"
    }
   ],
   "source": [
    "dic['Results']"
   ]
  },
  {
   "cell_type": "code",
   "execution_count": 31,
   "id": "4de00031",
   "metadata": {},
   "outputs": [
    {
     "name": "stdout",
     "output_type": "stream",
     "text": [
      "score:  0.9243625082951722\n",
      "Accuracy: 0.9273079453256341\n"
     ]
    },
    {
     "data": {
      "text/plain": [
       "0.9273079453256341"
      ]
     },
     "execution_count": 31,
     "metadata": {},
     "output_type": "execute_result"
    }
   ],
   "source": [
    "ml.predict(best_model = LogisticRegression(max_iter=1000), best_scoring='accuracy')"
   ]
  },
  {
   "cell_type": "code",
   "execution_count": null,
   "id": "2dcbf16d",
   "metadata": {},
   "outputs": [],
   "source": []
  }
 ],
 "metadata": {
  "kernelspec": {
   "display_name": "Python 3 (ipykernel)",
   "language": "python",
   "name": "python3"
  },
  "language_info": {
   "codemirror_mode": {
    "name": "ipython",
    "version": 3
   },
   "file_extension": ".py",
   "mimetype": "text/x-python",
   "name": "python",
   "nbconvert_exporter": "python",
   "pygments_lexer": "ipython3",
   "version": "3.8.6"
  },
  "toc": {
   "base_numbering": 1,
   "nav_menu": {},
   "number_sections": true,
   "sideBar": true,
   "skip_h1_title": false,
   "title_cell": "Table of Contents",
   "title_sidebar": "Contents",
   "toc_cell": false,
   "toc_position": {},
   "toc_section_display": true,
   "toc_window_display": false
  }
 },
 "nbformat": 4,
 "nbformat_minor": 5
}
