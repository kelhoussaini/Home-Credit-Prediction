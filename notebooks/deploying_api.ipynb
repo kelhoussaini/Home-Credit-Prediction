{
 "cells": [
  {
   "cell_type": "code",
   "execution_count": null,
   "id": "f0653cc6",
   "metadata": {},
   "outputs": [],
   "source": [
    "import os\n",
    "import sys\n",
    "import pandas as pd"
   ]
  },
  {
   "cell_type": "code",
   "execution_count": 2,
   "id": "e2777419",
   "metadata": {},
   "outputs": [],
   "source": [
    "path_dir = (os.path.dirname(os.getcwd()))\n",
    "sys.path.append(path_dir)\n",
    "    \n",
    "from homecredit.data import HomeCredit\n",
    "from homecredit.preparation import Preparation\n",
    "from homecredit.cleaner import Cleaning\n",
    "from homecredit.exploration import Exploration\n",
    "from homecredit.encoder import Encoder\n",
    "from homecredit.model import Modeling"
   ]
  },
  {
   "cell_type": "code",
   "execution_count": 3,
   "id": "948c7eff",
   "metadata": {},
   "outputs": [],
   "source": [
    "from sklearn.linear_model import LogisticRegression\n",
    "#from sklearn.tree import DecisionTreeClassifier\n",
    "#from sklearn.neighbors import KNeighborsClassifier\n",
    "\n",
    "import pickle"
   ]
  },
  {
   "cell_type": "markdown",
   "id": "8d13c59f",
   "metadata": {},
   "source": [
    "# Load models from pickle file"
   ]
  },
  {
   "cell_type": "code",
   "execution_count": 4,
   "id": "c8314a3f",
   "metadata": {},
   "outputs": [
    {
     "data": {
      "text/plain": [
       "[{'Name ': 'LR',\n",
       "  'Model ': LogisticRegression(max_iter=1000),\n",
       "  ' scoring': 'accuracy',\n",
       "  ' train score': 0.9134809092893548,\n",
       "  'time_run (mins)': 2.852945601940155},\n",
       " {'Name ': 'DTC',\n",
       "  'Model ': DecisionTreeClassifier(),\n",
       "  ' scoring': 'accuracy',\n",
       "  ' train score': 0.8442406603005219,\n",
       "  'time_run (mins)': 7.018933931986491}]"
      ]
     },
     "execution_count": 4,
     "metadata": {},
     "output_type": "execute_result"
    }
   ],
   "source": [
    "# Load model from pickle file\n",
    "my_model = pickle.load(open(\"models.pckl\",\"rb\"))\n",
    "\n",
    "my_model"
   ]
  },
  {
   "cell_type": "markdown",
   "id": "ffc00163",
   "metadata": {},
   "source": [
    "# Call data to predict"
   ]
  },
  {
   "cell_type": "code",
   "execution_count": 12,
   "id": "f80934df",
   "metadata": {},
   "outputs": [
    {
     "data": {
      "text/plain": [
       "(39431, 121)"
      ]
     },
     "execution_count": 12,
     "metadata": {},
     "output_type": "execute_result"
    }
   ],
   "source": [
    "# this cell includes data to predict after transformation : clening missvalues, removing outliers, encoding\n",
    "EN = Encoder(data_set='test')\n",
    "EN.data.shape"
   ]
  },
  {
   "cell_type": "markdown",
   "id": "53ded6c3",
   "metadata": {},
   "source": [
    "# Model Prediction for new data"
   ]
  },
  {
   "cell_type": "code",
   "execution_count": 5,
   "id": "f196b52c",
   "metadata": {},
   "outputs": [],
   "source": [
    "ml = Modeling()"
   ]
  },
  {
   "cell_type": "code",
   "execution_count": 6,
   "id": "1e4ee4a4",
   "metadata": {},
   "outputs": [
    {
     "data": {
      "text/html": [
       "<div>\n",
       "<style scoped>\n",
       "    .dataframe tbody tr th:only-of-type {\n",
       "        vertical-align: middle;\n",
       "    }\n",
       "\n",
       "    .dataframe tbody tr th {\n",
       "        vertical-align: top;\n",
       "    }\n",
       "\n",
       "    .dataframe thead th {\n",
       "        text-align: right;\n",
       "    }\n",
       "</style>\n",
       "<table border=\"1\" class=\"dataframe\">\n",
       "  <thead>\n",
       "    <tr style=\"text-align: right;\">\n",
       "      <th></th>\n",
       "      <th>SK_ID_CURR</th>\n",
       "      <th>TARGET</th>\n",
       "      <th>CNT_CHILDREN</th>\n",
       "      <th>AMT_INCOME_TOTAL</th>\n",
       "      <th>AMT_CREDIT</th>\n",
       "      <th>AMT_ANNUITY</th>\n",
       "      <th>AMT_GOODS_PRICE</th>\n",
       "      <th>REGION_POPULATION_RELATIVE</th>\n",
       "      <th>DAYS_BIRTH</th>\n",
       "      <th>DAYS_EMPLOYED</th>\n",
       "      <th>...</th>\n",
       "      <th>terraced house</th>\n",
       "      <th>Block</th>\n",
       "      <th>Mixed</th>\n",
       "      <th>Monolithic</th>\n",
       "      <th>Others</th>\n",
       "      <th>Panel</th>\n",
       "      <th>Stone, brick</th>\n",
       "      <th>Wooden</th>\n",
       "      <th>No</th>\n",
       "      <th>Yes</th>\n",
       "    </tr>\n",
       "  </thead>\n",
       "  <tbody>\n",
       "    <tr>\n",
       "      <th>0</th>\n",
       "      <td>100002</td>\n",
       "      <td>1</td>\n",
       "      <td>0</td>\n",
       "      <td>202500.0</td>\n",
       "      <td>406597.5</td>\n",
       "      <td>24700.5</td>\n",
       "      <td>351000.0</td>\n",
       "      <td>0.018801</td>\n",
       "      <td>-9461</td>\n",
       "      <td>-637</td>\n",
       "      <td>...</td>\n",
       "      <td>0</td>\n",
       "      <td>0</td>\n",
       "      <td>0</td>\n",
       "      <td>0</td>\n",
       "      <td>0</td>\n",
       "      <td>0</td>\n",
       "      <td>1</td>\n",
       "      <td>0</td>\n",
       "      <td>1</td>\n",
       "      <td>0</td>\n",
       "    </tr>\n",
       "    <tr>\n",
       "      <th>1</th>\n",
       "      <td>100003</td>\n",
       "      <td>0</td>\n",
       "      <td>0</td>\n",
       "      <td>270000.0</td>\n",
       "      <td>1293502.5</td>\n",
       "      <td>35698.5</td>\n",
       "      <td>1129500.0</td>\n",
       "      <td>0.003541</td>\n",
       "      <td>-16765</td>\n",
       "      <td>-1188</td>\n",
       "      <td>...</td>\n",
       "      <td>0</td>\n",
       "      <td>1</td>\n",
       "      <td>0</td>\n",
       "      <td>0</td>\n",
       "      <td>0</td>\n",
       "      <td>0</td>\n",
       "      <td>0</td>\n",
       "      <td>0</td>\n",
       "      <td>1</td>\n",
       "      <td>0</td>\n",
       "    </tr>\n",
       "  </tbody>\n",
       "</table>\n",
       "<p>2 rows × 242 columns</p>\n",
       "</div>"
      ],
      "text/plain": [
       "   SK_ID_CURR  TARGET  CNT_CHILDREN  AMT_INCOME_TOTAL  AMT_CREDIT  \\\n",
       "0      100002       1             0          202500.0    406597.5   \n",
       "1      100003       0             0          270000.0   1293502.5   \n",
       "\n",
       "   AMT_ANNUITY  AMT_GOODS_PRICE  REGION_POPULATION_RELATIVE  DAYS_BIRTH  \\\n",
       "0      24700.5         351000.0                    0.018801       -9461   \n",
       "1      35698.5        1129500.0                    0.003541      -16765   \n",
       "\n",
       "   DAYS_EMPLOYED  ...  terraced house  Block  Mixed  Monolithic  Others  \\\n",
       "0           -637  ...               0      0      0           0       0   \n",
       "1          -1188  ...               0      1      0           0       0   \n",
       "\n",
       "   Panel  Stone, brick  Wooden  No  Yes  \n",
       "0      0             1       0   1    0  \n",
       "1      0             0       0   1    0  \n",
       "\n",
       "[2 rows x 242 columns]"
      ]
     },
     "execution_count": 6,
     "metadata": {},
     "output_type": "execute_result"
    }
   ],
   "source": [
    "ml.data.head(2)"
   ]
  },
  {
   "cell_type": "code",
   "execution_count": 7,
   "id": "8cdad3a0",
   "metadata": {},
   "outputs": [],
   "source": [
    "res = ml.predict_newdata(LogisticRegression(max_iter=1000))"
   ]
  },
  {
   "cell_type": "code",
   "execution_count": 8,
   "id": "22ab4746",
   "metadata": {},
   "outputs": [
    {
     "data": {
      "text/plain": [
       "{'Predictions ': array([0, 0, 0, ..., 0, 0, 0])}"
      ]
     },
     "execution_count": 8,
     "metadata": {},
     "output_type": "execute_result"
    }
   ],
   "source": [
    "res"
   ]
  },
  {
   "cell_type": "code",
   "execution_count": 11,
   "id": "f90509ee",
   "metadata": {},
   "outputs": [
    {
     "data": {
      "text/plain": [
       "(39431,)"
      ]
     },
     "execution_count": 11,
     "metadata": {},
     "output_type": "execute_result"
    }
   ],
   "source": [
    "res['Predictions '].shape"
   ]
  },
  {
   "cell_type": "code",
   "execution_count": 13,
   "id": "3689364c",
   "metadata": {},
   "outputs": [
    {
     "data": {
      "text/plain": [
       "array([0, 0, 0, 0, 0])"
      ]
     },
     "execution_count": 13,
     "metadata": {},
     "output_type": "execute_result"
    }
   ],
   "source": [
    "res['Predictions '][:5]"
   ]
  },
  {
   "cell_type": "code",
   "execution_count": 27,
   "id": "43653c4d",
   "metadata": {},
   "outputs": [
    {
     "data": {
      "text/plain": [
       "[<matplotlib.lines.Line2D at 0x13d039400>]"
      ]
     },
     "execution_count": 27,
     "metadata": {},
     "output_type": "execute_result"
    },
    {
     "data": {
      "image/png": "[encoded data removed]",
      "text/plain": [
       "<Figure size 1224x288 with 1 Axes>"
      ]
     },
     "metadata": {
      "needs_background": "light"
     },
     "output_type": "display_data"
    }
   ],
   "source": [
    "import matplotlib.pyplot as plt\n",
    "import seaborn as sns\n",
    "\n",
    "plt.figure(figsize = (17, 4))\n",
    "\n",
    "y = res['Predictions ']\n",
    "plt.plot(range(0, len(y)),y , 'bo') "
   ]
  },
  {
   "cell_type": "code",
   "execution_count": 28,
   "id": "61fe3b27",
   "metadata": {},
   "outputs": [
    {
     "data": {
      "text/html": [
       "<div>\n",
       "<style scoped>\n",
       "    .dataframe tbody tr th:only-of-type {\n",
       "        vertical-align: middle;\n",
       "    }\n",
       "\n",
       "    .dataframe tbody tr th {\n",
       "        vertical-align: top;\n",
       "    }\n",
       "\n",
       "    .dataframe thead th {\n",
       "        text-align: right;\n",
       "    }\n",
       "</style>\n",
       "<table border=\"1\" class=\"dataframe\">\n",
       "  <thead>\n",
       "    <tr style=\"text-align: right;\">\n",
       "      <th></th>\n",
       "      <th>target</th>\n",
       "    </tr>\n",
       "  </thead>\n",
       "  <tbody>\n",
       "    <tr>\n",
       "      <th>0</th>\n",
       "      <td>0</td>\n",
       "    </tr>\n",
       "    <tr>\n",
       "      <th>1</th>\n",
       "      <td>0</td>\n",
       "    </tr>\n",
       "    <tr>\n",
       "      <th>2</th>\n",
       "      <td>0</td>\n",
       "    </tr>\n",
       "    <tr>\n",
       "      <th>3</th>\n",
       "      <td>0</td>\n",
       "    </tr>\n",
       "    <tr>\n",
       "      <th>4</th>\n",
       "      <td>0</td>\n",
       "    </tr>\n",
       "    <tr>\n",
       "      <th>...</th>\n",
       "      <td>...</td>\n",
       "    </tr>\n",
       "    <tr>\n",
       "      <th>39426</th>\n",
       "      <td>0</td>\n",
       "    </tr>\n",
       "    <tr>\n",
       "      <th>39427</th>\n",
       "      <td>0</td>\n",
       "    </tr>\n",
       "    <tr>\n",
       "      <th>39428</th>\n",
       "      <td>0</td>\n",
       "    </tr>\n",
       "    <tr>\n",
       "      <th>39429</th>\n",
       "      <td>0</td>\n",
       "    </tr>\n",
       "    <tr>\n",
       "      <th>39430</th>\n",
       "      <td>0</td>\n",
       "    </tr>\n",
       "  </tbody>\n",
       "</table>\n",
       "<p>39431 rows × 1 columns</p>\n",
       "</div>"
      ],
      "text/plain": [
       "       target\n",
       "0           0\n",
       "1           0\n",
       "2           0\n",
       "3           0\n",
       "4           0\n",
       "...       ...\n",
       "39426       0\n",
       "39427       0\n",
       "39428       0\n",
       "39429       0\n",
       "39430       0\n",
       "\n",
       "[39431 rows x 1 columns]"
      ]
     },
     "execution_count": 28,
     "metadata": {},
     "output_type": "execute_result"
    }
   ],
   "source": [
    "df = pd.DataFrame(data=y, columns=[\"target\"])\n",
    "targ = 'target'\n",
    "df"
   ]
  },
  {
   "cell_type": "code",
   "execution_count": 30,
   "id": "d15f53ac",
   "metadata": {},
   "outputs": [
    {
     "data": {
      "image/png": "[encoded data removed]",
      "text/plain": [
       "<Figure size 1008x288 with 2 Axes>"
      ]
     },
     "metadata": {
      "needs_background": "light"
     },
     "output_type": "display_data"
    }
   ],
   "source": [
    "dataframe = (df[targ].value_counts() / len(df)).to_frame()\n",
    "           \n",
    "fig, ax=plt.subplots(1,2,figsize=(14,4))\n",
    "\n",
    "df[targ].value_counts().plot.pie(explode=[0.1,0.1],autopct='%1.1f%%',shadow=True,ax=ax[0])\n",
    "ax[0].set_title(\"Predicted Targets %\")\n",
    "ax[0].set_ylabel('')\n",
    "\n",
    "sns.countplot(x = targ, data = df, ax=ax[1])\n",
    "ax[1].set_title('Count of Repayer Vs. defulter')\n",
    "\n",
    "plt.show()"
   ]
  },
  {
   "cell_type": "markdown",
   "id": "fc5a9636",
   "metadata": {},
   "source": [
    "# Deploying a predictive model as an API"
   ]
  },
  {
   "cell_type": "code",
   "execution_count": null,
   "id": "3af77acc",
   "metadata": {},
   "outputs": [],
   "source": [
    "# Creating the function which can take inputs and return predictions\n",
    "\n",
    "def prediction()\n",
    "\n",
    "\n"
   ]
  },
  {
   "cell_type": "code",
   "execution_count": null,
   "id": "b4da345d",
   "metadata": {},
   "outputs": [],
   "source": [
    "def prediction(test_csv_url):\n",
    "    \n",
    "    df = pd.read_csv(test_csv_url)\n",
    "    \n",
    "    # Load model from pickle file\n",
    "    my_model = pickle.load(open(\"models.pckl\",\"rb\"))\n",
    "\n",
    "    ml.predict(best_model = LogisticRegression(max_iter=1000), best_scoring='accuracy')\n",
    "    \n",
    "    \n",
    "    prediction_lda = clf_lda.predict(X_test)\n",
    "    \n",
    "    clf_nn = load(MODEL_PATH_NN)\n",
    "    prediction_nn = clf_nn.predict(X_test)\n",
    "    \n",
    "    return {'prediction LDA': int(prediction_lda), 'prediction Neural Network': int(prediction_nn)}\n"
   ]
  },
  {
   "cell_type": "code",
   "execution_count": null,
   "id": "a7f566d5",
   "metadata": {},
   "outputs": [],
   "source": []
  },
  {
   "cell_type": "code",
   "execution_count": null,
   "id": "ad9bb44b",
   "metadata": {},
   "outputs": [],
   "source": [
    "df_test = pd.read_csv(\"../raw_data/application_test.csv\")\n",
    "df_train = pd.read_csv(\"../raw_data/application_train.csv\")\n"
   ]
  },
  {
   "cell_type": "code",
   "execution_count": null,
   "id": "5b071aa6",
   "metadata": {},
   "outputs": [],
   "source": [
    "df_test.shape, df_train.shape"
   ]
  },
  {
   "cell_type": "code",
   "execution_count": null,
   "id": "76580fdf",
   "metadata": {},
   "outputs": [],
   "source": [
    "for col in en.prep.get_catcols(): #catcols\n",
    "    print(col, \"***test**\", len(df_test[col].unique()), \"***train**\", len(df_train[col].unique()))"
   ]
  },
  {
   "cell_type": "code",
   "execution_count": null,
   "id": "b10cad69",
   "metadata": {},
   "outputs": [],
   "source": [
    "col = 'NAME_INCOME_TYPE'\n",
    "df_test[col].unique()"
   ]
  },
  {
   "cell_type": "code",
   "execution_count": null,
   "id": "4e02795f",
   "metadata": {},
   "outputs": [],
   "source": [
    "df_train[col].unique()"
   ]
  },
  {
   "cell_type": "code",
   "execution_count": null,
   "id": "6fe10d3b",
   "metadata": {},
   "outputs": [],
   "source": []
  }
 ],
 "metadata": {
  "kernelspec": {
   "display_name": "Python 3 (ipykernel)",
   "language": "python",
   "name": "python3"
  },
  "language_info": {
   "codemirror_mode": {
    "name": "ipython",
    "version": 3
   },
   "file_extension": ".py",
   "mimetype": "text/x-python",
   "name": "python",
   "nbconvert_exporter": "python",
   "pygments_lexer": "ipython3",
   "version": "3.8.6"
  },
  "toc": {
   "base_numbering": 1,
   "nav_menu": {},
   "number_sections": true,
   "sideBar": true,
   "skip_h1_title": false,
   "title_cell": "Table of Contents",
   "title_sidebar": "Contents",
   "toc_cell": false,
   "toc_position": {},
   "toc_section_display": true,
   "toc_window_display": false
  }
 },
 "nbformat": 4,
 "nbformat_minor": 5
}
