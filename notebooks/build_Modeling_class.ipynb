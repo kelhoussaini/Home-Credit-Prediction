{
 "cells": [
  {
   "cell_type": "code",
   "execution_count": null,
   "id": "c1b2a8ca",
   "metadata": {},
   "outputs": [],
   "source": [
    "# Implement the Modeling class in Home-Credit-Prediction/homecredit/model.py"
   ]
  },
  {
   "cell_type": "code",
   "execution_count": 1,
   "id": "f3218917",
   "metadata": {},
   "outputs": [],
   "source": [
    "\n",
    "import os\n",
    "import sys\n",
    "import pandas as pd\n",
    "import numpy as np\n",
    "from scipy.stats import chi2_contingency # need this for chi-squared function\n",
    "from sklearn.preprocessing import OneHotEncoder\n",
    "\n",
    "import seaborn as sns\n",
    "import matplotlib.pyplot as plt"
   ]
  },
  {
   "cell_type": "code",
   "execution_count": 3,
   "id": "fbad704e",
   "metadata": {},
   "outputs": [],
   "source": [
    "path_dir = (os.path.dirname(os.getcwd()))\n",
    "sys.path.append(path_dir)\n",
    "    \n",
    "from homecredit.data import HomeCredit\n",
    "from homecredit.preparation import Preparation\n",
    "from homecredit.cleaner import Cleaning\n",
    "from homecredit.exploration import Exploration"
   ]
  },
  {
   "cell_type": "code",
   "execution_count": 4,
   "id": "cf20984a",
   "metadata": {},
   "outputs": [
    {
     "data": {
      "text/plain": [
       "(91206, 122)"
      ]
     },
     "execution_count": 4,
     "metadata": {},
     "output_type": "execute_result"
    }
   ],
   "source": [
    "df = Cleaning().remove_entries()\n",
    "df.shape"
   ]
  },
  {
   "cell_type": "code",
   "execution_count": 5,
   "id": "056e4787",
   "metadata": {},
   "outputs": [],
   "source": [
    "#df.dtypes"
   ]
  },
  {
   "cell_type": "code",
   "execution_count": 6,
   "id": "86f48a4e",
   "metadata": {},
   "outputs": [],
   "source": [
    "catcols = Preparation().get_catcols() # categorical columns\n",
    "numcols = Preparation().get_numcols() # numerical columns"
   ]
  },
  {
   "cell_type": "code",
   "execution_count": null,
   "id": "6f611335",
   "metadata": {},
   "outputs": [],
   "source": [
    "#df['a'] = df['a'].astype(float, errors = 'raise')"
   ]
  },
  {
   "cell_type": "code",
   "execution_count": null,
   "id": "83feee56",
   "metadata": {},
   "outputs": [],
   "source": [
    "#data = df.drop_duplicates(subset = df.columns)\n",
    "#data.shape"
   ]
  },
  {
   "cell_type": "code",
   "execution_count": 9,
   "id": "692f7d8c",
   "metadata": {},
   "outputs": [
    {
     "name": "stderr",
     "output_type": "stream",
     "text": [
      "/Users/kenzaelhoussaini/.pyenv/versions/3.8.6/envs/lewagon/lib/python3.8/site-packages/pandas/core/frame.py:5171: SettingWithCopyWarning: \n",
      "A value is trying to be set on a copy of a slice from a DataFrame\n",
      "\n",
      "See the caveats in the documentation: https://pandas.pydata.org/pandas-docs/stable/user_guide/indexing.html#returning-a-view-versus-a-copy\n",
      "  return super().fillna(\n"
     ]
    }
   ],
   "source": [
    "df[catcols].fillna('', inplace=True)\n",
    "\n",
    "# Replace the NaNs in numerical column by the mean of values\n",
    "# in numerical column respectively\n",
    "df[numcols] = df[numcols].fillna(value=df[numcols].mean())"
   ]
  },
  {
   "cell_type": "code",
   "execution_count": 10,
   "id": "9deb137f",
   "metadata": {},
   "outputs": [
    {
     "data": {
      "text/plain": [
       "SK_ID_CURR                      int64\n",
       "TARGET                          int64\n",
       "NAME_CONTRACT_TYPE             object\n",
       "CODE_GENDER                    object\n",
       "FLAG_OWN_CAR                   object\n",
       "                               ...   \n",
       "AMT_REQ_CREDIT_BUREAU_DAY     float64\n",
       "AMT_REQ_CREDIT_BUREAU_WEEK    float64\n",
       "AMT_REQ_CREDIT_BUREAU_MON     float64\n",
       "AMT_REQ_CREDIT_BUREAU_QRT     float64\n",
       "AMT_REQ_CREDIT_BUREAU_YEAR    float64\n",
       "Length: 122, dtype: object"
      ]
     },
     "execution_count": 10,
     "metadata": {},
     "output_type": "execute_result"
    }
   ],
   "source": [
    "df.dtypes"
   ]
  },
  {
   "cell_type": "code",
   "execution_count": 11,
   "id": "6dff2fae",
   "metadata": {},
   "outputs": [
    {
     "data": {
      "text/plain": [
       "dtype('float64')"
      ]
     },
     "execution_count": 11,
     "metadata": {},
     "output_type": "execute_result"
    }
   ],
   "source": [
    "df['AMT_ANNUITY'].dtype"
   ]
  },
  {
   "cell_type": "code",
   "execution_count": 12,
   "id": "8ebb38a0",
   "metadata": {
    "scrolled": true
   },
   "outputs": [
    {
     "data": {
      "text/plain": [
       "44.0"
      ]
     },
     "execution_count": 12,
     "metadata": {},
     "output_type": "execute_result"
    }
   ],
   "source": [
    "max(df['OWN_CAR_AGE'])  "
   ]
  },
  {
   "cell_type": "code",
   "execution_count": 13,
   "id": "d31d0819",
   "metadata": {},
   "outputs": [],
   "source": [
    "#catcols[:7]"
   ]
  },
  {
   "cell_type": "code",
   "execution_count": 14,
   "id": "c8c9a4b8",
   "metadata": {},
   "outputs": [],
   "source": [
    "#catcols[7:]"
   ]
  },
  {
   "cell_type": "code",
   "execution_count": 15,
   "id": "1488e2bc",
   "metadata": {},
   "outputs": [],
   "source": [
    "def encoding_categ_column(df, cols):\n",
    "    \n",
    "    for col_name in cols:\n",
    "    \n",
    "        L = list(df[col_name].unique())\n",
    "        if '' in L:\n",
    "            df[col_name].replace(\"\", \"NoValue\", inplace=True) #Replace NaN by \"NoCodeNature\"\n",
    "\n",
    "        ohe = OneHotEncoder(sparse = False) # Instanciate encoder\n",
    "        ohe.fit(df[[col_name]]) # Fit encoder  ---> OneHotEncoder(sparse=False)\n",
    "\n",
    "        col_encoded = ohe.transform(df[[col_name]]) # Encode\n",
    "\n",
    "        dicts_col = {}\n",
    "        keys = list(ohe.categories_[0])\n",
    "        values = col_encoded.T.astype(int)\n",
    "\n",
    "        for i,j in enumerate(keys):\n",
    "            dicts_col[j] = values[i,:]\n",
    "\n",
    "        result = pd.DataFrame.from_dict(dicts_col)\n",
    "\n",
    "        df = df.reset_index(drop=True)\n",
    "\n",
    "        #Concat df and result dataframes\n",
    "        data_res = pd.concat([df, result], axis = 1)\n",
    "\n",
    "        if 'NoValue' in list(data_res.columns):\n",
    "            data_res = data_res.drop(columns= ['NoValue',col_name] )\n",
    "            df = data_res\n",
    "        else:\n",
    "            data_res = data_res.drop(columns= col_name)\n",
    "            df = data_res\n",
    "        \n",
    "    return df"
   ]
  },
  {
   "cell_type": "code",
   "execution_count": 16,
   "id": "d6739d1c",
   "metadata": {},
   "outputs": [
    {
     "data": {
      "text/plain": [
       "(91206, 247)"
      ]
     },
     "execution_count": 16,
     "metadata": {},
     "output_type": "execute_result"
    }
   ],
   "source": [
    "encoded_df = encoding_categ_column(df = df,\n",
    "                                   cols = catcols)\n",
    "encoded_df.shape"
   ]
  },
  {
   "cell_type": "code",
   "execution_count": 17,
   "id": "9fa32fda",
   "metadata": {},
   "outputs": [
    {
     "data": {
      "text/html": [
       "<div>\n",
       "<style scoped>\n",
       "    .dataframe tbody tr th:only-of-type {\n",
       "        vertical-align: middle;\n",
       "    }\n",
       "\n",
       "    .dataframe tbody tr th {\n",
       "        vertical-align: top;\n",
       "    }\n",
       "\n",
       "    .dataframe thead th {\n",
       "        text-align: right;\n",
       "    }\n",
       "</style>\n",
       "<table border=\"1\" class=\"dataframe\">\n",
       "  <thead>\n",
       "    <tr style=\"text-align: right;\">\n",
       "      <th></th>\n",
       "      <th>SK_ID_CURR</th>\n",
       "      <th>TARGET</th>\n",
       "      <th>NAME_CONTRACT_TYPE</th>\n",
       "      <th>CODE_GENDER</th>\n",
       "      <th>FLAG_OWN_CAR</th>\n",
       "      <th>FLAG_OWN_REALTY</th>\n",
       "      <th>CNT_CHILDREN</th>\n",
       "      <th>AMT_INCOME_TOTAL</th>\n",
       "      <th>AMT_CREDIT</th>\n",
       "      <th>AMT_ANNUITY</th>\n",
       "      <th>...</th>\n",
       "      <th>FLAG_DOCUMENT_18</th>\n",
       "      <th>FLAG_DOCUMENT_19</th>\n",
       "      <th>FLAG_DOCUMENT_20</th>\n",
       "      <th>FLAG_DOCUMENT_21</th>\n",
       "      <th>AMT_REQ_CREDIT_BUREAU_HOUR</th>\n",
       "      <th>AMT_REQ_CREDIT_BUREAU_DAY</th>\n",
       "      <th>AMT_REQ_CREDIT_BUREAU_WEEK</th>\n",
       "      <th>AMT_REQ_CREDIT_BUREAU_MON</th>\n",
       "      <th>AMT_REQ_CREDIT_BUREAU_QRT</th>\n",
       "      <th>AMT_REQ_CREDIT_BUREAU_YEAR</th>\n",
       "    </tr>\n",
       "  </thead>\n",
       "  <tbody>\n",
       "    <tr>\n",
       "      <th>2</th>\n",
       "      <td>100004</td>\n",
       "      <td>0</td>\n",
       "      <td>Revolving loans</td>\n",
       "      <td>M</td>\n",
       "      <td>Y</td>\n",
       "      <td>Y</td>\n",
       "      <td>0</td>\n",
       "      <td>67500.0</td>\n",
       "      <td>135000.0</td>\n",
       "      <td>6750.0</td>\n",
       "      <td>...</td>\n",
       "      <td>0</td>\n",
       "      <td>0</td>\n",
       "      <td>0</td>\n",
       "      <td>0</td>\n",
       "      <td>0.0</td>\n",
       "      <td>0.0</td>\n",
       "      <td>0.0</td>\n",
       "      <td>0.0</td>\n",
       "      <td>0.0</td>\n",
       "      <td>0.0</td>\n",
       "    </tr>\n",
       "    <tr>\n",
       "      <th>6</th>\n",
       "      <td>100009</td>\n",
       "      <td>0</td>\n",
       "      <td>Cash loans</td>\n",
       "      <td>F</td>\n",
       "      <td>Y</td>\n",
       "      <td>Y</td>\n",
       "      <td>1</td>\n",
       "      <td>171000.0</td>\n",
       "      <td>1560726.0</td>\n",
       "      <td>41301.0</td>\n",
       "      <td>...</td>\n",
       "      <td>0</td>\n",
       "      <td>0</td>\n",
       "      <td>0</td>\n",
       "      <td>0</td>\n",
       "      <td>0.0</td>\n",
       "      <td>0.0</td>\n",
       "      <td>0.0</td>\n",
       "      <td>1.0</td>\n",
       "      <td>1.0</td>\n",
       "      <td>2.0</td>\n",
       "    </tr>\n",
       "  </tbody>\n",
       "</table>\n",
       "<p>2 rows × 122 columns</p>\n",
       "</div>"
      ],
      "text/plain": [
       "   SK_ID_CURR  TARGET NAME_CONTRACT_TYPE CODE_GENDER FLAG_OWN_CAR  \\\n",
       "2      100004       0    Revolving loans           M            Y   \n",
       "6      100009       0         Cash loans           F            Y   \n",
       "\n",
       "  FLAG_OWN_REALTY  CNT_CHILDREN  AMT_INCOME_TOTAL  AMT_CREDIT  AMT_ANNUITY  \\\n",
       "2               Y             0           67500.0    135000.0       6750.0   \n",
       "6               Y             1          171000.0   1560726.0      41301.0   \n",
       "\n",
       "   ...  FLAG_DOCUMENT_18 FLAG_DOCUMENT_19 FLAG_DOCUMENT_20 FLAG_DOCUMENT_21  \\\n",
       "2  ...                 0                0                0                0   \n",
       "6  ...                 0                0                0                0   \n",
       "\n",
       "  AMT_REQ_CREDIT_BUREAU_HOUR AMT_REQ_CREDIT_BUREAU_DAY  \\\n",
       "2                        0.0                       0.0   \n",
       "6                        0.0                       0.0   \n",
       "\n",
       "   AMT_REQ_CREDIT_BUREAU_WEEK  AMT_REQ_CREDIT_BUREAU_MON  \\\n",
       "2                         0.0                        0.0   \n",
       "6                         0.0                        1.0   \n",
       "\n",
       "   AMT_REQ_CREDIT_BUREAU_QRT  AMT_REQ_CREDIT_BUREAU_YEAR  \n",
       "2                        0.0                         0.0  \n",
       "6                        1.0                         2.0  \n",
       "\n",
       "[2 rows x 122 columns]"
      ]
     },
     "execution_count": 17,
     "metadata": {},
     "output_type": "execute_result"
    }
   ],
   "source": [
    "df.head(2)"
   ]
  },
  {
   "cell_type": "code",
   "execution_count": 18,
   "id": "7ea2aa27",
   "metadata": {},
   "outputs": [
    {
     "data": {
      "text/html": [
       "<div>\n",
       "<style scoped>\n",
       "    .dataframe tbody tr th:only-of-type {\n",
       "        vertical-align: middle;\n",
       "    }\n",
       "\n",
       "    .dataframe tbody tr th {\n",
       "        vertical-align: top;\n",
       "    }\n",
       "\n",
       "    .dataframe thead th {\n",
       "        text-align: right;\n",
       "    }\n",
       "</style>\n",
       "<table border=\"1\" class=\"dataframe\">\n",
       "  <thead>\n",
       "    <tr style=\"text-align: right;\">\n",
       "      <th></th>\n",
       "      <th>SK_ID_CURR</th>\n",
       "      <th>TARGET</th>\n",
       "      <th>CNT_CHILDREN</th>\n",
       "      <th>AMT_INCOME_TOTAL</th>\n",
       "      <th>AMT_CREDIT</th>\n",
       "      <th>AMT_ANNUITY</th>\n",
       "      <th>AMT_GOODS_PRICE</th>\n",
       "      <th>REGION_POPULATION_RELATIVE</th>\n",
       "      <th>DAYS_BIRTH</th>\n",
       "      <th>DAYS_EMPLOYED</th>\n",
       "      <th>...</th>\n",
       "      <th>Mixed</th>\n",
       "      <th>Monolithic</th>\n",
       "      <th>Others</th>\n",
       "      <th>Panel</th>\n",
       "      <th>Stone, brick</th>\n",
       "      <th>Wooden</th>\n",
       "      <th>NaN</th>\n",
       "      <th>No</th>\n",
       "      <th>Yes</th>\n",
       "      <th>NaN</th>\n",
       "    </tr>\n",
       "  </thead>\n",
       "  <tbody>\n",
       "    <tr>\n",
       "      <th>0</th>\n",
       "      <td>100004</td>\n",
       "      <td>0</td>\n",
       "      <td>0</td>\n",
       "      <td>67500.0</td>\n",
       "      <td>135000.0</td>\n",
       "      <td>6750.0</td>\n",
       "      <td>135000.0</td>\n",
       "      <td>0.010032</td>\n",
       "      <td>-19046</td>\n",
       "      <td>-225</td>\n",
       "      <td>...</td>\n",
       "      <td>0</td>\n",
       "      <td>0</td>\n",
       "      <td>0</td>\n",
       "      <td>0</td>\n",
       "      <td>0</td>\n",
       "      <td>0</td>\n",
       "      <td>1</td>\n",
       "      <td>0</td>\n",
       "      <td>0</td>\n",
       "      <td>1</td>\n",
       "    </tr>\n",
       "    <tr>\n",
       "      <th>1</th>\n",
       "      <td>100009</td>\n",
       "      <td>0</td>\n",
       "      <td>1</td>\n",
       "      <td>171000.0</td>\n",
       "      <td>1560726.0</td>\n",
       "      <td>41301.0</td>\n",
       "      <td>1395000.0</td>\n",
       "      <td>0.035792</td>\n",
       "      <td>-13778</td>\n",
       "      <td>-3130</td>\n",
       "      <td>...</td>\n",
       "      <td>0</td>\n",
       "      <td>0</td>\n",
       "      <td>0</td>\n",
       "      <td>0</td>\n",
       "      <td>0</td>\n",
       "      <td>0</td>\n",
       "      <td>1</td>\n",
       "      <td>0</td>\n",
       "      <td>0</td>\n",
       "      <td>1</td>\n",
       "    </tr>\n",
       "  </tbody>\n",
       "</table>\n",
       "<p>2 rows × 247 columns</p>\n",
       "</div>"
      ],
      "text/plain": [
       "   SK_ID_CURR  TARGET  CNT_CHILDREN  AMT_INCOME_TOTAL  AMT_CREDIT  \\\n",
       "0      100004       0             0           67500.0    135000.0   \n",
       "1      100009       0             1          171000.0   1560726.0   \n",
       "\n",
       "   AMT_ANNUITY  AMT_GOODS_PRICE  REGION_POPULATION_RELATIVE  DAYS_BIRTH  \\\n",
       "0       6750.0         135000.0                    0.010032      -19046   \n",
       "1      41301.0        1395000.0                    0.035792      -13778   \n",
       "\n",
       "   DAYS_EMPLOYED  ...  Mixed  Monolithic  Others  Panel  Stone, brick  Wooden  \\\n",
       "0           -225  ...      0           0       0      0             0       0   \n",
       "1          -3130  ...      0           0       0      0             0       0   \n",
       "\n",
       "   NaN  No  Yes  NaN  \n",
       "0    1   0    0    1  \n",
       "1    1   0    0    1  \n",
       "\n",
       "[2 rows x 247 columns]"
      ]
     },
     "execution_count": 18,
     "metadata": {},
     "output_type": "execute_result"
    }
   ],
   "source": [
    "encoded_df.head(2)"
   ]
  },
  {
   "cell_type": "code",
   "execution_count": 20,
   "id": "cf988e26",
   "metadata": {},
   "outputs": [],
   "source": [
    "#encoded_df.dtypes.unique()"
   ]
  },
  {
   "cell_type": "code",
   "execution_count": 29,
   "id": "662c626d",
   "metadata": {},
   "outputs": [
    {
     "name": "stdout",
     "output_type": "stream",
     "text": [
      "Accuracy: 0.9188137265650697\n"
     ]
    }
   ],
   "source": [
    "# create X, y\n",
    "from sklearn.model_selection import train_test_split\n",
    "from sklearn import metrics\n",
    "from sklearn.neighbors import KNeighborsClassifier\n",
    "\n",
    "\n",
    "y = encoded_df.TARGET\n",
    "X = encoded_df.drop('TARGET', axis = 1)\n",
    "X.shape\n",
    "\n",
    "# Feature names\n",
    "features = list(X.columns)\n",
    "\n",
    "# Se crean los datos de entrenamiento y de prueba para el entrenamiento y evaluación del modelo de Machine Learning\n",
    "X_train, X_test, y_train, y_test = train_test_split(X, y, test_size=0.20)\n",
    "# Se crea el modelo KNN\n",
    "neigh = KNeighborsClassifier(n_neighbors=5)\n",
    "\n",
    "# Se entrena el modelo\n",
    "neigh.fit(X_train, y_train)\n",
    "\n",
    "# Se predicen los datos de prueba\n",
    "y_pred = neigh.predict(X_test)\n",
    "\n",
    "# Se calcula la exactitud del modelo\n",
    "print(\"Accuracy:\",metrics.accuracy_score(y_test, y_pred))\n",
    "\n"
   ]
  },
  {
   "cell_type": "code",
   "execution_count": null,
   "id": "4480f912",
   "metadata": {},
   "outputs": [],
   "source": []
  },
  {
   "cell_type": "code",
   "execution_count": null,
   "id": "81d4a823",
   "metadata": {},
   "outputs": [],
   "source": []
  },
  {
   "cell_type": "code",
   "execution_count": null,
   "id": "cb3ecc94",
   "metadata": {},
   "outputs": [],
   "source": [
    "\n",
    "class Modeling:\n",
    "    \n",
    "    def __init__(self):\n",
    "        # Assign an attribute \".data\" to all new instances of Preparation\n",
    "        #self.data = HomeCredit().get_data()['train'].copy() # good practice to be sure not to modify your `data` variable\n",
    "        \n",
    "        # Cleaning\n",
    "        self.data = Cleaning().remove_entries()\n",
    "        self.catcols = Preparation().get_catcols()\n",
    "        \n",
    "    \n",
    "    def cramers_val(self, col1, col2, margins=False): # df : dataframe\n",
    "        chisqt = pd.crosstab(self.data[col1], self.data[col2], margins=margins)\n",
    "        value = chisqt.to_numpy() \n",
    "\n",
    "        #Chi-squared test statistic, sample size, and minimum of rows and columns\n",
    "        X2 = chi2_contingency(value, correction=False)[0]\n",
    "        n = np.sum(value)\n",
    "        minDim = min(value.shape)-1\n",
    "\n",
    "        #calculate Cramer's V \n",
    "        V = np.sqrt((X2/n) / minDim) \n",
    "\n",
    "        return V\n",
    "    \n",
    "    # Plot of Heatmap of Cramer's V\n",
    "    def plot_heatmapCramerV(self):\n",
    "        L = len(self.catcols)\n",
    "        cramers_outputs = np.zeros((L,L))\n",
    "\n",
    "        for i,x in enumerate(self.catcols):\n",
    "            for j,y in enumerate(self.catcols):\n",
    "                result = round(self.cramers_val(x,y,margins=False),4)\n",
    "                cramers_outputs[i,j] = result\n",
    "                \n",
    "        fig = plt.figure(figsize = (8, 8))  # instanciate figure for heat map\n",
    "        ax = sns.heatmap(cramers_outputs, annot = True,  cmap = \"BuPu\", fmt=\".0%\", cbar = False)\n",
    "        ax.set_xticklabels(self.catcols)\n",
    "        ax.set_yticklabels(self.catcols)\n",
    "        ax.tick_params(axis = 'x', labelrotation = 90)\n",
    "        ax.tick_params(axis = 'y', labelrotation = 0)\n",
    "        ax.set_title(\"Heatmap of Cramer's V on categorical variables\");\n",
    "\n",
    "\n",
    "   "
   ]
  },
  {
   "cell_type": "code",
   "execution_count": null,
   "id": "c41f746d",
   "metadata": {},
   "outputs": [],
   "source": [
    "exp = Exploration()"
   ]
  },
  {
   "cell_type": "code",
   "execution_count": null,
   "id": "38f6da64",
   "metadata": {},
   "outputs": [],
   "source": [
    "exp.data.head(2)"
   ]
  },
  {
   "cell_type": "code",
   "execution_count": null,
   "id": "ba3d337c",
   "metadata": {},
   "outputs": [],
   "source": [
    "exp.data.shape"
   ]
  },
  {
   "cell_type": "code",
   "execution_count": null,
   "id": "fc411be4",
   "metadata": {},
   "outputs": [],
   "source": [
    "exp.categ_relation(col1=\"CODE_GENDER\", col2=\"NAME_CONTRACT_TYPE\")"
   ]
  },
  {
   "cell_type": "code",
   "execution_count": null,
   "id": "45f7be94",
   "metadata": {},
   "outputs": [],
   "source": [
    "exp.cramers_val(col1=\"CODE_GENDER\", col2=\"NAME_CONTRACT_TYPE\")"
   ]
  },
  {
   "cell_type": "code",
   "execution_count": null,
   "id": "da2cdedd",
   "metadata": {},
   "outputs": [],
   "source": [
    "exp.plot_heatmapCramerV()"
   ]
  },
  {
   "cell_type": "code",
   "execution_count": null,
   "id": "dfe980d8",
   "metadata": {},
   "outputs": [],
   "source": []
  }
 ],
 "metadata": {
  "kernelspec": {
   "display_name": "Python 3 (ipykernel)",
   "language": "python",
   "name": "python3"
  },
  "language_info": {
   "codemirror_mode": {
    "name": "ipython",
    "version": 3
   },
   "file_extension": ".py",
   "mimetype": "text/x-python",
   "name": "python",
   "nbconvert_exporter": "python",
   "pygments_lexer": "ipython3",
   "version": "3.8.6"
  },
  "toc": {
   "base_numbering": 1,
   "nav_menu": {},
   "number_sections": true,
   "sideBar": true,
   "skip_h1_title": false,
   "title_cell": "Table of Contents",
   "title_sidebar": "Contents",
   "toc_cell": false,
   "toc_position": {},
   "toc_section_display": true,
   "toc_window_display": false
  }
 },
 "nbformat": 4,
 "nbformat_minor": 5
}
