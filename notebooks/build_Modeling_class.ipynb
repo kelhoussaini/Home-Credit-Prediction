{
 "cells": [
  {
   "cell_type": "code",
   "execution_count": null,
   "id": "c1b2a8ca",
   "metadata": {},
   "outputs": [],
   "source": [
    "# Implement the Modeling class in Home-Credit-Prediction/homecredit/model.py"
   ]
  },
  {
   "cell_type": "code",
   "execution_count": 19,
   "id": "f3218917",
   "metadata": {},
   "outputs": [],
   "source": [
    "\n",
    "import os\n",
    "import sys\n",
    "import pandas as pd\n",
    "import numpy as np\n",
    "from scipy.stats import chi2_contingency # need this for chi-squared function\n",
    "from sklearn.preprocessing import OneHotEncoder\n",
    "from sklearn.model_selection import cross_val_score\n",
    "from sklearn.svm import SVC\n",
    "from sklearn.tree import DecisionTreeClassifier\n",
    "\n",
    "\n",
    "\n",
    "import seaborn as sns\n",
    "import matplotlib.pyplot as plt"
   ]
  },
  {
   "cell_type": "code",
   "execution_count": 2,
   "id": "fbad704e",
   "metadata": {},
   "outputs": [],
   "source": [
    "path_dir = (os.path.dirname(os.getcwd()))\n",
    "sys.path.append(path_dir)\n",
    "    \n",
    "from homecredit.data import HomeCredit\n",
    "from homecredit.preparation import Preparation\n",
    "from homecredit.cleaner import Cleaning\n",
    "from homecredit.exploration import Exploration"
   ]
  },
  {
   "cell_type": "code",
   "execution_count": 3,
   "id": "e8a06669",
   "metadata": {},
   "outputs": [
    {
     "data": {
      "text/plain": [
       "(91206, 122)"
      ]
     },
     "execution_count": 3,
     "metadata": {},
     "output_type": "execute_result"
    }
   ],
   "source": [
    "df = Cleaning().remove_entries()\n",
    "df.shape"
   ]
  },
  {
   "cell_type": "code",
   "execution_count": 4,
   "id": "0da9df4c",
   "metadata": {},
   "outputs": [],
   "source": [
    "#df.dtypes"
   ]
  },
  {
   "cell_type": "code",
   "execution_count": 5,
   "id": "5a7d643b",
   "metadata": {},
   "outputs": [],
   "source": [
    "catcols = Preparation().get_catcols() # categorical columns\n",
    "numcols = Preparation().get_numcols() # numerical columns"
   ]
  },
  {
   "cell_type": "code",
   "execution_count": 6,
   "id": "42310d35",
   "metadata": {},
   "outputs": [],
   "source": [
    "#df['a'] = df['a'].astype(float, errors = 'raise')"
   ]
  },
  {
   "cell_type": "code",
   "execution_count": 7,
   "id": "a9de919a",
   "metadata": {},
   "outputs": [],
   "source": [
    "#data = df.drop_duplicates(subset = df.columns)\n",
    "#data.shape"
   ]
  },
  {
   "cell_type": "code",
   "execution_count": 8,
   "id": "ded441ca",
   "metadata": {},
   "outputs": [
    {
     "name": "stderr",
     "output_type": "stream",
     "text": [
      "/Users/kenzaelhoussaini/.pyenv/versions/3.8.6/envs/lewagon/lib/python3.8/site-packages/pandas/core/frame.py:5171: SettingWithCopyWarning: \n",
      "A value is trying to be set on a copy of a slice from a DataFrame\n",
      "\n",
      "See the caveats in the documentation: https://pandas.pydata.org/pandas-docs/stable/user_guide/indexing.html#returning-a-view-versus-a-copy\n",
      "  return super().fillna(\n"
     ]
    }
   ],
   "source": [
    "df[catcols].fillna('', inplace=True)\n",
    "\n",
    "# Replace the NaNs in numerical column by the mean of values\n",
    "# in numerical column respectively\n",
    "df[numcols] = df[numcols].fillna(value=df[numcols].mean())"
   ]
  },
  {
   "cell_type": "code",
   "execution_count": 9,
   "id": "ab8becd5",
   "metadata": {},
   "outputs": [
    {
     "data": {
      "text/plain": [
       "SK_ID_CURR                      int64\n",
       "TARGET                          int64\n",
       "NAME_CONTRACT_TYPE             object\n",
       "CODE_GENDER                    object\n",
       "FLAG_OWN_CAR                   object\n",
       "                               ...   \n",
       "AMT_REQ_CREDIT_BUREAU_DAY     float64\n",
       "AMT_REQ_CREDIT_BUREAU_WEEK    float64\n",
       "AMT_REQ_CREDIT_BUREAU_MON     float64\n",
       "AMT_REQ_CREDIT_BUREAU_QRT     float64\n",
       "AMT_REQ_CREDIT_BUREAU_YEAR    float64\n",
       "Length: 122, dtype: object"
      ]
     },
     "execution_count": 9,
     "metadata": {},
     "output_type": "execute_result"
    }
   ],
   "source": [
    "df.dtypes"
   ]
  },
  {
   "cell_type": "code",
   "execution_count": 10,
   "id": "6e63f3c8",
   "metadata": {},
   "outputs": [
    {
     "data": {
      "text/plain": [
       "dtype('float64')"
      ]
     },
     "execution_count": 10,
     "metadata": {},
     "output_type": "execute_result"
    }
   ],
   "source": [
    "df['AMT_ANNUITY'].dtype"
   ]
  },
  {
   "cell_type": "code",
   "execution_count": null,
   "id": "6e2e8a89",
   "metadata": {},
   "outputs": [],
   "source": [
    "#catcols[:7]"
   ]
  },
  {
   "cell_type": "code",
   "execution_count": null,
   "id": "6ae1676b",
   "metadata": {},
   "outputs": [],
   "source": [
    "#catcols[7:]"
   ]
  },
  {
   "cell_type": "code",
   "execution_count": 11,
   "id": "1d3330d6",
   "metadata": {},
   "outputs": [],
   "source": [
    "def encoding_categ_column(df, cols):\n",
    "    \n",
    "    for col_name in cols:\n",
    "    \n",
    "        L = list(df[col_name].unique())\n",
    "        if '' in L:\n",
    "            df[col_name].replace(\"\", \"NoValue\", inplace=True) #Replace NaN by \"NoCodeNature\"\n",
    "\n",
    "        ohe = OneHotEncoder(sparse = False) # Instanciate encoder\n",
    "        ohe.fit(df[[col_name]]) # Fit encoder  ---> OneHotEncoder(sparse=False)\n",
    "\n",
    "        col_encoded = ohe.transform(df[[col_name]]) # Encode\n",
    "\n",
    "        dicts_col = {}\n",
    "        keys = list(ohe.categories_[0])\n",
    "        values = col_encoded.T.astype(int)\n",
    "\n",
    "        for i,j in enumerate(keys):\n",
    "            dicts_col[j] = values[i,:]\n",
    "\n",
    "        result = pd.DataFrame.from_dict(dicts_col)\n",
    "\n",
    "        df = df.reset_index(drop=True)\n",
    "\n",
    "        #Concat df and result dataframes\n",
    "        data_res = pd.concat([df, result], axis = 1)\n",
    "\n",
    "        if 'NoValue' in list(data_res.columns):\n",
    "            data_res = data_res.drop(columns= ['NoValue',col_name] )\n",
    "            df = data_res\n",
    "        else:\n",
    "            data_res = data_res.drop(columns= col_name)\n",
    "            df = data_res\n",
    "        \n",
    "    return df"
   ]
  },
  {
   "cell_type": "code",
   "execution_count": 12,
   "id": "02862977",
   "metadata": {},
   "outputs": [
    {
     "data": {
      "text/plain": [
       "(91206, 247)"
      ]
     },
     "execution_count": 12,
     "metadata": {},
     "output_type": "execute_result"
    }
   ],
   "source": [
    "encoded_df = encoding_categ_column(df = df,\n",
    "                                   cols = catcols)\n",
    "encoded_df.shape"
   ]
  },
  {
   "cell_type": "code",
   "execution_count": 14,
   "id": "2fe57875",
   "metadata": {},
   "outputs": [
    {
     "name": "stdout",
     "output_type": "stream",
     "text": [
      "score :  0.9262734164526032\n",
      "Accuracy: 0.9216431547401506\n"
     ]
    }
   ],
   "source": [
    "# create X, y\n",
    "from sklearn.model_selection import train_test_split\n",
    "from sklearn import metrics\n",
    "from sklearn.neighbors import KNeighborsClassifier\n",
    "\n",
    "\n",
    "y = encoded_df.TARGET\n",
    "X = encoded_df.drop('TARGET', axis = 1)\n",
    "\n",
    "# Feature names\n",
    "#features = list(X.columns)\n",
    "\n",
    "# Se crean los datos de entrenamiento y de prueba para el entrenamiento y evaluación del modelo de Machine Learning\n",
    "X_train, X_test, y_train, y_test = train_test_split(X, y, test_size=0.3)\n",
    "\n",
    "# KNN model\n",
    "neigh = KNeighborsClassifier(n_neighbors=5)\n",
    "\n",
    "# Model fitting\n",
    "neigh.fit(X_train, y_train)\n",
    "\n",
    "#  baseline score\n",
    "score = neigh.score(X_train, y_train) # Score model\n",
    "print( \"score : \", score )\n",
    "\n",
    "# Se predicen los datos de prueba\n",
    "y_pred = neigh.predict(X_test)\n",
    "\n",
    "# Se calcula la exactitud del modelo\n",
    "print(\"Accuracy:\",metrics.accuracy_score(y_test, y_pred))\n",
    "\n"
   ]
  },
  {
   "cell_type": "code",
   "execution_count": 15,
   "id": "636f85ab",
   "metadata": {},
   "outputs": [
    {
     "data": {
      "text/plain": [
       "0.9204310530614264"
      ]
     },
     "execution_count": 15,
     "metadata": {},
     "output_type": "execute_result"
    }
   ],
   "source": [
    "# Se crean los datos de entrenamiento y de prueba para el entrenamiento y evaluación del modelo de Machine Learning\n",
    "#X_train, X_test, y_train, y_test = train_test_split(X, y, test_size=0.3)\n",
    "\n",
    "# Se crea el modelo KNN\n",
    "neigh = KNeighborsClassifier(n_neighbors=5)\n",
    "\n",
    "cross_val_score(neigh, X_train, y_train, cv=5).mean() \n",
    "\n"
   ]
  },
  {
   "cell_type": "code",
   "execution_count": 16,
   "id": "7fe26038",
   "metadata": {},
   "outputs": [],
   "source": [
    "scoring = ['roc_auc', 'accuracy']"
   ]
  },
  {
   "cell_type": "code",
   "execution_count": 18,
   "id": "d73c2b6f",
   "metadata": {},
   "outputs": [
    {
     "name": "stdout",
     "output_type": "stream",
     "text": [
      "roc_auc ----> 0.5277718867254786\n",
      "accuracy ----> 0.9204310530614264\n"
     ]
    }
   ],
   "source": [
    "for s in scoring:\n",
    "    neigh = KNeighborsClassifier(n_neighbors=5)\n",
    "    print(s, \"---->\", cross_val_score(neigh, X_train, y_train, cv=5, scoring=s).mean())\n"
   ]
  },
  {
   "cell_type": "code",
   "execution_count": null,
   "id": "12839e93",
   "metadata": {},
   "outputs": [],
   "source": [
    "#instanciation\n",
    "model_SVC = SVC( kernel = 'linear', gamma = 'scale', shrinking = False,)\n",
    "#training\n",
    "model_SVC.fit( X_train, y_train)\n",
    "#calcule de précision\n",
    "print(\"score: \",  model_SVC.score( X_test, y_test))\n",
    "\n",
    "# Se predicen los datos de prueba\n",
    "y_pred = model_SVC.predict(X_test)\n",
    "\n",
    "# Se calcula la exactitud del modelo\n",
    "print(\"Accuracy:\",metrics.accuracy_score(y_test, y_pred))"
   ]
  },
  {
   "cell_type": "code",
   "execution_count": null,
   "id": "6a1e8878",
   "metadata": {},
   "outputs": [],
   "source": [
    "#instanciation\n",
    "model_DT = DecisionTreeClassifier() \n",
    "\n",
    "#training\n",
    "model_DT.fit( X_train, y_train)\n",
    "#calcule de précision\n",
    "print(\"score: \",  model_DT.score( X_test, y_test))\n",
    "\n",
    "# Se predicen los datos de prueba\n",
    "y_pred = model_SVC.predict(X_test)\n",
    "\n",
    "# Se calcula la exactitud del modelo\n",
    "print(\"Accuracy:\",metrics.accuracy_score(y_test, y_pred))"
   ]
  },
  {
   "cell_type": "code",
   "execution_count": null,
   "id": "ebe713d8",
   "metadata": {},
   "outputs": [],
   "source": []
  },
  {
   "cell_type": "code",
   "execution_count": null,
   "id": "c15e0917",
   "metadata": {},
   "outputs": [],
   "source": []
  },
  {
   "cell_type": "code",
   "execution_count": null,
   "id": "ad1d9089",
   "metadata": {},
   "outputs": [],
   "source": []
  },
  {
   "cell_type": "code",
   "execution_count": null,
   "id": "cb3ecc94",
   "metadata": {},
   "outputs": [],
   "source": [
    "\n",
    "class Modeling:\n",
    "    \n",
    "    def __init__(self):\n",
    "        # Assign an attribute \".data\" to all new instances of Preparation\n",
    "        #self.data = HomeCredit().get_data()['train'].copy() # good practice to be sure not to modify your `data` variable\n",
    "        \n",
    "        # Cleaning\n",
    "        self.data = Cleaning().remove_entries()\n",
    "        self.catcols = Preparation().get_catcols()\n",
    "        \n",
    "    \n",
    "    def cramers_val(self, col1, col2, margins=False): # df : dataframe\n",
    "        chisqt = pd.crosstab(self.data[col1], self.data[col2], margins=margins)\n",
    "        value = chisqt.to_numpy() \n",
    "\n",
    "        #Chi-squared test statistic, sample size, and minimum of rows and columns\n",
    "        X2 = chi2_contingency(value, correction=False)[0]\n",
    "        n = np.sum(value)\n",
    "        minDim = min(value.shape)-1\n",
    "\n",
    "        #calculate Cramer's V \n",
    "        V = np.sqrt((X2/n) / minDim) \n",
    "\n",
    "        return V\n",
    "    \n",
    "    # Plot of Heatmap of Cramer's V\n",
    "    def plot_heatmapCramerV(self):\n",
    "        L = len(self.catcols)\n",
    "        cramers_outputs = np.zeros((L,L))\n",
    "\n",
    "        for i,x in enumerate(self.catcols):\n",
    "            for j,y in enumerate(self.catcols):\n",
    "                result = round(self.cramers_val(x,y,margins=False),4)\n",
    "                cramers_outputs[i,j] = result\n",
    "                \n",
    "        fig = plt.figure(figsize = (8, 8))  # instanciate figure for heat map\n",
    "        ax = sns.heatmap(cramers_outputs, annot = True,  cmap = \"BuPu\", fmt=\".0%\", cbar = False)\n",
    "        ax.set_xticklabels(self.catcols)\n",
    "        ax.set_yticklabels(self.catcols)\n",
    "        ax.tick_params(axis = 'x', labelrotation = 90)\n",
    "        ax.tick_params(axis = 'y', labelrotation = 0)\n",
    "        ax.set_title(\"Heatmap of Cramer's V on categorical variables\");\n",
    "\n",
    "\n",
    "   "
   ]
  },
  {
   "cell_type": "code",
   "execution_count": null,
   "id": "c41f746d",
   "metadata": {},
   "outputs": [],
   "source": [
    "exp = Exploration()"
   ]
  },
  {
   "cell_type": "code",
   "execution_count": null,
   "id": "38f6da64",
   "metadata": {},
   "outputs": [],
   "source": [
    "exp.data.head(2)"
   ]
  },
  {
   "cell_type": "code",
   "execution_count": null,
   "id": "ba3d337c",
   "metadata": {},
   "outputs": [],
   "source": [
    "exp.data.shape"
   ]
  },
  {
   "cell_type": "code",
   "execution_count": null,
   "id": "fc411be4",
   "metadata": {},
   "outputs": [],
   "source": [
    "exp.categ_relation(col1=\"CODE_GENDER\", col2=\"NAME_CONTRACT_TYPE\")"
   ]
  },
  {
   "cell_type": "code",
   "execution_count": null,
   "id": "45f7be94",
   "metadata": {},
   "outputs": [],
   "source": [
    "exp.cramers_val(col1=\"CODE_GENDER\", col2=\"NAME_CONTRACT_TYPE\")"
   ]
  },
  {
   "cell_type": "code",
   "execution_count": null,
   "id": "da2cdedd",
   "metadata": {},
   "outputs": [],
   "source": [
    "exp.plot_heatmapCramerV()"
   ]
  },
  {
   "cell_type": "code",
   "execution_count": null,
   "id": "dfe980d8",
   "metadata": {},
   "outputs": [],
   "source": []
  }
 ],
 "metadata": {
  "kernelspec": {
   "display_name": "Python 3 (ipykernel)",
   "language": "python",
   "name": "python3"
  },
  "language_info": {
   "codemirror_mode": {
    "name": "ipython",
    "version": 3
   },
   "file_extension": ".py",
   "mimetype": "text/x-python",
   "name": "python",
   "nbconvert_exporter": "python",
   "pygments_lexer": "ipython3",
   "version": "3.8.6"
  },
  "toc": {
   "base_numbering": 1,
   "nav_menu": {},
   "number_sections": true,
   "sideBar": true,
   "skip_h1_title": false,
   "title_cell": "Table of Contents",
   "title_sidebar": "Contents",
   "toc_cell": false,
   "toc_position": {},
   "toc_section_display": true,
   "toc_window_display": false
  }
 },
 "nbformat": 4,
 "nbformat_minor": 5
}
